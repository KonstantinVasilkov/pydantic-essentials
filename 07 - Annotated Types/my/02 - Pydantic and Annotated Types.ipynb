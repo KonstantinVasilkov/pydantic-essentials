{
 "cells": [
  {
   "metadata": {
    "ExecuteTime": {
     "end_time": "2024-11-28T19:49:01.691661Z",
     "start_time": "2024-11-28T19:49:01.690040Z"
    }
   },
   "cell_type": "code",
   "source": "",
   "id": "dc66520de5102c75",
   "outputs": [],
   "execution_count": null
  },
  {
   "metadata": {
    "ExecuteTime": {
     "end_time": "2024-11-28T19:49:01.697124Z",
     "start_time": "2024-11-28T19:49:01.695303Z"
    }
   },
   "cell_type": "code",
   "source": "from typing import Annotated",
   "id": "b43c34f0d24210dc",
   "outputs": [],
   "execution_count": 1
  },
  {
   "metadata": {
    "ExecuteTime": {
     "end_time": "2024-11-28T19:49:01.788099Z",
     "start_time": "2024-11-28T19:49:01.786668Z"
    }
   },
   "cell_type": "code",
   "source": "SpecialInt = Annotated[int, \"SpecialInt\", [1, 2, 3, 4, 5, 6, 7, 8], 100]",
   "id": "6fd4d36262ee15e",
   "outputs": [],
   "execution_count": 2
  },
  {
   "metadata": {
    "ExecuteTime": {
     "end_time": "2024-11-28T19:49:01.795490Z",
     "start_time": "2024-11-28T19:49:01.794183Z"
    }
   },
   "cell_type": "code",
   "source": "from typing import get_args",
   "id": "db9eeeb4b87db2ba",
   "outputs": [],
   "execution_count": 3
  },
  {
   "metadata": {
    "ExecuteTime": {
     "end_time": "2024-11-28T19:49:01.802652Z",
     "start_time": "2024-11-28T19:49:01.799516Z"
    }
   },
   "cell_type": "code",
   "source": "get_args(SpecialInt)",
   "id": "e4bb080e87e0959",
   "outputs": [
    {
     "data": {
      "text/plain": [
       "(int, 'SpecialInt', [1, 2, 3, 4, 5, 6, 7, 8], 100)"
      ]
     },
     "execution_count": 4,
     "metadata": {},
     "output_type": "execute_result"
    }
   ],
   "execution_count": 4
  },
  {
   "metadata": {
    "ExecuteTime": {
     "end_time": "2024-11-28T19:49:01.865353Z",
     "start_time": "2024-11-28T19:49:01.826332Z"
    }
   },
   "cell_type": "code",
   "source": "from pydantic import BaseModel, Field",
   "id": "3173dcbae2d8ab1d",
   "outputs": [],
   "execution_count": 5
  },
  {
   "metadata": {
    "ExecuteTime": {
     "end_time": "2024-11-28T19:49:01.899022Z",
     "start_time": "2024-11-28T19:49:01.871655Z"
    }
   },
   "cell_type": "code",
   "source": [
    "class Model(BaseModel):\n",
    "    x: int = Field(ge=0, le=100)\n",
    "    y: int = Field(ge=0, le=100)\n",
    "    z: int = Field(ge=0, le=100)"
   ],
   "id": "ea1f93890caf18d1",
   "outputs": [],
   "execution_count": 6
  },
  {
   "metadata": {
    "ExecuteTime": {
     "end_time": "2024-11-28T19:49:01.904015Z",
     "start_time": "2024-11-28T19:49:01.902156Z"
    }
   },
   "cell_type": "code",
   "source": "Model.model_fields",
   "id": "1e8eaafd996cba3b",
   "outputs": [
    {
     "data": {
      "text/plain": [
       "{'x': FieldInfo(annotation=int, required=True, metadata=[Ge(ge=0), Le(le=100)]),\n",
       " 'y': FieldInfo(annotation=int, required=True, metadata=[Ge(ge=0), Le(le=100)]),\n",
       " 'z': FieldInfo(annotation=int, required=True, metadata=[Ge(ge=0), Le(le=100)])}"
      ]
     },
     "execution_count": 7,
     "metadata": {},
     "output_type": "execute_result"
    }
   ],
   "execution_count": 7
  },
  {
   "metadata": {
    "ExecuteTime": {
     "end_time": "2024-11-28T19:49:01.922616Z",
     "start_time": "2024-11-28T19:49:01.920864Z"
    }
   },
   "cell_type": "code",
   "source": "BoundedInt = Annotated[int, Field(ge=0, le=100)]",
   "id": "b2c896c644c2680d",
   "outputs": [],
   "execution_count": 8
  },
  {
   "metadata": {
    "ExecuteTime": {
     "end_time": "2024-11-28T19:49:01.959918Z",
     "start_time": "2024-11-28T19:49:01.957850Z"
    }
   },
   "cell_type": "code",
   "source": [
    "class Model(BaseModel):\n",
    "    x: BoundedInt\n",
    "    y: BoundedInt\n",
    "    z: BoundedInt"
   ],
   "id": "92b39eaf6f52f53",
   "outputs": [],
   "execution_count": 9
  },
  {
   "metadata": {
    "ExecuteTime": {
     "end_time": "2024-11-28T19:49:01.978568Z",
     "start_time": "2024-11-28T19:49:01.976626Z"
    }
   },
   "cell_type": "code",
   "source": "Model.model_fields",
   "id": "31bc9e56630991aa",
   "outputs": [
    {
     "data": {
      "text/plain": [
       "{'x': FieldInfo(annotation=int, required=True, metadata=[Ge(ge=0), Le(le=100)]),\n",
       " 'y': FieldInfo(annotation=int, required=True, metadata=[Ge(ge=0), Le(le=100)]),\n",
       " 'z': FieldInfo(annotation=int, required=True, metadata=[Ge(ge=0), Le(le=100)])}"
      ]
     },
     "execution_count": 10,
     "metadata": {},
     "output_type": "execute_result"
    }
   ],
   "execution_count": 10
  },
  {
   "metadata": {
    "ExecuteTime": {
     "end_time": "2024-11-28T19:49:02.002308Z",
     "start_time": "2024-11-28T19:49:02.000125Z"
    }
   },
   "cell_type": "code",
   "source": "Model(x=1, y=2, z=3)",
   "id": "6568651dd8ed250a",
   "outputs": [
    {
     "data": {
      "text/plain": [
       "Model(x=1, y=2, z=3)"
      ]
     },
     "execution_count": 11,
     "metadata": {},
     "output_type": "execute_result"
    }
   ],
   "execution_count": 11
  },
  {
   "metadata": {
    "ExecuteTime": {
     "end_time": "2024-11-28T19:49:02.027637Z",
     "start_time": "2024-11-28T19:49:02.025923Z"
    }
   },
   "cell_type": "code",
   "source": [
    "try:\n",
    "    Model(x=-1, y=200, z=300)\n",
    "except ValueError as e:\n",
    "    print(e)"
   ],
   "id": "2e118b948ddb1278",
   "outputs": [
    {
     "name": "stdout",
     "output_type": "stream",
     "text": [
      "3 validation errors for Model\n",
      "x\n",
      "  Input should be greater than or equal to 0 [type=greater_than_equal, input_value=-1, input_type=int]\n",
      "    For further information visit https://errors.pydantic.dev/2.9/v/greater_than_equal\n",
      "y\n",
      "  Input should be less than or equal to 100 [type=less_than_equal, input_value=200, input_type=int]\n",
      "    For further information visit https://errors.pydantic.dev/2.9/v/less_than_equal\n",
      "z\n",
      "  Input should be less than or equal to 100 [type=less_than_equal, input_value=300, input_type=int]\n",
      "    For further information visit https://errors.pydantic.dev/2.9/v/less_than_equal\n"
     ]
    }
   ],
   "execution_count": 12
  },
  {
   "metadata": {
    "ExecuteTime": {
     "end_time": "2024-11-28T19:49:02.045477Z",
     "start_time": "2024-11-28T19:49:02.043111Z"
    }
   },
   "cell_type": "code",
   "source": [
    "class Model(BaseModel):\n",
    "    field: Annotated[int, Field(gt=0)] = 1\n",
    "    field2: Annotated[str, Field(min_length=1, max_length=10)] | None = None"
   ],
   "id": "1cf7d79f3f2eb3d8",
   "outputs": [],
   "execution_count": 13
  },
  {
   "metadata": {
    "ExecuteTime": {
     "end_time": "2024-11-28T19:49:02.054229Z",
     "start_time": "2024-11-28T19:49:02.052408Z"
    }
   },
   "cell_type": "code",
   "source": "Model()",
   "id": "5430fa1278b0251e",
   "outputs": [
    {
     "data": {
      "text/plain": [
       "Model(field=1, field2=None)"
      ]
     },
     "execution_count": 14,
     "metadata": {},
     "output_type": "execute_result"
    }
   ],
   "execution_count": 14
  }
 ],
 "metadata": {
  "kernelspec": {
   "name": "python3",
   "language": "python",
   "display_name": "Python 3 (ipykernel)"
  }
 },
 "nbformat": 5,
 "nbformat_minor": 9
}
