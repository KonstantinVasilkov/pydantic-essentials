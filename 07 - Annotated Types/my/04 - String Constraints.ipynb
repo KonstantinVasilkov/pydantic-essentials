{
 "cells": [
  {
   "metadata": {
    "ExecuteTime": {
     "end_time": "2024-11-28T20:03:11.668711Z",
     "start_time": "2024-11-28T20:03:11.665449Z"
    }
   },
   "cell_type": "code",
   "source": "from pydantic import BaseModel, Field, ValidationError, StringConstraints",
   "id": "159ad4ccfe806580",
   "outputs": [],
   "execution_count": 21
  },
  {
   "metadata": {
    "ExecuteTime": {
     "end_time": "2024-11-28T19:59:40.211125Z",
     "start_time": "2024-11-28T19:59:40.206185Z"
    }
   },
   "cell_type": "code",
   "source": [
    "class Model(BaseModel):\n",
    "    name: str = Field(min_length=2, max_length=5)"
   ],
   "id": "c805ac438a4168ca",
   "outputs": [],
   "execution_count": 18
  },
  {
   "metadata": {
    "ExecuteTime": {
     "end_time": "2024-11-28T20:02:50.187528Z",
     "start_time": "2024-11-28T20:02:50.182553Z"
    }
   },
   "cell_type": "code",
   "source": "from typing import Annotated",
   "id": "9e1eb94b8a75231e",
   "outputs": [],
   "execution_count": 19
  },
  {
   "metadata": {
    "ExecuteTime": {
     "end_time": "2024-11-28T20:04:13.259436Z",
     "start_time": "2024-11-28T20:04:13.254664Z"
    }
   },
   "cell_type": "code",
   "source": [
    "StandardString = Annotated[\n",
    "    str,\n",
    "    StringConstraints(to_lower=True, min_length=2, strip_whitespace=True),\n",
    "]"
   ],
   "id": "81142df196fa142e",
   "outputs": [],
   "execution_count": 22
  },
  {
   "metadata": {
    "ExecuteTime": {
     "end_time": "2024-11-28T20:04:34.259338Z",
     "start_time": "2024-11-28T20:04:34.253459Z"
    }
   },
   "cell_type": "code",
   "source": [
    "class Model(BaseModel):\n",
    "    name: StandardString | None = None"
   ],
   "id": "620f15b367c635b7",
   "outputs": [],
   "execution_count": 23
  },
  {
   "metadata": {
    "ExecuteTime": {
     "end_time": "2024-11-28T20:05:21.585084Z",
     "start_time": "2024-11-28T20:05:21.582273Z"
    }
   },
   "cell_type": "code",
   "source": "Model(name=\"alkfdjh aKLJ:OIF  P{FAS        \")",
   "id": "2216c3e8f8a1e10d",
   "outputs": [
    {
     "data": {
      "text/plain": [
       "Model(name='alkfdjh aklj:oif  p{fas')"
      ]
     },
     "execution_count": 26,
     "metadata": {},
     "output_type": "execute_result"
    }
   ],
   "execution_count": 26
  },
  {
   "metadata": {
    "ExecuteTime": {
     "end_time": "2024-11-28T20:05:36.594761Z",
     "start_time": "2024-11-28T20:05:36.476443Z"
    }
   },
   "cell_type": "code",
   "source": "Model(name=\"    a        \")",
   "id": "2f9bfd873efa7ad5",
   "outputs": [
    {
     "ename": "ValidationError",
     "evalue": "1 validation error for Model\nname\n  String should have at least 2 characters [type=string_too_short, input_value='    a        ', input_type=str]\n    For further information visit https://errors.pydantic.dev/2.9/v/string_too_short",
     "output_type": "error",
     "traceback": [
      "\u001B[0;31m---------------------------------------------------------------------------\u001B[0m",
      "\u001B[0;31mValidationError\u001B[0m                           Traceback (most recent call last)",
      "Cell \u001B[0;32mIn[27], line 1\u001B[0m\n\u001B[0;32m----> 1\u001B[0m \u001B[43mModel\u001B[49m\u001B[43m(\u001B[49m\u001B[43mname\u001B[49m\u001B[38;5;241;43m=\u001B[39;49m\u001B[38;5;124;43m\"\u001B[39;49m\u001B[38;5;124;43m    a        \u001B[39;49m\u001B[38;5;124;43m\"\u001B[39;49m\u001B[43m)\u001B[49m\n",
      "File \u001B[0;32m~/Dev/pydantic-essentials/venv/lib/python3.12/site-packages/pydantic/main.py:212\u001B[0m, in \u001B[0;36mBaseModel.__init__\u001B[0;34m(self, **data)\u001B[0m\n\u001B[1;32m    210\u001B[0m \u001B[38;5;66;03m# `__tracebackhide__` tells pytest and some other tools to omit this function from tracebacks\u001B[39;00m\n\u001B[1;32m    211\u001B[0m __tracebackhide__ \u001B[38;5;241m=\u001B[39m \u001B[38;5;28;01mTrue\u001B[39;00m\n\u001B[0;32m--> 212\u001B[0m validated_self \u001B[38;5;241m=\u001B[39m \u001B[38;5;28;43mself\u001B[39;49m\u001B[38;5;241;43m.\u001B[39;49m\u001B[43m__pydantic_validator__\u001B[49m\u001B[38;5;241;43m.\u001B[39;49m\u001B[43mvalidate_python\u001B[49m\u001B[43m(\u001B[49m\u001B[43mdata\u001B[49m\u001B[43m,\u001B[49m\u001B[43m \u001B[49m\u001B[43mself_instance\u001B[49m\u001B[38;5;241;43m=\u001B[39;49m\u001B[38;5;28;43mself\u001B[39;49m\u001B[43m)\u001B[49m\n\u001B[1;32m    213\u001B[0m \u001B[38;5;28;01mif\u001B[39;00m \u001B[38;5;28mself\u001B[39m \u001B[38;5;129;01mis\u001B[39;00m \u001B[38;5;129;01mnot\u001B[39;00m validated_self:\n\u001B[1;32m    214\u001B[0m     warnings\u001B[38;5;241m.\u001B[39mwarn(\n\u001B[1;32m    215\u001B[0m         \u001B[38;5;124m'\u001B[39m\u001B[38;5;124mA custom validator is returning a value other than `self`.\u001B[39m\u001B[38;5;130;01m\\n\u001B[39;00m\u001B[38;5;124m'\u001B[39m\n\u001B[1;32m    216\u001B[0m         \u001B[38;5;124m\"\u001B[39m\u001B[38;5;124mReturning anything other than `self` from a top level model validator isn\u001B[39m\u001B[38;5;124m'\u001B[39m\u001B[38;5;124mt supported when validating via `__init__`.\u001B[39m\u001B[38;5;130;01m\\n\u001B[39;00m\u001B[38;5;124m\"\u001B[39m\n\u001B[1;32m    217\u001B[0m         \u001B[38;5;124m'\u001B[39m\u001B[38;5;124mSee the `model_validator` docs (https://docs.pydantic.dev/latest/concepts/validators/#model-validators) for more details.\u001B[39m\u001B[38;5;124m'\u001B[39m,\n\u001B[1;32m    218\u001B[0m         category\u001B[38;5;241m=\u001B[39m\u001B[38;5;28;01mNone\u001B[39;00m,\n\u001B[1;32m    219\u001B[0m     )\n",
      "\u001B[0;31mValidationError\u001B[0m: 1 validation error for Model\nname\n  String should have at least 2 characters [type=string_too_short, input_value='    a        ', input_type=str]\n    For further information visit https://errors.pydantic.dev/2.9/v/string_too_short"
     ]
    }
   ],
   "execution_count": 27
  }
 ],
 "metadata": {
  "kernelspec": {
   "name": "python3",
   "language": "python",
   "display_name": "Python 3 (ipykernel)"
  }
 },
 "nbformat": 5,
 "nbformat_minor": 9
}
