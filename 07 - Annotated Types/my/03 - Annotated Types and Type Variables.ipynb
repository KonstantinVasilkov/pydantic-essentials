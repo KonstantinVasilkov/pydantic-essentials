{
 "cells": [
  {
   "metadata": {
    "ExecuteTime": {
     "end_time": "2024-11-28T19:49:52.802235Z",
     "start_time": "2024-11-28T19:49:52.759160Z"
    }
   },
   "cell_type": "code",
   "source": [
    "from typing import Annotated\n",
    "\n",
    "from pydantic import BaseModel, Field, ValidationError"
   ],
   "id": "752ccb2b0b3801bd",
   "outputs": [],
   "execution_count": 1
  },
  {
   "metadata": {
    "ExecuteTime": {
     "end_time": "2024-11-28T19:50:53.514908Z",
     "start_time": "2024-11-28T19:50:53.463956Z"
    }
   },
   "cell_type": "code",
   "source": [
    "class Model(BaseModel):\n",
    "    elements: list[int] = Field(default=[], max_length=10)"
   ],
   "id": "40c9bfad7b9cf623",
   "outputs": [],
   "execution_count": 2
  },
  {
   "metadata": {
    "ExecuteTime": {
     "end_time": "2024-11-28T19:51:14.943201Z",
     "start_time": "2024-11-28T19:51:14.915580Z"
    }
   },
   "cell_type": "code",
   "source": [
    "m = Model(elements=[1, 2, 3])\n",
    "m"
   ],
   "id": "84efabf23f548db9",
   "outputs": [
    {
     "data": {
      "text/plain": [
       "Model(elements=[1, 2, 3])"
      ]
     },
     "execution_count": 3,
     "metadata": {},
     "output_type": "execute_result"
    }
   ],
   "execution_count": 3
  },
  {
   "metadata": {
    "ExecuteTime": {
     "end_time": "2024-11-28T19:51:44.370885Z",
     "start_time": "2024-11-28T19:51:44.365986Z"
    }
   },
   "cell_type": "code",
   "source": [
    "try:\n",
    "    Model(elements=[1, 2, 3]*20)\n",
    "except ValidationError as e:\n",
    "    print(e)\n"
   ],
   "id": "a0ea31bcb128feea",
   "outputs": [
    {
     "name": "stdout",
     "output_type": "stream",
     "text": [
      "1 validation error for Model\n",
      "elements\n",
      "  List should have at most 10 items after validation, not 60 [type=too_long, input_value=[1, 2, 3, 1, 2, 3, 1, 2, ... 2, 3, 1, 2, 3, 1, 2, 3], input_type=list]\n",
      "    For further information visit https://errors.pydantic.dev/2.9/v/too_long\n"
     ]
    }
   ],
   "execution_count": 4
  },
  {
   "metadata": {
    "ExecuteTime": {
     "end_time": "2024-11-28T19:52:28.021973Z",
     "start_time": "2024-11-28T19:52:28.013412Z"
    }
   },
   "cell_type": "code",
   "source": "BoundedListInt = Annotated[list[int], Field(max_length=10)]",
   "id": "af8b87fe4de0791a",
   "outputs": [],
   "execution_count": 5
  },
  {
   "metadata": {
    "ExecuteTime": {
     "end_time": "2024-11-28T19:52:54.805590Z",
     "start_time": "2024-11-28T19:52:54.798730Z"
    }
   },
   "cell_type": "code",
   "source": [
    "class Model(BaseModel):\n",
    "    field_1: BoundedListInt = []\n",
    "    field_2: BoundedListInt = []"
   ],
   "id": "e31f924377c1259e",
   "outputs": [],
   "execution_count": 6
  },
  {
   "metadata": {
    "ExecuteTime": {
     "end_time": "2024-11-28T19:53:41.717571Z",
     "start_time": "2024-11-28T19:53:41.713647Z"
    }
   },
   "cell_type": "code",
   "source": "BoundedListFloat = Annotated[list[float], Field(max_length=10)]",
   "id": "ac326d5117dcfca",
   "outputs": [],
   "execution_count": 7
  },
  {
   "metadata": {
    "ExecuteTime": {
     "end_time": "2024-11-28T19:53:53.288271Z",
     "start_time": "2024-11-28T19:53:53.285566Z"
    }
   },
   "cell_type": "code",
   "source": "BoundedListString = Annotated[list[str], Field(max_length=10)]",
   "id": "be14e4accd936a3b",
   "outputs": [],
   "execution_count": 8
  },
  {
   "metadata": {
    "ExecuteTime": {
     "end_time": "2024-11-28T19:55:04.471963Z",
     "start_time": "2024-11-28T19:55:04.463216Z"
    }
   },
   "cell_type": "code",
   "source": "from typing import TypeVar",
   "id": "76c967a4d814e85d",
   "outputs": [],
   "execution_count": 9
  },
  {
   "metadata": {
    "ExecuteTime": {
     "end_time": "2024-11-28T19:55:13.117232Z",
     "start_time": "2024-11-28T19:55:13.113817Z"
    }
   },
   "cell_type": "code",
   "source": "T = TypeVar('T')",
   "id": "a262e3314db90c24",
   "outputs": [],
   "execution_count": 10
  },
  {
   "metadata": {
    "ExecuteTime": {
     "end_time": "2024-11-28T19:55:28.236021Z",
     "start_time": "2024-11-28T19:55:28.232096Z"
    }
   },
   "cell_type": "code",
   "source": "BoundedList = Annotated[list[T], Field(max_length=10)]",
   "id": "c13820a3c156d625",
   "outputs": [],
   "execution_count": 11
  },
  {
   "metadata": {
    "ExecuteTime": {
     "end_time": "2024-11-28T19:55:39.970816Z",
     "start_time": "2024-11-28T19:55:39.964996Z"
    }
   },
   "cell_type": "code",
   "source": "BoundedList[int]",
   "id": "9804e97bdce6ce1e",
   "outputs": [
    {
     "data": {
      "text/plain": [
       "typing.Annotated[list[int], FieldInfo(annotation=NoneType, required=True, metadata=[MaxLen(max_length=10)])]"
      ]
     },
     "execution_count": 12,
     "metadata": {},
     "output_type": "execute_result"
    }
   ],
   "execution_count": 12
  },
  {
   "metadata": {
    "ExecuteTime": {
     "end_time": "2024-11-28T19:56:47.957411Z",
     "start_time": "2024-11-28T19:56:47.941885Z"
    }
   },
   "cell_type": "code",
   "source": [
    "class Model(BaseModel):\n",
    "    integers: BoundedList[int] = []\n",
    "    strings: BoundedList[str] = list(\"python\")\n"
   ],
   "id": "d97f5082137d8fe0",
   "outputs": [],
   "execution_count": 13
  },
  {
   "metadata": {
    "ExecuteTime": {
     "end_time": "2024-11-28T19:56:54.181778Z",
     "start_time": "2024-11-28T19:56:54.178791Z"
    }
   },
   "cell_type": "code",
   "source": "Model()",
   "id": "857878de9fda7609",
   "outputs": [
    {
     "data": {
      "text/plain": [
       "Model(integers=[], strings=['p', 'y', 't', 'h', 'o', 'n'])"
      ]
     },
     "execution_count": 15,
     "metadata": {},
     "output_type": "execute_result"
    }
   ],
   "execution_count": 15
  },
  {
   "metadata": {
    "ExecuteTime": {
     "end_time": "2024-11-28T19:57:29.339576Z",
     "start_time": "2024-11-28T19:57:29.333760Z"
    }
   },
   "cell_type": "code",
   "source": "Model(integers=[1.0, 2.0, 3.0], strings=[\"python\", \"go\"])",
   "id": "5b93e8570be5c4bb",
   "outputs": [
    {
     "data": {
      "text/plain": [
       "Model(integers=[1, 2, 3], strings=['python', 'go'])"
      ]
     },
     "execution_count": 16,
     "metadata": {},
     "output_type": "execute_result"
    }
   ],
   "execution_count": 16
  },
  {
   "metadata": {
    "ExecuteTime": {
     "end_time": "2024-11-28T19:57:52.201439Z",
     "start_time": "2024-11-28T19:57:52.084335Z"
    }
   },
   "cell_type": "code",
   "source": "Model(integers=[1.45, 2.0, 3.0], strings=[\"python\", \"go\"])",
   "id": "63e164ffa6c18ff1",
   "outputs": [
    {
     "ename": "ValidationError",
     "evalue": "1 validation error for Model\nintegers.0\n  Input should be a valid integer, got a number with a fractional part [type=int_from_float, input_value=1.45, input_type=float]\n    For further information visit https://errors.pydantic.dev/2.9/v/int_from_float",
     "output_type": "error",
     "traceback": [
      "\u001B[0;31m---------------------------------------------------------------------------\u001B[0m",
      "\u001B[0;31mValidationError\u001B[0m                           Traceback (most recent call last)",
      "Cell \u001B[0;32mIn[17], line 1\u001B[0m\n\u001B[0;32m----> 1\u001B[0m \u001B[43mModel\u001B[49m\u001B[43m(\u001B[49m\u001B[43mintegers\u001B[49m\u001B[38;5;241;43m=\u001B[39;49m\u001B[43m[\u001B[49m\u001B[38;5;241;43m1.45\u001B[39;49m\u001B[43m,\u001B[49m\u001B[43m \u001B[49m\u001B[38;5;241;43m2.0\u001B[39;49m\u001B[43m,\u001B[49m\u001B[43m \u001B[49m\u001B[38;5;241;43m3.0\u001B[39;49m\u001B[43m]\u001B[49m\u001B[43m,\u001B[49m\u001B[43m \u001B[49m\u001B[43mstrings\u001B[49m\u001B[38;5;241;43m=\u001B[39;49m\u001B[43m[\u001B[49m\u001B[38;5;124;43m\"\u001B[39;49m\u001B[38;5;124;43mpython\u001B[39;49m\u001B[38;5;124;43m\"\u001B[39;49m\u001B[43m,\u001B[49m\u001B[43m \u001B[49m\u001B[38;5;124;43m\"\u001B[39;49m\u001B[38;5;124;43mgo\u001B[39;49m\u001B[38;5;124;43m\"\u001B[39;49m\u001B[43m]\u001B[49m\u001B[43m)\u001B[49m\n",
      "File \u001B[0;32m~/Dev/pydantic-essentials/venv/lib/python3.12/site-packages/pydantic/main.py:212\u001B[0m, in \u001B[0;36mBaseModel.__init__\u001B[0;34m(self, **data)\u001B[0m\n\u001B[1;32m    210\u001B[0m \u001B[38;5;66;03m# `__tracebackhide__` tells pytest and some other tools to omit this function from tracebacks\u001B[39;00m\n\u001B[1;32m    211\u001B[0m __tracebackhide__ \u001B[38;5;241m=\u001B[39m \u001B[38;5;28;01mTrue\u001B[39;00m\n\u001B[0;32m--> 212\u001B[0m validated_self \u001B[38;5;241m=\u001B[39m \u001B[38;5;28;43mself\u001B[39;49m\u001B[38;5;241;43m.\u001B[39;49m\u001B[43m__pydantic_validator__\u001B[49m\u001B[38;5;241;43m.\u001B[39;49m\u001B[43mvalidate_python\u001B[49m\u001B[43m(\u001B[49m\u001B[43mdata\u001B[49m\u001B[43m,\u001B[49m\u001B[43m \u001B[49m\u001B[43mself_instance\u001B[49m\u001B[38;5;241;43m=\u001B[39;49m\u001B[38;5;28;43mself\u001B[39;49m\u001B[43m)\u001B[49m\n\u001B[1;32m    213\u001B[0m \u001B[38;5;28;01mif\u001B[39;00m \u001B[38;5;28mself\u001B[39m \u001B[38;5;129;01mis\u001B[39;00m \u001B[38;5;129;01mnot\u001B[39;00m validated_self:\n\u001B[1;32m    214\u001B[0m     warnings\u001B[38;5;241m.\u001B[39mwarn(\n\u001B[1;32m    215\u001B[0m         \u001B[38;5;124m'\u001B[39m\u001B[38;5;124mA custom validator is returning a value other than `self`.\u001B[39m\u001B[38;5;130;01m\\n\u001B[39;00m\u001B[38;5;124m'\u001B[39m\n\u001B[1;32m    216\u001B[0m         \u001B[38;5;124m\"\u001B[39m\u001B[38;5;124mReturning anything other than `self` from a top level model validator isn\u001B[39m\u001B[38;5;124m'\u001B[39m\u001B[38;5;124mt supported when validating via `__init__`.\u001B[39m\u001B[38;5;130;01m\\n\u001B[39;00m\u001B[38;5;124m\"\u001B[39m\n\u001B[1;32m    217\u001B[0m         \u001B[38;5;124m'\u001B[39m\u001B[38;5;124mSee the `model_validator` docs (https://docs.pydantic.dev/latest/concepts/validators/#model-validators) for more details.\u001B[39m\u001B[38;5;124m'\u001B[39m,\n\u001B[1;32m    218\u001B[0m         category\u001B[38;5;241m=\u001B[39m\u001B[38;5;28;01mNone\u001B[39;00m,\n\u001B[1;32m    219\u001B[0m     )\n",
      "\u001B[0;31mValidationError\u001B[0m: 1 validation error for Model\nintegers.0\n  Input should be a valid integer, got a number with a fractional part [type=int_from_float, input_value=1.45, input_type=float]\n    For further information visit https://errors.pydantic.dev/2.9/v/int_from_float"
     ]
    }
   ],
   "execution_count": 17
  }
 ],
 "metadata": {
  "kernelspec": {
   "name": "python3",
   "language": "python",
   "display_name": "Python 3 (ipykernel)"
  }
 },
 "nbformat": 5,
 "nbformat_minor": 9
}
