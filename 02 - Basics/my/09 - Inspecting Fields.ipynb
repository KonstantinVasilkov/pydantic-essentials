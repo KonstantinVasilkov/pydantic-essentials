{
 "cells": [
  {
   "cell_type": "code",
   "id": "initial_id",
   "metadata": {
    "collapsed": true,
    "ExecuteTime": {
     "end_time": "2024-11-12T16:41:34.232243Z",
     "start_time": "2024-11-12T16:41:34.189960Z"
    }
   },
   "source": "from pydantic import BaseModel, ValidationError",
   "outputs": [],
   "execution_count": 1
  },
  {
   "metadata": {
    "ExecuteTime": {
     "end_time": "2024-11-12T16:43:03.338488Z",
     "start_time": "2024-11-12T16:43:03.331596Z"
    }
   },
   "cell_type": "code",
   "source": [
    "class Circle(BaseModel):\n",
    "    center_x: int = 0\n",
    "    center_y: int = 0\n",
    "    radius: int = 1\n",
    "    name: str | None = None\n"
   ],
   "id": "be399ae51db60a0a",
   "outputs": [],
   "execution_count": 4
  },
  {
   "metadata": {
    "ExecuteTime": {
     "end_time": "2024-11-12T16:43:05.528169Z",
     "start_time": "2024-11-12T16:43:05.522668Z"
    }
   },
   "cell_type": "code",
   "source": "Circle.model_fields",
   "id": "f66d1197ab26e16",
   "outputs": [
    {
     "data": {
      "text/plain": [
       "{'center_x': FieldInfo(annotation=int, required=False, default=0),\n",
       " 'center_y': FieldInfo(annotation=int, required=False, default=0),\n",
       " 'radius': FieldInfo(annotation=int, required=False, default=1),\n",
       " 'name': FieldInfo(annotation=Union[str, NoneType], required=False, default=None)}"
      ]
     },
     "execution_count": 5,
     "metadata": {},
     "output_type": "execute_result"
    }
   ],
   "execution_count": 5
  },
  {
   "metadata": {
    "ExecuteTime": {
     "end_time": "2024-11-12T16:45:25.781950Z",
     "start_time": "2024-11-12T16:45:25.778460Z"
    }
   },
   "cell_type": "code",
   "source": [
    "c1 = Circle(radius=1)\n",
    "c2 = Circle(name='name')\n",
    "c3 = Circle(radius=1, name='test')\n"
   ],
   "id": "9cc44fdeba20f7fd",
   "outputs": [],
   "execution_count": 12
  },
  {
   "metadata": {
    "ExecuteTime": {
     "end_time": "2024-11-12T16:43:44.394265Z",
     "start_time": "2024-11-12T16:43:44.385069Z"
    }
   },
   "cell_type": "code",
   "source": "c1",
   "id": "98dedcafa073d6ef",
   "outputs": [
    {
     "data": {
      "text/plain": [
       "Circle(center_x=0, center_y=0, radius=1, name=None)"
      ]
     },
     "execution_count": 7,
     "metadata": {},
     "output_type": "execute_result"
    }
   ],
   "execution_count": 7
  },
  {
   "metadata": {
    "ExecuteTime": {
     "end_time": "2024-11-12T16:43:49.991216Z",
     "start_time": "2024-11-12T16:43:49.985236Z"
    }
   },
   "cell_type": "code",
   "source": "c2",
   "id": "1d41692e335f3ce7",
   "outputs": [
    {
     "data": {
      "text/plain": [
       "Circle(center_x=0, center_y=0, radius=1, name='name')"
      ]
     },
     "execution_count": 8,
     "metadata": {},
     "output_type": "execute_result"
    }
   ],
   "execution_count": 8
  },
  {
   "metadata": {
    "ExecuteTime": {
     "end_time": "2024-11-12T16:44:12.414109Z",
     "start_time": "2024-11-12T16:44:12.407792Z"
    }
   },
   "cell_type": "code",
   "source": "c1.model_dump()",
   "id": "410de0640ee33f48",
   "outputs": [
    {
     "data": {
      "text/plain": [
       "{'center_x': 0, 'center_y': 0, 'radius': 1, 'name': None}"
      ]
     },
     "execution_count": 9,
     "metadata": {},
     "output_type": "execute_result"
    }
   ],
   "execution_count": 9
  },
  {
   "metadata": {
    "ExecuteTime": {
     "end_time": "2024-11-12T16:44:34.097985Z",
     "start_time": "2024-11-12T16:44:34.093227Z"
    }
   },
   "cell_type": "code",
   "source": "c1.model_fields_set",
   "id": "ce3bb1b9c8f96472",
   "outputs": [
    {
     "data": {
      "text/plain": [
       "{'radius'}"
      ]
     },
     "execution_count": 10,
     "metadata": {},
     "output_type": "execute_result"
    }
   ],
   "execution_count": 10
  },
  {
   "metadata": {
    "ExecuteTime": {
     "end_time": "2024-11-12T16:44:47.520089Z",
     "start_time": "2024-11-12T16:44:47.513496Z"
    }
   },
   "cell_type": "code",
   "source": "c2.model_fields_set",
   "id": "471561933d3bffa9",
   "outputs": [
    {
     "data": {
      "text/plain": [
       "{'name'}"
      ]
     },
     "execution_count": 11,
     "metadata": {},
     "output_type": "execute_result"
    }
   ],
   "execution_count": 11
  },
  {
   "metadata": {
    "ExecuteTime": {
     "end_time": "2024-11-12T16:45:31.708093Z",
     "start_time": "2024-11-12T16:45:31.700348Z"
    }
   },
   "cell_type": "code",
   "source": "c3.model_fields_set\n",
   "id": "61a845fa67ecf1e7",
   "outputs": [
    {
     "data": {
      "text/plain": [
       "{'name', 'radius'}"
      ]
     },
     "execution_count": 13,
     "metadata": {},
     "output_type": "execute_result"
    }
   ],
   "execution_count": 13
  },
  {
   "metadata": {
    "ExecuteTime": {
     "end_time": "2024-11-12T16:46:20.009555Z",
     "start_time": "2024-11-12T16:46:20.002804Z"
    }
   },
   "cell_type": "code",
   "source": "c1.model_fields.keys() - c1.model_fields_set",
   "id": "dd2f55cc8c0a5961",
   "outputs": [
    {
     "data": {
      "text/plain": [
       "{'center_x', 'center_y', 'name'}"
      ]
     },
     "execution_count": 14,
     "metadata": {},
     "output_type": "execute_result"
    }
   ],
   "execution_count": 14
  },
  {
   "metadata": {
    "ExecuteTime": {
     "end_time": "2024-11-12T16:48:06.012509Z",
     "start_time": "2024-11-12T16:48:06.001339Z"
    }
   },
   "cell_type": "code",
   "source": [
    "class Model(BaseModel):\n",
    "    field_1: int = 1\n",
    "    field_2: int | None = None\n",
    "    field_3: str\n",
    "    field_4: str | None = \"field_4\""
   ],
   "id": "1fac33e533887131",
   "outputs": [],
   "execution_count": 15
  },
  {
   "metadata": {},
   "cell_type": "code",
   "outputs": [],
   "execution_count": null,
   "source": "",
   "id": "1b589d7fc33a1a13"
  }
 ],
 "metadata": {
  "kernelspec": {
   "display_name": "Python 3",
   "language": "python",
   "name": "python3"
  },
  "language_info": {
   "codemirror_mode": {
    "name": "ipython",
    "version": 2
   },
   "file_extension": ".py",
   "mimetype": "text/x-python",
   "name": "python",
   "nbconvert_exporter": "python",
   "pygments_lexer": "ipython2",
   "version": "2.7.6"
  }
 },
 "nbformat": 4,
 "nbformat_minor": 5
}
