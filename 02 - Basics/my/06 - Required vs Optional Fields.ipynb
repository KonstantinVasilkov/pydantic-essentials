{
 "cells": [
  {
   "cell_type": "code",
   "id": "initial_id",
   "metadata": {
    "collapsed": true,
    "ExecuteTime": {
     "end_time": "2024-11-12T14:31:02.709412Z",
     "start_time": "2024-11-12T14:31:02.633001Z"
    }
   },
   "source": [
    "from pydantic import BaseModel, ValidationError, Field\n",
    "\n",
    "class Circle(BaseModel):\n",
    "    center: tuple[int, int]\n",
    "    radius: int"
   ],
   "outputs": [],
   "execution_count": 1
  },
  {
   "metadata": {
    "ExecuteTime": {
     "end_time": "2024-11-12T14:31:17.660920Z",
     "start_time": "2024-11-12T14:31:17.653613Z"
    }
   },
   "cell_type": "code",
   "source": "Circle.model_fields",
   "id": "17ac5196853824bc",
   "outputs": [
    {
     "data": {
      "text/plain": [
       "{'center': FieldInfo(annotation=tuple[int, int], required=True),\n",
       " 'radius': FieldInfo(annotation=int, required=True)}"
      ]
     },
     "execution_count": 2,
     "metadata": {},
     "output_type": "execute_result"
    }
   ],
   "execution_count": 2
  },
  {
   "metadata": {
    "ExecuteTime": {
     "end_time": "2024-11-12T14:31:41.962619Z",
     "start_time": "2024-11-12T14:31:41.956447Z"
    }
   },
   "cell_type": "code",
   "source": [
    "class Circle(BaseModel):\n",
    "    center: tuple[int, int] = (0, 0)\n",
    "    radius: int"
   ],
   "id": "b9ea8bc57cbb5a69",
   "outputs": [],
   "execution_count": 3
  },
  {
   "metadata": {
    "ExecuteTime": {
     "end_time": "2024-11-12T14:31:51.496169Z",
     "start_time": "2024-11-12T14:31:51.490816Z"
    }
   },
   "cell_type": "code",
   "source": "Circle.model_fields",
   "id": "a2f0a27579df9976",
   "outputs": [
    {
     "data": {
      "text/plain": [
       "{'center': FieldInfo(annotation=tuple[int, int], required=False, default=(0, 0)),\n",
       " 'radius': FieldInfo(annotation=int, required=True)}"
      ]
     },
     "execution_count": 4,
     "metadata": {},
     "output_type": "execute_result"
    }
   ],
   "execution_count": 4
  },
  {
   "metadata": {
    "ExecuteTime": {
     "end_time": "2024-11-12T14:32:26.029111Z",
     "start_time": "2024-11-12T14:32:26.018459Z"
    }
   },
   "cell_type": "code",
   "source": "Circle(radius=1)",
   "id": "1a1c8b9e8427afda",
   "outputs": [
    {
     "data": {
      "text/plain": [
       "Circle(center=(0, 0), radius=1)"
      ]
     },
     "execution_count": 5,
     "metadata": {},
     "output_type": "execute_result"
    }
   ],
   "execution_count": 5
  },
  {
   "metadata": {
    "ExecuteTime": {
     "end_time": "2024-11-12T14:33:08.895740Z",
     "start_time": "2024-11-12T14:33:08.883307Z"
    }
   },
   "cell_type": "code",
   "source": [
    "data = {\"radius\": 1}\n",
    "data_json = '{\"radius\": 1}'"
   ],
   "id": "e3ff89e8c1637c52",
   "outputs": [],
   "execution_count": 6
  },
  {
   "metadata": {
    "ExecuteTime": {
     "end_time": "2024-11-12T14:33:26.646315Z",
     "start_time": "2024-11-12T14:33:26.639459Z"
    }
   },
   "cell_type": "code",
   "source": "Circle.model_validate(data)",
   "id": "45d3f5e76a4a97b6",
   "outputs": [
    {
     "data": {
      "text/plain": [
       "Circle(center=(0, 0), radius=1)"
      ]
     },
     "execution_count": 7,
     "metadata": {},
     "output_type": "execute_result"
    }
   ],
   "execution_count": 7
  },
  {
   "metadata": {
    "ExecuteTime": {
     "end_time": "2024-11-12T14:33:38.235730Z",
     "start_time": "2024-11-12T14:33:38.231776Z"
    }
   },
   "cell_type": "code",
   "source": "Circle.model_validate_json(data_json)",
   "id": "e6ed0237b10b696e",
   "outputs": [
    {
     "data": {
      "text/plain": [
       "Circle(center=(0, 0), radius=1)"
      ]
     },
     "execution_count": 9,
     "metadata": {},
     "output_type": "execute_result"
    }
   ],
   "execution_count": 9
  },
  {
   "metadata": {
    "ExecuteTime": {
     "end_time": "2024-11-12T14:35:55.471821Z",
     "start_time": "2024-11-12T14:35:55.462082Z"
    }
   },
   "cell_type": "code",
   "source": [
    "class Circle(BaseModel):\n",
    "    center: tuple[int, int] = \"junk\"\n",
    "    radius: int"
   ],
   "id": "f0920dffec4e102d",
   "outputs": [],
   "execution_count": 10
  },
  {
   "metadata": {
    "ExecuteTime": {
     "end_time": "2024-11-12T14:36:10.361605Z",
     "start_time": "2024-11-12T14:36:10.355835Z"
    }
   },
   "cell_type": "code",
   "source": "Circle(radius=1)",
   "id": "2fb89b5e0aaf7926",
   "outputs": [
    {
     "data": {
      "text/plain": [
       "Circle(center='junk', radius=1)"
      ]
     },
     "execution_count": 11,
     "metadata": {},
     "output_type": "execute_result"
    }
   ],
   "execution_count": 11
  },
  {
   "metadata": {},
   "cell_type": "code",
   "outputs": [],
   "execution_count": null,
   "source": "",
   "id": "6d0e032807289330"
  }
 ],
 "metadata": {
  "kernelspec": {
   "display_name": "Python 3",
   "language": "python",
   "name": "python3"
  },
  "language_info": {
   "codemirror_mode": {
    "name": "ipython",
    "version": 2
   },
   "file_extension": ".py",
   "mimetype": "text/x-python",
   "name": "python",
   "nbconvert_exporter": "python",
   "pygments_lexer": "ipython2",
   "version": "2.7.6"
  }
 },
 "nbformat": 4,
 "nbformat_minor": 5
}
