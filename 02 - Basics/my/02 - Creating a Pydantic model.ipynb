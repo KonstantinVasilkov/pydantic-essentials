{
 "cells": [
  {
   "cell_type": "code",
   "id": "initial_id",
   "metadata": {
    "collapsed": true,
    "ExecuteTime": {
     "end_time": "2024-11-12T14:01:26.802749Z",
     "start_time": "2024-11-12T14:01:26.761019Z"
    }
   },
   "source": "from pydantic import BaseModel",
   "outputs": [],
   "execution_count": 1
  },
  {
   "metadata": {
    "ExecuteTime": {
     "end_time": "2024-11-12T14:01:57.444588Z",
     "start_time": "2024-11-12T14:01:57.389184Z"
    }
   },
   "cell_type": "code",
   "source": [
    "class Person(BaseModel):\n",
    "    first_name: str\n",
    "    last_name: str\n",
    "    age: int"
   ],
   "id": "7524e2e525ee8c21",
   "outputs": [],
   "execution_count": 2
  },
  {
   "metadata": {
    "ExecuteTime": {
     "end_time": "2024-11-12T14:02:51.037229Z",
     "start_time": "2024-11-12T14:02:51.034602Z"
    }
   },
   "cell_type": "code",
   "source": [
    "p = Person(first_name='John', last_name='Smith', age=20)\n",
    "print(p)"
   ],
   "id": "7c0821fcb12946b8",
   "outputs": [
    {
     "name": "stdout",
     "output_type": "stream",
     "text": [
      "first_name='John' last_name='Smith' age=20\n"
     ]
    }
   ],
   "execution_count": 3
  },
  {
   "metadata": {
    "ExecuteTime": {
     "end_time": "2024-11-12T14:03:08.915592Z",
     "start_time": "2024-11-12T14:03:08.900399Z"
    }
   },
   "cell_type": "code",
   "source": "str(p)",
   "id": "4fccad99ebc24a35",
   "outputs": [
    {
     "data": {
      "text/plain": [
       "\"first_name='John' last_name='Smith' age=20\""
      ]
     },
     "execution_count": 4,
     "metadata": {},
     "output_type": "execute_result"
    }
   ],
   "execution_count": 4
  },
  {
   "metadata": {
    "ExecuteTime": {
     "end_time": "2024-11-12T14:03:21.231048Z",
     "start_time": "2024-11-12T14:03:21.225182Z"
    }
   },
   "cell_type": "code",
   "source": "repr(p)",
   "id": "8dd35614509d4cc3",
   "outputs": [
    {
     "data": {
      "text/plain": [
       "\"Person(first_name='John', last_name='Smith', age=20)\""
      ]
     },
     "execution_count": 5,
     "metadata": {},
     "output_type": "execute_result"
    }
   ],
   "execution_count": 5
  },
  {
   "metadata": {
    "ExecuteTime": {
     "end_time": "2024-11-12T14:03:31.288003Z",
     "start_time": "2024-11-12T14:03:31.284106Z"
    }
   },
   "cell_type": "code",
   "source": "p",
   "id": "ac500ea1cad0cdb9",
   "outputs": [
    {
     "data": {
      "text/plain": [
       "Person(first_name='John', last_name='Smith', age=20)"
      ]
     },
     "execution_count": 6,
     "metadata": {},
     "output_type": "execute_result"
    }
   ],
   "execution_count": 6
  },
  {
   "metadata": {
    "ExecuteTime": {
     "end_time": "2024-11-12T14:03:48.695082Z",
     "start_time": "2024-11-12T14:03:48.690395Z"
    }
   },
   "cell_type": "code",
   "source": "p.model_fields",
   "id": "ec06d43f5728afa4",
   "outputs": [
    {
     "data": {
      "text/plain": [
       "{'first_name': FieldInfo(annotation=str, required=True),\n",
       " 'last_name': FieldInfo(annotation=str, required=True),\n",
       " 'age': FieldInfo(annotation=int, required=True)}"
      ]
     },
     "execution_count": 7,
     "metadata": {},
     "output_type": "execute_result"
    }
   ],
   "execution_count": 7
  },
  {
   "metadata": {
    "ExecuteTime": {
     "end_time": "2024-11-12T14:04:35.813606Z",
     "start_time": "2024-11-12T14:04:35.808062Z"
    }
   },
   "cell_type": "code",
   "source": [
    "from pydantic import ValidationError\n",
    "try:\n",
    "    Person(first_name='John', last_name='Smith')\n",
    "except ValidationError as e:\n",
    "    print(e)"
   ],
   "id": "bef378959f9a6789",
   "outputs": [
    {
     "name": "stdout",
     "output_type": "stream",
     "text": [
      "1 validation error for Person\n",
      "age\n",
      "  Field required [type=missing, input_value={'first_name': 'John', 'last_name': 'Smith'}, input_type=dict]\n",
      "    For further information visit https://errors.pydantic.dev/2.9/v/missing\n"
     ]
    }
   ],
   "execution_count": 8
  },
  {
   "metadata": {
    "ExecuteTime": {
     "end_time": "2024-11-12T14:06:18.261202Z",
     "start_time": "2024-11-12T14:06:18.255657Z"
    }
   },
   "cell_type": "code",
   "source": [
    "class Person(BaseModel):\n",
    "    first_name: str\n",
    "    last_name: str\n",
    "    age: int\n",
    "\n",
    "    @property\n",
    "    def display_name(self):\n",
    "        return f'{self.first_name} {self.last_name}'"
   ],
   "id": "5320434cd6dd3ca2",
   "outputs": [],
   "execution_count": 9
  },
  {
   "metadata": {
    "ExecuteTime": {
     "end_time": "2024-11-12T14:06:29.719665Z",
     "start_time": "2024-11-12T14:06:29.715733Z"
    }
   },
   "cell_type": "code",
   "source": "p = Person(first_name='John', last_name='Smith', age=20)",
   "id": "dcd2aa69f62e54c7",
   "outputs": [],
   "execution_count": 10
  },
  {
   "metadata": {
    "ExecuteTime": {
     "end_time": "2024-11-12T14:06:38.794950Z",
     "start_time": "2024-11-12T14:06:38.789452Z"
    }
   },
   "cell_type": "code",
   "source": "p.display_name",
   "id": "b55cad638acc2b37",
   "outputs": [
    {
     "data": {
      "text/plain": [
       "'John Smith'"
      ]
     },
     "execution_count": 11,
     "metadata": {},
     "output_type": "execute_result"
    }
   ],
   "execution_count": 11
  },
  {
   "metadata": {
    "ExecuteTime": {
     "end_time": "2024-11-12T14:06:58.276875Z",
     "start_time": "2024-11-12T14:06:58.273645Z"
    }
   },
   "cell_type": "code",
   "source": "p.age = 21",
   "id": "1ee9e4c85da65047",
   "outputs": [],
   "execution_count": 12
  },
  {
   "metadata": {
    "ExecuteTime": {
     "end_time": "2024-11-12T14:07:03.284649Z",
     "start_time": "2024-11-12T14:07:03.279376Z"
    }
   },
   "cell_type": "code",
   "source": "p",
   "id": "b42f63925ca35d93",
   "outputs": [
    {
     "data": {
      "text/plain": [
       "Person(first_name='John', last_name='Smith', age=21)"
      ]
     },
     "execution_count": 13,
     "metadata": {},
     "output_type": "execute_result"
    }
   ],
   "execution_count": 13
  },
  {
   "metadata": {
    "ExecuteTime": {
     "end_time": "2024-11-12T14:07:54.491731Z",
     "start_time": "2024-11-12T14:07:54.487205Z"
    }
   },
   "cell_type": "code",
   "source": [
    "try:\n",
    "    Person(first_name='John', last_name='Smith', age=\"asd\")\n",
    "except ValidationError as e:\n",
    "    print(e)"
   ],
   "id": "95bdb7a7204c06dd",
   "outputs": [
    {
     "name": "stdout",
     "output_type": "stream",
     "text": [
      "1 validation error for Person\n",
      "age\n",
      "  Input should be a valid integer, unable to parse string as an integer [type=int_parsing, input_value='asd', input_type=str]\n",
      "    For further information visit https://errors.pydantic.dev/2.9/v/int_parsing\n"
     ]
    }
   ],
   "execution_count": 17
  },
  {
   "metadata": {
    "ExecuteTime": {
     "end_time": "2024-11-12T14:08:20.017283Z",
     "start_time": "2024-11-12T14:08:20.012486Z"
    }
   },
   "cell_type": "code",
   "source": [
    "p.age = \"twenty\"\n",
    "p"
   ],
   "id": "66686dae08ee528b",
   "outputs": [
    {
     "data": {
      "text/plain": [
       "Person(first_name='John', last_name='Smith', age='twenty')"
      ]
     },
     "execution_count": 19,
     "metadata": {},
     "output_type": "execute_result"
    }
   ],
   "execution_count": 19
  }
 ],
 "metadata": {
  "kernelspec": {
   "display_name": "Python 3",
   "language": "python",
   "name": "python3"
  },
  "language_info": {
   "codemirror_mode": {
    "name": "ipython",
    "version": 2
   },
   "file_extension": ".py",
   "mimetype": "text/x-python",
   "name": "python",
   "nbconvert_exporter": "python",
   "pygments_lexer": "ipython2",
   "version": "2.7.6"
  }
 },
 "nbformat": 4,
 "nbformat_minor": 5
}
