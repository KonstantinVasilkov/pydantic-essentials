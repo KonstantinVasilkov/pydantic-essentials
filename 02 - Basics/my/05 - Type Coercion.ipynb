{
 "cells": [
  {
   "cell_type": "code",
   "id": "initial_id",
   "metadata": {
    "collapsed": true,
    "ExecuteTime": {
     "end_time": "2024-11-12T14:21:36.365359Z",
     "start_time": "2024-11-12T14:21:36.284816Z"
    }
   },
   "source": [
    "from pydantic import BaseModel, ValidationError\n",
    "\n",
    "class Coordinates(BaseModel):\n",
    "    x: float\n",
    "    y: float"
   ],
   "outputs": [],
   "execution_count": 1
  },
  {
   "metadata": {
    "ExecuteTime": {
     "end_time": "2024-11-12T14:21:54.551999Z",
     "start_time": "2024-11-12T14:21:54.542110Z"
    }
   },
   "cell_type": "code",
   "source": [
    "p1 = Coordinates(x=1.1, y=2.1)\n",
    "p1"
   ],
   "id": "ad7d660029b2c02c",
   "outputs": [
    {
     "data": {
      "text/plain": [
       "Coordinates(x=1.1, y=2.1)"
      ]
     },
     "execution_count": 2,
     "metadata": {},
     "output_type": "execute_result"
    }
   ],
   "execution_count": 2
  },
  {
   "metadata": {
    "ExecuteTime": {
     "end_time": "2024-11-12T14:22:33.966432Z",
     "start_time": "2024-11-12T14:22:33.953271Z"
    }
   },
   "cell_type": "code",
   "source": [
    "p2 = Coordinates(x=1, y=\"2.2\")\n",
    "p2"
   ],
   "id": "bc214f5909c9eae7",
   "outputs": [
    {
     "data": {
      "text/plain": [
       "Coordinates(x=1.0, y=2.2)"
      ]
     },
     "execution_count": 3,
     "metadata": {},
     "output_type": "execute_result"
    }
   ],
   "execution_count": 3
  },
  {
   "metadata": {
    "ExecuteTime": {
     "end_time": "2024-11-12T14:23:03.818842Z",
     "start_time": "2024-11-12T14:23:03.808360Z"
    }
   },
   "cell_type": "code",
   "source": "type(p2.x), type(p2.y)",
   "id": "d1f4f2720cf1bc9f",
   "outputs": [
    {
     "data": {
      "text/plain": [
       "(float, float)"
      ]
     },
     "execution_count": 4,
     "metadata": {},
     "output_type": "execute_result"
    }
   ],
   "execution_count": 4
  },
  {
   "metadata": {
    "ExecuteTime": {
     "end_time": "2024-11-12T14:25:50.631677Z",
     "start_time": "2024-11-12T14:25:50.621148Z"
    }
   },
   "cell_type": "code",
   "source": [
    "class Model(BaseModel):\n",
    "    field: str"
   ],
   "id": "a5defdb6baf7e935",
   "outputs": [],
   "execution_count": 5
  },
  {
   "metadata": {
    "ExecuteTime": {
     "end_time": "2024-11-12T14:26:13.622527Z",
     "start_time": "2024-11-12T14:26:13.618051Z"
    }
   },
   "cell_type": "code",
   "source": [
    "try:\n",
    "    Model(field=1)\n",
    "except ValidationError as e:\n",
    "    print(e)"
   ],
   "id": "b8a6d5d5091c2247",
   "outputs": [
    {
     "name": "stdout",
     "output_type": "stream",
     "text": [
      "1 validation error for Model\n",
      "field\n",
      "  Input should be a valid string [type=string_type, input_value=1, input_type=int]\n",
      "    For further information visit https://errors.pydantic.dev/2.9/v/string_type\n"
     ]
    }
   ],
   "execution_count": 6
  },
  {
   "metadata": {},
   "cell_type": "code",
   "outputs": [],
   "execution_count": null,
   "source": "",
   "id": "e60cdd0e241355c8"
  }
 ],
 "metadata": {
  "kernelspec": {
   "display_name": "Python 3",
   "language": "python",
   "name": "python3"
  },
  "language_info": {
   "codemirror_mode": {
    "name": "ipython",
    "version": 2
   },
   "file_extension": ".py",
   "mimetype": "text/x-python",
   "name": "python",
   "nbconvert_exporter": "python",
   "pygments_lexer": "ipython2",
   "version": "2.7.6"
  }
 },
 "nbformat": 4,
 "nbformat_minor": 5
}
