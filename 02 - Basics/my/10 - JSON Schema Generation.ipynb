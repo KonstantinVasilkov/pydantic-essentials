{
 "cells": [
  {
   "metadata": {
    "ExecuteTime": {
     "end_time": "2024-11-12T16:50:01.915233Z",
     "start_time": "2024-11-12T16:50:01.875911Z"
    }
   },
   "cell_type": "code",
   "source": "from pydantic import BaseModel, ValidationError",
   "id": "ba23e0c45a8abecc",
   "outputs": [],
   "execution_count": 1
  },
  {
   "metadata": {
    "ExecuteTime": {
     "end_time": "2024-11-12T16:53:07.390328Z",
     "start_time": "2024-11-12T16:53:07.385468Z"
    }
   },
   "cell_type": "code",
   "source": [
    "class Model(BaseModel):\n",
    "    field_1: int | None = None\n",
    "    field_2: str = \"Python\"\n"
   ],
   "id": "931f5b0f6f9fe42b",
   "outputs": [],
   "execution_count": 10
  },
  {
   "metadata": {
    "ExecuteTime": {
     "end_time": "2024-11-12T16:53:08.743819Z",
     "start_time": "2024-11-12T16:53:08.736975Z"
    }
   },
   "cell_type": "code",
   "source": "Model.model_json_schema()",
   "id": "a6a1d5b6b2e99ff",
   "outputs": [
    {
     "data": {
      "text/plain": [
       "{'properties': {'field_1': {'anyOf': [{'type': 'integer'}, {'type': 'null'}],\n",
       "   'default': None,\n",
       "   'title': 'Field 1'},\n",
       "  'field_2': {'default': 'Python', 'title': 'Field 2', 'type': 'string'}},\n",
       " 'title': 'Model',\n",
       " 'type': 'object'}"
      ]
     },
     "execution_count": 11,
     "metadata": {},
     "output_type": "execute_result"
    }
   ],
   "execution_count": 11
  },
  {
   "metadata": {
    "ExecuteTime": {
     "end_time": "2024-11-12T16:53:21.046316Z",
     "start_time": "2024-11-12T16:53:21.039856Z"
    }
   },
   "cell_type": "code",
   "source": [
    "from pprint import pprint\n",
    "pprint(Model.model_json_schema())"
   ],
   "id": "fb91511d2d14ea1f",
   "outputs": [
    {
     "name": "stdout",
     "output_type": "stream",
     "text": [
      "{'properties': {'field_1': {'anyOf': [{'type': 'integer'}, {'type': 'null'}],\n",
      "                            'default': None,\n",
      "                            'title': 'Field 1'},\n",
      "                'field_2': {'default': 'Python',\n",
      "                            'title': 'Field 2',\n",
      "                            'type': 'string'}},\n",
      " 'title': 'Model',\n",
      " 'type': 'object'}\n"
     ]
    }
   ],
   "execution_count": 12
  }
 ],
 "metadata": {
  "kernelspec": {
   "name": "python3",
   "language": "python",
   "display_name": "Python 3 (ipykernel)"
  }
 },
 "nbformat": 5,
 "nbformat_minor": 9
}
