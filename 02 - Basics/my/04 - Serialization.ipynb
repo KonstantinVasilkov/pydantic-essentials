{
 "cells": [
  {
   "cell_type": "code",
   "id": "initial_id",
   "metadata": {
    "collapsed": true,
    "ExecuteTime": {
     "end_time": "2024-11-12T14:15:44.741848Z",
     "start_time": "2024-11-12T14:15:44.664260Z"
    }
   },
   "source": [
    "from pydantic import BaseModel, ValidationError\n",
    "\n",
    "class Person(BaseModel):\n",
    "    first_name: str\n",
    "    last_name: str\n",
    "    age: int"
   ],
   "outputs": [],
   "execution_count": 1
  },
  {
   "metadata": {
    "ExecuteTime": {
     "end_time": "2024-11-12T14:16:31.663587Z",
     "start_time": "2024-11-12T14:16:31.659168Z"
    }
   },
   "cell_type": "code",
   "source": [
    "person_1 = Person(first_name='John', last_name='Smith', age=18)\n",
    "person_2 = Person(first_name='Bob', last_name='Newton', age=84)"
   ],
   "id": "ef7310a2ddfbd3c8",
   "outputs": [],
   "execution_count": 2
  },
  {
   "metadata": {
    "ExecuteTime": {
     "end_time": "2024-11-12T14:16:48.402704Z",
     "start_time": "2024-11-12T14:16:48.393930Z"
    }
   },
   "cell_type": "code",
   "source": "person_1.__dict__",
   "id": "dc70b547e2f94197",
   "outputs": [
    {
     "data": {
      "text/plain": [
       "{'first_name': 'John', 'last_name': 'Smith', 'age': 18}"
      ]
     },
     "execution_count": 3,
     "metadata": {},
     "output_type": "execute_result"
    }
   ],
   "execution_count": 3
  },
  {
   "metadata": {
    "ExecuteTime": {
     "end_time": "2024-11-12T14:17:14.807441Z",
     "start_time": "2024-11-12T14:17:14.799432Z"
    }
   },
   "cell_type": "code",
   "source": "person_2.model_dump()",
   "id": "701ab2cea6914671",
   "outputs": [
    {
     "data": {
      "text/plain": [
       "{'first_name': 'Bob', 'last_name': 'Newton', 'age': 84}"
      ]
     },
     "execution_count": 4,
     "metadata": {},
     "output_type": "execute_result"
    }
   ],
   "execution_count": 4
  },
  {
   "metadata": {
    "ExecuteTime": {
     "end_time": "2024-11-12T14:17:45.807232Z",
     "start_time": "2024-11-12T14:17:45.800997Z"
    }
   },
   "cell_type": "code",
   "source": "person_2.model_dump_json()",
   "id": "c9969b99e9a428b0",
   "outputs": [
    {
     "data": {
      "text/plain": [
       "'{\"first_name\":\"Bob\",\"last_name\":\"Newton\",\"age\":84}'"
      ]
     },
     "execution_count": 5,
     "metadata": {},
     "output_type": "execute_result"
    }
   ],
   "execution_count": 5
  },
  {
   "metadata": {
    "ExecuteTime": {
     "end_time": "2024-11-12T14:18:46.310491Z",
     "start_time": "2024-11-12T14:18:46.307611Z"
    }
   },
   "cell_type": "code",
   "source": "print(person_2.model_dump_json(indent=2))",
   "id": "be2381df18dd585f",
   "outputs": [
    {
     "name": "stdout",
     "output_type": "stream",
     "text": [
      "{\n",
      "  \"first_name\": \"Bob\",\n",
      "  \"last_name\": \"Newton\",\n",
      "  \"age\": 84\n",
      "}\n"
     ]
    }
   ],
   "execution_count": 7
  },
  {
   "metadata": {
    "ExecuteTime": {
     "end_time": "2024-11-12T14:19:06.323096Z",
     "start_time": "2024-11-12T14:19:06.318347Z"
    }
   },
   "cell_type": "code",
   "source": "print(person_2.model_dump_json(indent=2, exclude=\"age\"))",
   "id": "739b8be5d808810a",
   "outputs": [
    {
     "name": "stdout",
     "output_type": "stream",
     "text": [
      "{\n",
      "  \"first_name\": \"Bob\",\n",
      "  \"last_name\": \"Newton\"\n",
      "}\n"
     ]
    }
   ],
   "execution_count": 8
  },
  {
   "metadata": {
    "ExecuteTime": {
     "end_time": "2024-11-12T14:19:28.596022Z",
     "start_time": "2024-11-12T14:19:28.589086Z"
    }
   },
   "cell_type": "code",
   "source": "print(person_2.model_dump_json(indent=2, exclude=[\"first_name\", \"last_name\"]))",
   "id": "f930709172503efa",
   "outputs": [
    {
     "name": "stdout",
     "output_type": "stream",
     "text": [
      "{\n",
      "  \"age\": 84\n",
      "}\n"
     ]
    }
   ],
   "execution_count": 9
  },
  {
   "metadata": {
    "ExecuteTime": {
     "end_time": "2024-11-12T14:20:56.626976Z",
     "start_time": "2024-11-12T14:20:56.619463Z"
    }
   },
   "cell_type": "code",
   "source": "print(person_2.model_dump_json(indent=2, include=[\"first_name\", \"last_name\"]))\n",
   "id": "5941a9eaf5403981",
   "outputs": [
    {
     "name": "stdout",
     "output_type": "stream",
     "text": [
      "{\n",
      "  \"first_name\": \"Bob\",\n",
      "  \"last_name\": \"Newton\"\n",
      "}\n"
     ]
    }
   ],
   "execution_count": 10
  }
 ],
 "metadata": {
  "kernelspec": {
   "display_name": "Python 3",
   "language": "python",
   "name": "python3"
  },
  "language_info": {
   "codemirror_mode": {
    "name": "ipython",
    "version": 2
   },
   "file_extension": ".py",
   "mimetype": "text/x-python",
   "name": "python",
   "nbconvert_exporter": "python",
   "pygments_lexer": "ipython2",
   "version": "2.7.6"
  }
 },
 "nbformat": 4,
 "nbformat_minor": 5
}
