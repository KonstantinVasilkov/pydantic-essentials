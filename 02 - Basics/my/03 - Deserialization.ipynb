{
 "cells": [
  {
   "cell_type": "code",
   "id": "initial_id",
   "metadata": {
    "collapsed": true,
    "ExecuteTime": {
     "end_time": "2024-11-12T14:09:21.591169Z",
     "start_time": "2024-11-12T14:09:21.552699Z"
    }
   },
   "source": "from pydantic import BaseModel, ValidationError",
   "outputs": [],
   "execution_count": 1
  },
  {
   "metadata": {
    "ExecuteTime": {
     "end_time": "2024-11-12T14:09:54.308923Z",
     "start_time": "2024-11-12T14:09:54.235188Z"
    }
   },
   "cell_type": "code",
   "source": [
    "class Person(BaseModel):\n",
    "    first_name: str\n",
    "    last_name: str\n",
    "    age: int"
   ],
   "id": "143ab009950e836",
   "outputs": [],
   "execution_count": 2
  },
  {
   "metadata": {
    "ExecuteTime": {
     "end_time": "2024-11-12T14:10:07.278183Z",
     "start_time": "2024-11-12T14:10:07.271636Z"
    }
   },
   "cell_type": "code",
   "source": [
    "p = Person(first_name='John', last_name='Smith', age=20)\n",
    "print(p.dict())"
   ],
   "id": "5bc96fde029e3d13",
   "outputs": [
    {
     "name": "stdout",
     "output_type": "stream",
     "text": [
      "{'first_name': 'John', 'last_name': 'Smith', 'age': 20}\n"
     ]
    }
   ],
   "execution_count": 3
  },
  {
   "metadata": {
    "ExecuteTime": {
     "end_time": "2024-11-12T14:10:34.046687Z",
     "start_time": "2024-11-12T14:10:34.043490Z"
    }
   },
   "cell_type": "code",
   "source": [
    "data = {\n",
    "    'first_name': 'John',\n",
    "    'last_name': 'Smith',\n",
    "    'age': 20\n",
    "}"
   ],
   "id": "bbe486af28c092c4",
   "outputs": [],
   "execution_count": 4
  },
  {
   "metadata": {
    "ExecuteTime": {
     "end_time": "2024-11-12T14:10:46.939238Z",
     "start_time": "2024-11-12T14:10:46.930590Z"
    }
   },
   "cell_type": "code",
   "source": [
    "\n",
    "p = Person(**data)\n",
    "p"
   ],
   "id": "1b8630a2807f45f",
   "outputs": [
    {
     "data": {
      "text/plain": [
       "Person(first_name='John', last_name='Smith', age=20)"
      ]
     },
     "execution_count": 6,
     "metadata": {},
     "output_type": "execute_result"
    }
   ],
   "execution_count": 6
  },
  {
   "metadata": {
    "ExecuteTime": {
     "end_time": "2024-11-12T14:11:32.352586Z",
     "start_time": "2024-11-12T14:11:32.338301Z"
    }
   },
   "cell_type": "code",
   "source": [
    "p = Person.model_validate(data)\n",
    "p"
   ],
   "id": "587acdf14210fecb",
   "outputs": [
    {
     "data": {
      "text/plain": [
       "Person(first_name='John', last_name='Smith', age=20)"
      ]
     },
     "execution_count": 7,
     "metadata": {},
     "output_type": "execute_result"
    }
   ],
   "execution_count": 7
  },
  {
   "metadata": {
    "ExecuteTime": {
     "end_time": "2024-11-12T14:11:53.217261Z",
     "start_time": "2024-11-12T14:11:53.213969Z"
    }
   },
   "cell_type": "code",
   "source": [
    "missing_data = {\n",
    "    'first_name': 'John'\n",
    "}"
   ],
   "id": "7ed27640c3f2fe6e",
   "outputs": [],
   "execution_count": 8
  },
  {
   "metadata": {
    "ExecuteTime": {
     "end_time": "2024-11-12T14:12:16.912951Z",
     "start_time": "2024-11-12T14:12:16.907704Z"
    }
   },
   "cell_type": "code",
   "source": [
    "try:\n",
    "    Person.model_validate(missing_data)\n",
    "except ValidationError as e:\n",
    "    print(e)"
   ],
   "id": "582f6b70849065b2",
   "outputs": [
    {
     "name": "stdout",
     "output_type": "stream",
     "text": [
      "2 validation errors for Person\n",
      "last_name\n",
      "  Field required [type=missing, input_value={'first_name': 'John'}, input_type=dict]\n",
      "    For further information visit https://errors.pydantic.dev/2.9/v/missing\n",
      "age\n",
      "  Field required [type=missing, input_value={'first_name': 'John'}, input_type=dict]\n",
      "    For further information visit https://errors.pydantic.dev/2.9/v/missing\n"
     ]
    }
   ],
   "execution_count": 9
  },
  {
   "metadata": {
    "ExecuteTime": {
     "end_time": "2024-11-12T14:13:18.859915Z",
     "start_time": "2024-11-12T14:13:18.853724Z"
    }
   },
   "cell_type": "code",
   "source": [
    "data_json = '''\n",
    "{\n",
    "    \"first_name\": \"John\",\n",
    "    \"last_name\": \"Smith\",\n",
    "    \"age\": 20\n",
    "}\n",
    "'''"
   ],
   "id": "6a7f6bce04d01070",
   "outputs": [],
   "execution_count": 10
  },
  {
   "metadata": {
    "ExecuteTime": {
     "end_time": "2024-11-12T14:13:46.197353Z",
     "start_time": "2024-11-12T14:13:46.193320Z"
    }
   },
   "cell_type": "code",
   "source": [
    "p = Person.model_validate_json(data_json)\n",
    "p"
   ],
   "id": "9b3c16db436c3d2d",
   "outputs": [
    {
     "data": {
      "text/plain": [
       "Person(first_name='John', last_name='Smith', age=20)"
      ]
     },
     "execution_count": 12,
     "metadata": {},
     "output_type": "execute_result"
    }
   ],
   "execution_count": 12
  },
  {
   "metadata": {
    "ExecuteTime": {
     "end_time": "2024-11-12T14:14:25.055040Z",
     "start_time": "2024-11-12T14:14:25.046297Z"
    }
   },
   "cell_type": "code",
   "source": [
    "data_json = '''\n",
    "{\n",
    "    \"first_name\": \"John\"\n",
    "}\n",
    "'''\n",
    "try:\n",
    "    Person.model_validate_json(data_json)\n",
    "except ValidationError as e:\n",
    "    print(e)"
   ],
   "id": "ac6c5bc857f9b2be",
   "outputs": [
    {
     "name": "stdout",
     "output_type": "stream",
     "text": [
      "2 validation errors for Person\n",
      "last_name\n",
      "  Field required [type=missing, input_value={'first_name': 'John'}, input_type=dict]\n",
      "    For further information visit https://errors.pydantic.dev/2.9/v/missing\n",
      "age\n",
      "  Field required [type=missing, input_value={'first_name': 'John'}, input_type=dict]\n",
      "    For further information visit https://errors.pydantic.dev/2.9/v/missing\n"
     ]
    }
   ],
   "execution_count": 14
  },
  {
   "metadata": {},
   "cell_type": "code",
   "outputs": [],
   "execution_count": null,
   "source": "",
   "id": "59b6cf841241b3bc"
  }
 ],
 "metadata": {
  "kernelspec": {
   "display_name": "Python 3",
   "language": "python",
   "name": "python3"
  },
  "language_info": {
   "codemirror_mode": {
    "name": "ipython",
    "version": 2
   },
   "file_extension": ".py",
   "mimetype": "text/x-python",
   "name": "python",
   "nbconvert_exporter": "python",
   "pygments_lexer": "ipython2",
   "version": "2.7.6"
  }
 },
 "nbformat": 4,
 "nbformat_minor": 5
}
