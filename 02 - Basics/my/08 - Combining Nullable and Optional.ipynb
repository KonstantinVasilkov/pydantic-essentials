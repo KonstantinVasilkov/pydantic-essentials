{
 "cells": [
  {
   "metadata": {},
   "cell_type": "markdown",
   "source": "### Combining Nullable and Optional",
   "id": "7aadc7e8924c05df"
  },
  {
   "metadata": {},
   "cell_type": "markdown",
   "source": "#### Required, not Nullable",
   "id": "25b4153080b7a04a"
  },
  {
   "metadata": {
    "ExecuteTime": {
     "end_time": "2024-11-12T16:01:51.630050Z",
     "start_time": "2024-11-12T16:01:51.552659Z"
    }
   },
   "cell_type": "code",
   "source": [
    "from pydantic import BaseModel, ValidationError\n",
    "\n",
    "class Model(BaseModel):\n",
    "    field: int"
   ],
   "id": "ea942715f26293e9",
   "outputs": [],
   "execution_count": 1
  },
  {
   "metadata": {
    "ExecuteTime": {
     "end_time": "2024-11-12T16:02:11.075248Z",
     "start_time": "2024-11-12T16:02:11.070386Z"
    }
   },
   "cell_type": "code",
   "source": [
    "try:\n",
    "    Model(field=None)\n",
    "except ValidationError as e:\n",
    "    print(e)"
   ],
   "id": "99e173dbc8a902d3",
   "outputs": [
    {
     "name": "stdout",
     "output_type": "stream",
     "text": [
      "1 validation error for Model\n",
      "field\n",
      "  Input should be a valid integer [type=int_type, input_value=None, input_type=NoneType]\n",
      "    For further information visit https://errors.pydantic.dev/2.9/v/int_type\n"
     ]
    }
   ],
   "execution_count": 2
  },
  {
   "metadata": {},
   "cell_type": "markdown",
   "source": "#### Required, Nullable\n",
   "id": "290ef94111f575d"
  },
  {
   "metadata": {
    "ExecuteTime": {
     "end_time": "2024-11-12T16:04:26.628239Z",
     "start_time": "2024-11-12T16:04:26.621175Z"
    }
   },
   "cell_type": "code",
   "source": [
    "class Model(BaseModel):\n",
    "    field: int | None\n",
    "\n",
    "try:\n",
    "    Model()\n",
    "except ValidationError as e:\n",
    "    print(e)"
   ],
   "id": "741e123b2e4e3a71",
   "outputs": [
    {
     "name": "stdout",
     "output_type": "stream",
     "text": [
      "1 validation error for Model\n",
      "field\n",
      "  Field required [type=missing, input_value={}, input_type=dict]\n",
      "    For further information visit https://errors.pydantic.dev/2.9/v/missing\n"
     ]
    }
   ],
   "execution_count": 7
  },
  {
   "metadata": {},
   "cell_type": "markdown",
   "source": "#### Optional, Not Nullable",
   "id": "e59d3046fbae9223"
  },
  {
   "metadata": {
    "ExecuteTime": {
     "end_time": "2024-11-12T16:04:03.640125Z",
     "start_time": "2024-11-12T16:04:03.634029Z"
    }
   },
   "cell_type": "code",
   "source": [
    "class Model(BaseModel):\n",
    "    field: int = 0\n",
    "\n",
    "try:\n",
    "    Model(field=None)\n",
    "except ValidationError as e:\n",
    "    print(e)"
   ],
   "id": "97044feb75fb0602",
   "outputs": [
    {
     "name": "stdout",
     "output_type": "stream",
     "text": [
      "1 validation error for Model\n",
      "field\n",
      "  Input should be a valid integer [type=int_type, input_value=None, input_type=NoneType]\n",
      "    For further information visit https://errors.pydantic.dev/2.9/v/int_type\n"
     ]
    }
   ],
   "execution_count": 5
  },
  {
   "metadata": {},
   "cell_type": "markdown",
   "source": "#### Optional, Nullable",
   "id": "cc7466bba3701096"
  },
  {
   "metadata": {
    "ExecuteTime": {
     "end_time": "2024-11-12T16:05:58.982561Z",
     "start_time": "2024-11-12T16:05:58.973283Z"
    }
   },
   "cell_type": "code",
   "source": [
    "class Model(BaseModel):\n",
    "    field: int | None = None"
   ],
   "id": "de13f3c3dcb2a5da",
   "outputs": [],
   "execution_count": 9
  },
  {
   "metadata": {
    "ExecuteTime": {
     "end_time": "2024-11-12T16:06:06.945148Z",
     "start_time": "2024-11-12T16:06:06.935496Z"
    }
   },
   "cell_type": "code",
   "source": "Model()",
   "id": "b5862453c87d0859",
   "outputs": [
    {
     "data": {
      "text/plain": [
       "Model(field=None)"
      ]
     },
     "execution_count": 10,
     "metadata": {},
     "output_type": "execute_result"
    }
   ],
   "execution_count": 10
  },
  {
   "metadata": {
    "ExecuteTime": {
     "end_time": "2024-11-12T16:06:24.235824Z",
     "start_time": "2024-11-12T16:06:24.229205Z"
    }
   },
   "cell_type": "code",
   "source": "Model(field=None)",
   "id": "c4aed40d39af987b",
   "outputs": [
    {
     "data": {
      "text/plain": [
       "Model(field=None)"
      ]
     },
     "execution_count": 11,
     "metadata": {},
     "output_type": "execute_result"
    }
   ],
   "execution_count": 11
  }
 ],
 "metadata": {
  "kernelspec": {
   "display_name": "Python 3",
   "language": "python",
   "name": "python3"
  },
  "language_info": {
   "codemirror_mode": {
    "name": "ipython",
    "version": 2
   },
   "file_extension": ".py",
   "mimetype": "text/x-python",
   "name": "python",
   "nbconvert_exporter": "python",
   "pygments_lexer": "ipython2",
   "version": "2.7.6"
  }
 },
 "nbformat": 4,
 "nbformat_minor": 5
}
