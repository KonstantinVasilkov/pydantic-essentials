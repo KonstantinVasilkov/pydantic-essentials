{
 "cells": [
  {
   "metadata": {
    "ExecuteTime": {
     "end_time": "2024-12-05T19:32:52.358163Z",
     "start_time": "2024-12-05T19:32:52.299027Z"
    }
   },
   "cell_type": "code",
   "source": "from pydantic import BaseModel, Field, field_validator, ValidationError",
   "id": "f074cf4506fa9cb1",
   "outputs": [],
   "execution_count": 1
  },
  {
   "metadata": {
    "ExecuteTime": {
     "end_time": "2024-12-05T19:33:51.569933Z",
     "start_time": "2024-12-05T19:33:51.530329Z"
    }
   },
   "cell_type": "code",
   "source": [
    "class Model(BaseModel):\n",
    "    number: int = Field(gt=0, lt=10)"
   ],
   "id": "92cdf62b40eec810",
   "outputs": [],
   "execution_count": 2
  },
  {
   "metadata": {
    "ExecuteTime": {
     "end_time": "2024-12-05T19:34:08.914262Z",
     "start_time": "2024-12-05T19:34:08.909297Z"
    }
   },
   "cell_type": "code",
   "source": "Model(number=\"9\")",
   "id": "aea929a77ef5596a",
   "outputs": [
    {
     "data": {
      "text/plain": [
       "Model(number=9)"
      ]
     },
     "execution_count": 4,
     "metadata": {},
     "output_type": "execute_result"
    }
   ],
   "execution_count": 4
  },
  {
   "metadata": {
    "ExecuteTime": {
     "end_time": "2024-12-05T19:34:27.410339Z",
     "start_time": "2024-12-05T19:34:27.408524Z"
    }
   },
   "cell_type": "code",
   "source": [
    "try:\n",
    "    Model(number=\"10\")\n",
    "except ValidationError as e:\n",
    "    print(e)"
   ],
   "id": "b06e1810637fbd50",
   "outputs": [
    {
     "name": "stdout",
     "output_type": "stream",
     "text": [
      "1 validation error for Model\n",
      "number\n",
      "  Input should be less than 10 [type=less_than, input_value='10', input_type=str]\n",
      "    For further information visit https://errors.pydantic.dev/2.9/v/less_than\n"
     ]
    }
   ],
   "execution_count": 5
  },
  {
   "metadata": {
    "ExecuteTime": {
     "end_time": "2024-12-05T19:39:52.840530Z",
     "start_time": "2024-12-05T19:39:52.835338Z"
    }
   },
   "cell_type": "code",
   "source": [
    "class Model(BaseModel):\n",
    "    number: int = Field(gt=0, lt=10)\n",
    "\n",
    "    @field_validator(\"number\")\n",
    "    @classmethod\n",
    "    def validate_even(cls, v):\n",
    "        print(\"Running validator\")\n",
    "        print(f\"Number: {v}, type: {type(v)}\")\n",
    "        return v\n"
   ],
   "id": "c70f6cef3777d368",
   "outputs": [],
   "execution_count": 10
  },
  {
   "metadata": {
    "ExecuteTime": {
     "end_time": "2024-12-05T19:37:27.365297Z",
     "start_time": "2024-12-05T19:37:27.359429Z"
    }
   },
   "cell_type": "code",
   "source": "Model(number=3)",
   "id": "abe1fc122db10008",
   "outputs": [
    {
     "name": "stdout",
     "output_type": "stream",
     "text": [
      "Running validator\n",
      "Number: 3, type: <class 'int'>\n"
     ]
    },
    {
     "data": {
      "text/plain": [
       "Model(number=3)"
      ]
     },
     "execution_count": 7,
     "metadata": {},
     "output_type": "execute_result"
    }
   ],
   "execution_count": 7
  },
  {
   "metadata": {
    "ExecuteTime": {
     "end_time": "2024-12-05T19:37:46.164266Z",
     "start_time": "2024-12-05T19:37:46.159407Z"
    }
   },
   "cell_type": "code",
   "source": "Model(number=\"3\")",
   "id": "cde4b8b21e9b4ed6",
   "outputs": [
    {
     "name": "stdout",
     "output_type": "stream",
     "text": [
      "Running validator\n",
      "Number: 3, type: <class 'int'>\n"
     ]
    },
    {
     "data": {
      "text/plain": [
       "Model(number=3)"
      ]
     },
     "execution_count": 8,
     "metadata": {},
     "output_type": "execute_result"
    }
   ],
   "execution_count": 8
  },
  {
   "metadata": {
    "ExecuteTime": {
     "end_time": "2024-12-05T19:38:48.412273Z",
     "start_time": "2024-12-05T19:38:48.409977Z"
    }
   },
   "cell_type": "code",
   "source": [
    "try:\n",
    "    Model(number=12)\n",
    "except ValidationError as e:\n",
    "    print(e)"
   ],
   "id": "e11bce7bca737783",
   "outputs": [
    {
     "name": "stdout",
     "output_type": "stream",
     "text": [
      "1 validation error for Model\n",
      "number\n",
      "  Input should be less than 10 [type=less_than, input_value=12, input_type=int]\n",
      "    For further information visit https://errors.pydantic.dev/2.9/v/less_than\n"
     ]
    }
   ],
   "execution_count": 9
  },
  {
   "metadata": {
    "ExecuteTime": {
     "end_time": "2024-12-05T19:41:26.483797Z",
     "start_time": "2024-12-05T19:41:26.478567Z"
    }
   },
   "cell_type": "code",
   "source": [
    "class Model(BaseModel):\n",
    "    number: int = Field(gt=0, lt=10)\n",
    "\n",
    "    @field_validator(\"number\")\n",
    "    @classmethod\n",
    "    def validate_even(cls, v):\n",
    "        print(\"Running validator\")\n",
    "        print(f\"Number: {v}, type: {type(v)}\")\n",
    "        if v % 2 == 0:\n",
    "            return v\n",
    "        raise ValueError(\"Number must be even\")\n"
   ],
   "id": "627298e335d6a348",
   "outputs": [],
   "execution_count": 15
  },
  {
   "metadata": {
    "ExecuteTime": {
     "end_time": "2024-12-05T19:41:28.446706Z",
     "start_time": "2024-12-05T19:41:28.443918Z"
    }
   },
   "cell_type": "code",
   "source": [
    "try:\n",
    "    Model(number=3)\n",
    "except ValidationError as e:\n",
    "    print(e)"
   ],
   "id": "ebfdc3dd04f9e2ff",
   "outputs": [
    {
     "name": "stdout",
     "output_type": "stream",
     "text": [
      "Running validator\n",
      "Number: 3, type: <class 'int'>\n",
      "1 validation error for Model\n",
      "number\n",
      "  Value error, Number must be even [type=value_error, input_value=3, input_type=int]\n",
      "    For further information visit https://errors.pydantic.dev/2.9/v/value_error\n"
     ]
    }
   ],
   "execution_count": 16
  },
  {
   "metadata": {
    "ExecuteTime": {
     "end_time": "2024-12-05T19:42:41.425316Z",
     "start_time": "2024-12-05T19:42:41.420241Z"
    }
   },
   "cell_type": "code",
   "source": [
    "class Model(BaseModel):\n",
    "    number: int = Field(gt=0, lt=10)\n",
    "\n",
    "    @field_validator(\"number\")\n",
    "    @classmethod\n",
    "    def validate_even(cls, v):\n",
    "        print(\"Running validator\")\n",
    "        print(f\"Number: {v}, type: {type(v)}\")\n",
    "        if v % 2 == 0:\n",
    "            return v\n",
    "        raise TypeError(\"Number must be even\")"
   ],
   "id": "c187bd13a0ecc4c0",
   "outputs": [],
   "execution_count": 17
  },
  {
   "metadata": {
    "ExecuteTime": {
     "end_time": "2024-12-05T19:43:15.172154Z",
     "start_time": "2024-12-05T19:43:15.168685Z"
    }
   },
   "cell_type": "code",
   "source": [
    "try:\n",
    "    Model(number=3)\n",
    "except Exception as e:\n",
    "    print(f\"{type(e)}: {e}\")"
   ],
   "id": "7e2f329d1f81576",
   "outputs": [
    {
     "name": "stdout",
     "output_type": "stream",
     "text": [
      "Running validator\n",
      "Number: 3, type: <class 'int'>\n",
      "<class 'TypeError'>: Number must be even\n"
     ]
    }
   ],
   "execution_count": 18
  },
  {
   "metadata": {
    "ExecuteTime": {
     "end_time": "2024-12-05T19:44:50.108877Z",
     "start_time": "2024-12-05T19:44:50.103151Z"
    }
   },
   "cell_type": "code",
   "source": [
    "class Model(BaseModel):\n",
    "    number: int = Field(gt=0, lt=10)\n",
    "\n",
    "    @field_validator(\"number\")\n",
    "    @classmethod\n",
    "    def validate_even(cls, v):\n",
    "        if v % 2 == 1:\n",
    "            return v + 1\n",
    "        return v"
   ],
   "id": "9c0c190b081ad465",
   "outputs": [],
   "execution_count": 19
  },
  {
   "metadata": {
    "ExecuteTime": {
     "end_time": "2024-12-05T19:45:01.657671Z",
     "start_time": "2024-12-05T19:45:01.653245Z"
    }
   },
   "cell_type": "code",
   "source": "Model(number=3)",
   "id": "553995d3efb7d896",
   "outputs": [
    {
     "data": {
      "text/plain": [
       "Model(number=4)"
      ]
     },
     "execution_count": 20,
     "metadata": {},
     "output_type": "execute_result"
    }
   ],
   "execution_count": 20
  },
  {
   "metadata": {
    "ExecuteTime": {
     "end_time": "2024-12-05T19:45:26.665899Z",
     "start_time": "2024-12-05T19:45:26.660756Z"
    }
   },
   "cell_type": "code",
   "source": "Model(number=2)",
   "id": "b560dbc21453385b",
   "outputs": [
    {
     "data": {
      "text/plain": [
       "Model(number=2)"
      ]
     },
     "execution_count": 21,
     "metadata": {},
     "output_type": "execute_result"
    }
   ],
   "execution_count": 21
  },
  {
   "metadata": {
    "ExecuteTime": {
     "end_time": "2024-12-05T19:48:08.513648Z",
     "start_time": "2024-12-05T19:48:08.509460Z"
    }
   },
   "cell_type": "code",
   "source": [
    "import pytz\n",
    "from datetime import datetime\n",
    "\n",
    "def make_utc(dt: datetime):\n",
    "    if dt.tzinfo is None:\n",
    "        dt = pytz.utc.localize(dt)\n",
    "    else:\n",
    "        dt = dt.astimezone(pytz.utc)\n",
    "    return dt"
   ],
   "id": "dacc91d1ebfe53c8",
   "outputs": [],
   "execution_count": 24
  },
  {
   "metadata": {
    "ExecuteTime": {
     "end_time": "2024-12-05T19:51:13.469014Z",
     "start_time": "2024-12-05T19:51:13.463966Z"
    }
   },
   "cell_type": "code",
   "source": [
    "class Model(BaseModel):\n",
    "    dt: datetime\n",
    "\n",
    "    @field_validator(\"dt\")\n",
    "    @classmethod\n",
    "    def validate_date(cls, dt: datetime) -> datetime:\n",
    "        if dt.tzinfo is None:\n",
    "            dt = pytz.utc.localize(dt)\n",
    "        else:\n",
    "            dt = dt.astimezone(pytz.utc)\n",
    "        return dt\n"
   ],
   "id": "d57c6214862121f2",
   "outputs": [],
   "execution_count": 26
  },
  {
   "metadata": {
    "ExecuteTime": {
     "end_time": "2024-12-05T19:51:33.627978Z",
     "start_time": "2024-12-05T19:51:33.623624Z"
    }
   },
   "cell_type": "code",
   "source": "Model(dt=\"2020-01-01T03:00:00\")",
   "id": "23733de62827968a",
   "outputs": [
    {
     "data": {
      "text/plain": [
       "Model(dt=datetime.datetime(2020, 1, 1, 3, 0, tzinfo=<UTC>))"
      ]
     },
     "execution_count": 27,
     "metadata": {},
     "output_type": "execute_result"
    }
   ],
   "execution_count": 27
  },
  {
   "metadata": {
    "ExecuteTime": {
     "end_time": "2024-12-05T19:52:30.254766Z",
     "start_time": "2024-12-05T19:52:30.252142Z"
    }
   },
   "cell_type": "code",
   "source": [
    "eastern = pytz.timezone('US/Eastern')\n",
    "dt = eastern.localize(datetime(2020, 1, 1, 3, 0, 0))\n",
    "dt\n"
   ],
   "id": "a5417e4d0ee1d0e7",
   "outputs": [
    {
     "data": {
      "text/plain": [
       "datetime.datetime(2020, 1, 1, 3, 0, tzinfo=<DstTzInfo 'US/Eastern' EST-1 day, 19:00:00 STD>)"
      ]
     },
     "execution_count": 30,
     "metadata": {},
     "output_type": "execute_result"
    }
   ],
   "execution_count": 30
  },
  {
   "metadata": {
    "ExecuteTime": {
     "end_time": "2024-12-05T19:52:38.072555Z",
     "start_time": "2024-12-05T19:52:38.069690Z"
    }
   },
   "cell_type": "code",
   "source": "Model(dt=dt)",
   "id": "2eb0bc63bb667680",
   "outputs": [
    {
     "data": {
      "text/plain": [
       "Model(dt=datetime.datetime(2020, 1, 1, 8, 0, tzinfo=<UTC>))"
      ]
     },
     "execution_count": 31,
     "metadata": {},
     "output_type": "execute_result"
    }
   ],
   "execution_count": 31
  },
  {
   "metadata": {
    "ExecuteTime": {
     "end_time": "2024-12-05T19:55:05.667888Z",
     "start_time": "2024-12-05T19:55:05.664953Z"
    }
   },
   "cell_type": "code",
   "source": [
    "class Model(BaseModel):\n",
    "    number: int\n",
    "\n",
    "    @field_validator(\"number\")\n",
    "    @classmethod\n",
    "    def add_1(cls, number):\n",
    "        print(f\"Adding 1 to {number}\")\n",
    "        return number + 1\n",
    "\n",
    "    @field_validator(\"number\")\n",
    "    @classmethod\n",
    "    def add_2(cls, number):\n",
    "        print(f\"Adding 2 to {number}\")\n",
    "        return number + 2\n",
    "\n",
    "    @field_validator(\"number\")\n",
    "    @classmethod\n",
    "    def add_3(cls, number):\n",
    "        print(f\"Adding 3 to {number}\")\n",
    "        return number + 3"
   ],
   "id": "29fbca76d865bc11",
   "outputs": [],
   "execution_count": 34
  },
  {
   "metadata": {
    "ExecuteTime": {
     "end_time": "2024-12-05T19:55:23.216652Z",
     "start_time": "2024-12-05T19:55:23.214581Z"
    }
   },
   "cell_type": "code",
   "source": "Model(number=1)",
   "id": "9612d64b6c1ac82f",
   "outputs": [
    {
     "name": "stdout",
     "output_type": "stream",
     "text": [
      "Adding 1 to 1\n",
      "Adding 2 to 2\n",
      "Adding 3 to 4\n"
     ]
    },
    {
     "data": {
      "text/plain": [
       "Model(number=7)"
      ]
     },
     "execution_count": 36,
     "metadata": {},
     "output_type": "execute_result"
    }
   ],
   "execution_count": 36
  },
  {
   "metadata": {
    "ExecuteTime": {
     "end_time": "2024-12-05T19:56:54.408879Z",
     "start_time": "2024-12-05T19:56:54.404050Z"
    }
   },
   "cell_type": "code",
   "source": [
    "class Model(BaseModel):\n",
    "    unit_cost: float\n",
    "    unti_price: float\n",
    "\n",
    "    @field_validator(\"unit_cost\", \"unti_price\")\n",
    "    @classmethod\n",
    "    def round_2(cls, value: float) -> float:\n",
    "        return round(value, 2)"
   ],
   "id": "62b005d5a41c615b",
   "outputs": [],
   "execution_count": 37
  },
  {
   "metadata": {
    "ExecuteTime": {
     "end_time": "2024-12-05T19:57:08.278687Z",
     "start_time": "2024-12-05T19:57:08.274228Z"
    }
   },
   "cell_type": "code",
   "source": "Model(unit_cost=5.123453265, unti_price=5.254665879670)",
   "id": "a5defadeb2af03d0",
   "outputs": [
    {
     "data": {
      "text/plain": [
       "Model(unit_cost=5.12, unti_price=5.25)"
      ]
     },
     "execution_count": 38,
     "metadata": {},
     "output_type": "execute_result"
    }
   ],
   "execution_count": 38
  },
  {
   "metadata": {
    "ExecuteTime": {
     "end_time": "2024-12-05T19:57:39.823528Z",
     "start_time": "2024-12-05T19:57:39.818693Z"
    }
   },
   "cell_type": "code",
   "source": [
    "class Model(BaseModel):\n",
    "    unit_cost: float\n",
    "    unti_price: float\n",
    "\n",
    "    @field_validator(\"*\")\n",
    "    @classmethod\n",
    "    def round_2(cls, value: float) -> float:\n",
    "        return round(value, 2)"
   ],
   "id": "c6301ba628d53168",
   "outputs": [],
   "execution_count": 39
  },
  {
   "metadata": {
    "ExecuteTime": {
     "end_time": "2024-12-05T19:57:46.651705Z",
     "start_time": "2024-12-05T19:57:46.649756Z"
    }
   },
   "cell_type": "code",
   "source": "Model(unit_cost=5.123453265, unti_price=5.254665879670)\n",
   "id": "8ca1cf29133ac9c6",
   "outputs": [
    {
     "data": {
      "text/plain": [
       "Model(unit_cost=5.12, unti_price=5.25)"
      ]
     },
     "execution_count": 40,
     "metadata": {},
     "output_type": "execute_result"
    }
   ],
   "execution_count": 40
  }
 ],
 "metadata": {
  "kernelspec": {
   "name": "python3",
   "language": "python",
   "display_name": "Python 3 (ipykernel)"
  }
 },
 "nbformat": 5,
 "nbformat_minor": 9
}
