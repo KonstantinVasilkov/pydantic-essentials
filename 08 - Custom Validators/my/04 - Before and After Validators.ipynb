{
 "cells": [
  {
   "metadata": {},
   "cell_type": "code",
   "outputs": [],
   "execution_count": null,
   "source": "",
   "id": "773a50010c1b1e73"
  },
  {
   "metadata": {
    "ExecuteTime": {
     "end_time": "2024-12-06T20:11:49.653097Z",
     "start_time": "2024-12-06T20:11:49.645628Z"
    }
   },
   "cell_type": "code",
   "source": [
    "import pytz\n",
    "from dateutil.parser import parse\n",
    "from typing import Any\n",
    "from datetime import datetime\n",
    "\n",
    "from pydantic import BaseModel, field_validator\n",
    "\n",
    "\n",
    "class Model(BaseModel):\n",
    "    dt: datetime\n",
    "\n",
    "    @field_validator(\"dt\", mode=\"before\")\n",
    "    @classmethod\n",
    "    def parse_datetime(cls, v: Any) -> datetime:\n",
    "        if isinstance(v, str):\n",
    "            print(f\"Parsing string {v}\")\n",
    "            try:\n",
    "                return parse(v)\n",
    "            except Exception as e:\n",
    "                raise ValueError(str(e))\n",
    "        print(\"pass through...\")\n",
    "        return v\n",
    "\n",
    "    @field_validator(\"dt\")\n",
    "    @classmethod\n",
    "    def validate_date(cls, dt: datetime) -> datetime:\n",
    "        if dt.tzinfo is None:\n",
    "            dt = pytz.utc.localize(dt)\n",
    "        else:\n",
    "            dt = dt.astimezone(pytz.utc)\n",
    "        return dt\n"
   ],
   "id": "7c66d036e84e051c",
   "outputs": [],
   "execution_count": 6
  },
  {
   "metadata": {
    "ExecuteTime": {
     "end_time": "2024-12-06T20:11:51.769457Z",
     "start_time": "2024-12-06T20:11:51.764545Z"
    }
   },
   "cell_type": "code",
   "source": "Model(dt=100_000)",
   "id": "7186412362ad5c8f",
   "outputs": [
    {
     "name": "stdout",
     "output_type": "stream",
     "text": [
      "pass through...\n"
     ]
    },
    {
     "data": {
      "text/plain": [
       "Model(dt=datetime.datetime(1970, 1, 2, 3, 46, 40, tzinfo=<UTC>))"
      ]
     },
     "execution_count": 7,
     "metadata": {},
     "output_type": "execute_result"
    }
   ],
   "execution_count": 7
  },
  {
   "metadata": {
    "ExecuteTime": {
     "end_time": "2024-12-06T20:11:54.504174Z",
     "start_time": "2024-12-06T20:11:54.499950Z"
    }
   },
   "cell_type": "code",
   "source": "Model(dt=\"2020/1/1 3pm\")",
   "id": "7c723ab610d97cef",
   "outputs": [
    {
     "name": "stdout",
     "output_type": "stream",
     "text": [
      "Parsing string 2020/1/1 3pm\n"
     ]
    },
    {
     "data": {
      "text/plain": [
       "Model(dt=datetime.datetime(2020, 1, 1, 15, 0, tzinfo=<UTC>))"
      ]
     },
     "execution_count": 8,
     "metadata": {},
     "output_type": "execute_result"
    }
   ],
   "execution_count": 8
  },
  {
   "metadata": {
    "ExecuteTime": {
     "end_time": "2024-12-06T20:13:34.854947Z",
     "start_time": "2024-12-06T20:13:34.823947Z"
    }
   },
   "cell_type": "code",
   "source": [
    "eastern = pytz.timezone(\"US/Eastern\")\n",
    "Model(dt=eastern.localize(datetime(2020, 1, 1)).astimezone(pytz.utc))"
   ],
   "id": "63aefff42fdad823",
   "outputs": [
    {
     "name": "stdout",
     "output_type": "stream",
     "text": [
      "pass through...\n"
     ]
    },
    {
     "data": {
      "text/plain": [
       "Model(dt=datetime.datetime(2020, 1, 1, 5, 0, tzinfo=<UTC>))"
      ]
     },
     "execution_count": 9,
     "metadata": {},
     "output_type": "execute_result"
    }
   ],
   "execution_count": 9
  }
 ],
 "metadata": {
  "kernelspec": {
   "name": "python3",
   "language": "python",
   "display_name": "Python 3 (ipykernel)"
  }
 },
 "nbformat": 5,
 "nbformat_minor": 9
}
