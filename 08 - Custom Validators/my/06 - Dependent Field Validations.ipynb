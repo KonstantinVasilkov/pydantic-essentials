{
 "cells": [
  {
   "metadata": {
    "ExecuteTime": {
     "end_time": "2024-12-06T20:55:41.128419Z",
     "start_time": "2024-12-06T20:55:41.125256Z"
    }
   },
   "cell_type": "code",
   "source": "from pydantic import BaseModel, field_validator, ValidationError, ValidationInfo, BeforeValidator, AfterValidator",
   "id": "bd0f674784b115f2",
   "outputs": [],
   "execution_count": 10
  },
  {
   "metadata": {
    "ExecuteTime": {
     "end_time": "2024-12-06T20:48:29.826112Z",
     "start_time": "2024-12-06T20:48:29.767669Z"
    }
   },
   "cell_type": "code",
   "source": [
    "class Model(BaseModel):\n",
    "    field_1: int\n",
    "    field_2: list[int]\n",
    "    field_3: str\n",
    "    field_4: list[str]\n",
    "\n",
    "    @field_validator('field_3')\n",
    "    @classmethod\n",
    "    def validate(cls, value: str, validated_values: ValidationInfo):\n",
    "        print(f\"{value=}\")\n",
    "        print(f\"{validated_values=}\")\n",
    "        return value"
   ],
   "id": "cc62703cbb8eab95",
   "outputs": [],
   "execution_count": 2
  },
  {
   "metadata": {
    "ExecuteTime": {
     "end_time": "2024-12-06T20:48:51.642016Z",
     "start_time": "2024-12-06T20:48:51.635221Z"
    }
   },
   "cell_type": "code",
   "source": "Model(field_1=1, field_2=[1, 2, 3], field_3=\"abc\", field_4=[\"a\", \"b\", \"c\"])",
   "id": "d9c2df8bb3578a58",
   "outputs": [
    {
     "name": "stdout",
     "output_type": "stream",
     "text": [
      "value='abc'\n",
      "validated_values=ValidationInfo(config={'title': 'Model'}, context=None, data={'field_1': 1, 'field_2': [1, 2, 3]}, field_name='field_3')\n"
     ]
    },
    {
     "data": {
      "text/plain": [
       "Model(field_1=1, field_2=[1, 2, 3], field_3='abc', field_4=['a', 'b', 'c'])"
      ]
     },
     "execution_count": 3,
     "metadata": {},
     "output_type": "execute_result"
    }
   ],
   "execution_count": 3
  },
  {
   "metadata": {
    "ExecuteTime": {
     "end_time": "2024-12-06T20:53:57.405782Z",
     "start_time": "2024-12-06T20:53:57.402568Z"
    }
   },
   "cell_type": "code",
   "source": [
    "try:\n",
    "    Model(field_1=1, field_2=[\"a\", \"f\"], field_3=\"abc\", field_4=[\"a\", \"b\", \"c\"])\n",
    "except ValidationError as e:\n",
    "    print(e)"
   ],
   "id": "24acf8fdf224ae3d",
   "outputs": [
    {
     "name": "stdout",
     "output_type": "stream",
     "text": [
      "value='abc'\n",
      "validated_values=ValidationInfo(config={'title': 'Model'}, context=None, data={'field_1': 1}, field_name='field_3')\n",
      "2 validation errors for Model\n",
      "field_2.0\n",
      "  Input should be a valid integer, unable to parse string as an integer [type=int_parsing, input_value='a', input_type=str]\n",
      "    For further information visit https://errors.pydantic.dev/2.9/v/int_parsing\n",
      "field_2.1\n",
      "  Input should be a valid integer, unable to parse string as an integer [type=int_parsing, input_value='f', input_type=str]\n",
      "    For further information visit https://errors.pydantic.dev/2.9/v/int_parsing\n"
     ]
    }
   ],
   "execution_count": 6
  },
  {
   "metadata": {
    "ExecuteTime": {
     "end_time": "2024-12-06T20:54:31.446030Z",
     "start_time": "2024-12-06T20:54:31.436471Z"
    }
   },
   "cell_type": "code",
   "source": [
    "import pytz\n",
    "from dateutil.parser import parse\n",
    "from typing import Any\n",
    "from datetime import datetime\n",
    "\n",
    "\n",
    "def parse_datetime(v: Any) -> datetime:\n",
    "    if isinstance(v, str):\n",
    "        try:\n",
    "            return parse(v)\n",
    "        except Exception as e:\n",
    "            raise ValueError(str(e))\n",
    "    return v\n",
    "\n",
    "\n",
    "def validate_date(dt: datetime) -> datetime:\n",
    "    if dt.tzinfo is None:\n",
    "        dt = pytz.utc.localize(dt)\n",
    "    else:\n",
    "        dt = dt.astimezone(pytz.utc)\n",
    "    return dt"
   ],
   "id": "7662bb5964356a38",
   "outputs": [],
   "execution_count": 7
  },
  {
   "metadata": {
    "ExecuteTime": {
     "end_time": "2024-12-06T20:55:43.738957Z",
     "start_time": "2024-12-06T20:55:43.735993Z"
    }
   },
   "cell_type": "code",
   "source": [
    "from typing import Annotated\n",
    "\n",
    "DateTimeUTC = Annotated[datetime, BeforeValidator(parse_datetime), AfterValidator(parse_datetime)]"
   ],
   "id": "21494c799a81b9dc",
   "outputs": [],
   "execution_count": 11
  },
  {
   "metadata": {
    "ExecuteTime": {
     "end_time": "2024-12-06T20:57:52.913926Z",
     "start_time": "2024-12-06T20:57:52.907074Z"
    }
   },
   "cell_type": "code",
   "source": [
    "class Model(BaseModel):\n",
    "    start: DateTimeUTC\n",
    "    end: DateTimeUTC\n",
    "\n",
    "    @field_validator('end')\n",
    "    @classmethod\n",
    "    def validate(cls, value: datetime, validated_values: ValidationInfo):\n",
    "        data = validated_values.data\n",
    "        if \"start\" in data and value <= data[\"start\"]:\n",
    "                raise ValueError(\"Start date must be before end date\")\n",
    "        return value"
   ],
   "id": "cbba0bb1aa7bfd1e",
   "outputs": [],
   "execution_count": 12
  },
  {
   "metadata": {
    "ExecuteTime": {
     "end_time": "2024-12-06T20:58:42.665623Z",
     "start_time": "2024-12-06T20:58:42.660497Z"
    }
   },
   "cell_type": "code",
   "source": "Model(start=\"2020/1/1\", end=\"2020/2/1\")",
   "id": "6760eb5e5b7b811a",
   "outputs": [
    {
     "data": {
      "text/plain": [
       "Model(start=datetime.datetime(2020, 1, 1, 0, 0), end=datetime.datetime(2020, 2, 1, 0, 0))"
      ]
     },
     "execution_count": 13,
     "metadata": {},
     "output_type": "execute_result"
    }
   ],
   "execution_count": 13
  },
  {
   "metadata": {
    "ExecuteTime": {
     "end_time": "2024-12-06T20:59:03.166926Z",
     "start_time": "2024-12-06T20:59:03.162870Z"
    }
   },
   "cell_type": "code",
   "source": [
    "try:\n",
    "    Model(start=\"2020/10/1\", end=\"2020/2/1\")\n",
    "except ValidationError as e:\n",
    "    print(e)"
   ],
   "id": "b8269f08d3116249",
   "outputs": [
    {
     "name": "stdout",
     "output_type": "stream",
     "text": [
      "1 validation error for Model\n",
      "end\n",
      "  Value error, Start date must be before end date [type=value_error, input_value='2020/2/1', input_type=str]\n",
      "    For further information visit https://errors.pydantic.dev/2.9/v/value_error\n"
     ]
    }
   ],
   "execution_count": 14
  },
  {
   "metadata": {
    "ExecuteTime": {
     "end_time": "2024-12-06T20:59:36.312070Z",
     "start_time": "2024-12-06T20:59:36.266591Z"
    }
   },
   "cell_type": "code",
   "source": "Model(end=\"2020/2/1\")",
   "id": "465f1d5beaa125eb",
   "outputs": [
    {
     "ename": "ValidationError",
     "evalue": "1 validation error for Model\nstart\n  Field required [type=missing, input_value={'end': '2020/2/1'}, input_type=dict]\n    For further information visit https://errors.pydantic.dev/2.9/v/missing",
     "output_type": "error",
     "traceback": [
      "\u001B[0;31m---------------------------------------------------------------------------\u001B[0m",
      "\u001B[0;31mValidationError\u001B[0m                           Traceback (most recent call last)",
      "Cell \u001B[0;32mIn[15], line 1\u001B[0m\n\u001B[0;32m----> 1\u001B[0m \u001B[43mModel\u001B[49m\u001B[43m(\u001B[49m\u001B[43mend\u001B[49m\u001B[38;5;241;43m=\u001B[39;49m\u001B[38;5;124;43m\"\u001B[39;49m\u001B[38;5;124;43m2020/2/1\u001B[39;49m\u001B[38;5;124;43m\"\u001B[39;49m\u001B[43m)\u001B[49m\n",
      "File \u001B[0;32m~/Dev/pydantic-essentials/venv/lib/python3.12/site-packages/pydantic/main.py:212\u001B[0m, in \u001B[0;36mBaseModel.__init__\u001B[0;34m(self, **data)\u001B[0m\n\u001B[1;32m    210\u001B[0m \u001B[38;5;66;03m# `__tracebackhide__` tells pytest and some other tools to omit this function from tracebacks\u001B[39;00m\n\u001B[1;32m    211\u001B[0m __tracebackhide__ \u001B[38;5;241m=\u001B[39m \u001B[38;5;28;01mTrue\u001B[39;00m\n\u001B[0;32m--> 212\u001B[0m validated_self \u001B[38;5;241m=\u001B[39m \u001B[38;5;28;43mself\u001B[39;49m\u001B[38;5;241;43m.\u001B[39;49m\u001B[43m__pydantic_validator__\u001B[49m\u001B[38;5;241;43m.\u001B[39;49m\u001B[43mvalidate_python\u001B[49m\u001B[43m(\u001B[49m\u001B[43mdata\u001B[49m\u001B[43m,\u001B[49m\u001B[43m \u001B[49m\u001B[43mself_instance\u001B[49m\u001B[38;5;241;43m=\u001B[39;49m\u001B[38;5;28;43mself\u001B[39;49m\u001B[43m)\u001B[49m\n\u001B[1;32m    213\u001B[0m \u001B[38;5;28;01mif\u001B[39;00m \u001B[38;5;28mself\u001B[39m \u001B[38;5;129;01mis\u001B[39;00m \u001B[38;5;129;01mnot\u001B[39;00m validated_self:\n\u001B[1;32m    214\u001B[0m     warnings\u001B[38;5;241m.\u001B[39mwarn(\n\u001B[1;32m    215\u001B[0m         \u001B[38;5;124m'\u001B[39m\u001B[38;5;124mA custom validator is returning a value other than `self`.\u001B[39m\u001B[38;5;130;01m\\n\u001B[39;00m\u001B[38;5;124m'\u001B[39m\n\u001B[1;32m    216\u001B[0m         \u001B[38;5;124m\"\u001B[39m\u001B[38;5;124mReturning anything other than `self` from a top level model validator isn\u001B[39m\u001B[38;5;124m'\u001B[39m\u001B[38;5;124mt supported when validating via `__init__`.\u001B[39m\u001B[38;5;130;01m\\n\u001B[39;00m\u001B[38;5;124m\"\u001B[39m\n\u001B[1;32m    217\u001B[0m         \u001B[38;5;124m'\u001B[39m\u001B[38;5;124mSee the `model_validator` docs (https://docs.pydantic.dev/latest/concepts/validators/#model-validators) for more details.\u001B[39m\u001B[38;5;124m'\u001B[39m,\n\u001B[1;32m    218\u001B[0m         category\u001B[38;5;241m=\u001B[39m\u001B[38;5;28;01mNone\u001B[39;00m,\n\u001B[1;32m    219\u001B[0m     )\n",
      "\u001B[0;31mValidationError\u001B[0m: 1 validation error for Model\nstart\n  Field required [type=missing, input_value={'end': '2020/2/1'}, input_type=dict]\n    For further information visit https://errors.pydantic.dev/2.9/v/missing"
     ]
    }
   ],
   "execution_count": 15
  }
 ],
 "metadata": {
  "kernelspec": {
   "name": "python3",
   "language": "python",
   "display_name": "Python 3 (ipykernel)"
  }
 },
 "nbformat": 5,
 "nbformat_minor": 9
}
