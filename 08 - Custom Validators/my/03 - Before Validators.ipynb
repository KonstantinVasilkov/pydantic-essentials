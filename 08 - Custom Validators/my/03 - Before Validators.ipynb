{
 "cells": [
  {
   "metadata": {
    "ExecuteTime": {
     "end_time": "2024-12-06T19:36:38.241940Z",
     "start_time": "2024-12-06T19:36:38.206656Z"
    }
   },
   "cell_type": "code",
   "source": [
    "from datetime import datetime\n",
    "from pydantic import BaseModel, field_validator, ValidationError"
   ],
   "id": "f7d842b6310fede2",
   "outputs": [],
   "execution_count": 1
  },
  {
   "metadata": {
    "ExecuteTime": {
     "end_time": "2024-12-06T19:37:01.791286Z",
     "start_time": "2024-12-06T19:37:01.737091Z"
    }
   },
   "cell_type": "code",
   "source": [
    "class Model(BaseModel):\n",
    "    dt: datetime"
   ],
   "id": "820d23314b81e118",
   "outputs": [],
   "execution_count": 2
  },
  {
   "metadata": {
    "ExecuteTime": {
     "end_time": "2024-12-06T19:37:55.605682Z",
     "start_time": "2024-12-06T19:37:55.601414Z"
    }
   },
   "cell_type": "code",
   "source": "Model(dt=\"2020-10-01T12:00:00Z\")",
   "id": "22a332b7b6a747e6",
   "outputs": [
    {
     "data": {
      "text/plain": [
       "Model(dt=datetime.datetime(2020, 10, 1, 12, 0, tzinfo=TzInfo(UTC)))"
      ]
     },
     "execution_count": 4,
     "metadata": {},
     "output_type": "execute_result"
    }
   ],
   "execution_count": 4
  },
  {
   "metadata": {
    "ExecuteTime": {
     "end_time": "2024-12-06T19:38:33.850795Z",
     "start_time": "2024-12-06T19:38:33.838096Z"
    }
   },
   "cell_type": "code",
   "source": [
    "try:\n",
    "    Model(dt=\"2020/10/01 03:00pm\")\n",
    "except ValidationError as e:\n",
    "    print(e)"
   ],
   "id": "98ba8d69517ce57d",
   "outputs": [
    {
     "name": "stdout",
     "output_type": "stream",
     "text": [
      "1 validation error for Model\n",
      "dt\n",
      "  Input should be a valid datetime or date, invalid date separator, expected `-` [type=datetime_from_date_parsing, input_value='2020/10/01 03:00pm', input_type=str]\n",
      "    For further information visit https://errors.pydantic.dev/2.9/v/datetime_from_date_parsing\n"
     ]
    }
   ],
   "execution_count": 6
  },
  {
   "metadata": {
    "ExecuteTime": {
     "end_time": "2024-12-06T19:39:01.938144Z",
     "start_time": "2024-12-06T19:39:01.934145Z"
    }
   },
   "cell_type": "code",
   "source": [
    "try:\n",
    "    Model(dt=\"Jan 1, 2020 03:00pm\")\n",
    "except ValidationError as e:\n",
    "    print(e)"
   ],
   "id": "60f71532368c8770",
   "outputs": [
    {
     "name": "stdout",
     "output_type": "stream",
     "text": [
      "1 validation error for Model\n",
      "dt\n",
      "  Input should be a valid datetime or date, invalid character in year [type=datetime_from_date_parsing, input_value='Jan 1, 2020 03:00pm', input_type=str]\n",
      "    For further information visit https://errors.pydantic.dev/2.9/v/datetime_from_date_parsing\n"
     ]
    }
   ],
   "execution_count": 7
  },
  {
   "metadata": {
    "ExecuteTime": {
     "end_time": "2024-12-06T19:39:32.612688Z",
     "start_time": "2024-12-06T19:39:32.609306Z"
    }
   },
   "cell_type": "code",
   "source": "from dateutil.parser import parse",
   "id": "ae21a15c1e8f2934",
   "outputs": [],
   "execution_count": 8
  },
  {
   "metadata": {
    "ExecuteTime": {
     "end_time": "2024-12-06T19:39:47.978174Z",
     "start_time": "2024-12-06T19:39:47.974460Z"
    }
   },
   "cell_type": "code",
   "source": "parse(\"Jan 1, 2020 03:00pm\")",
   "id": "ff0b2c943f93d71d",
   "outputs": [
    {
     "data": {
      "text/plain": [
       "datetime.datetime(2020, 1, 1, 15, 0)"
      ]
     },
     "execution_count": 9,
     "metadata": {},
     "output_type": "execute_result"
    }
   ],
   "execution_count": 9
  },
  {
   "metadata": {
    "ExecuteTime": {
     "end_time": "2024-12-06T19:40:05.268243Z",
     "start_time": "2024-12-06T19:40:05.263449Z"
    }
   },
   "cell_type": "code",
   "source": "parse(\"2020/10/01 03:00pm\")\n",
   "id": "4b2d1944e1916891",
   "outputs": [
    {
     "data": {
      "text/plain": [
       "datetime.datetime(2020, 10, 1, 15, 0)"
      ]
     },
     "execution_count": 10,
     "metadata": {},
     "output_type": "execute_result"
    }
   ],
   "execution_count": 10
  },
  {
   "metadata": {
    "ExecuteTime": {
     "end_time": "2024-12-06T19:41:41.688816Z",
     "start_time": "2024-12-06T19:41:41.686739Z"
    }
   },
   "cell_type": "code",
   "source": [
    "try:\n",
    "    parse(datetime(2020, 10, 1, 3, 0, 0))\n",
    "except TypeError as e:\n",
    "    print(e)"
   ],
   "id": "240b887402d555de",
   "outputs": [
    {
     "name": "stdout",
     "output_type": "stream",
     "text": [
      "Parser must be a string or character stream, not datetime\n"
     ]
    }
   ],
   "execution_count": 11
  },
  {
   "metadata": {
    "ExecuteTime": {
     "end_time": "2024-12-06T19:41:58.659117Z",
     "start_time": "2024-12-06T19:41:58.653899Z"
    }
   },
   "cell_type": "code",
   "source": "Model(dt=datetime(2020, 10, 1, 3, 0, 0))",
   "id": "a2eb807dd1fb6d05",
   "outputs": [
    {
     "data": {
      "text/plain": [
       "Model(dt=datetime.datetime(2020, 10, 1, 3, 0))"
      ]
     },
     "execution_count": 12,
     "metadata": {},
     "output_type": "execute_result"
    }
   ],
   "execution_count": 12
  },
  {
   "metadata": {
    "ExecuteTime": {
     "end_time": "2024-12-06T19:44:57.019400Z",
     "start_time": "2024-12-06T19:44:57.014112Z"
    }
   },
   "cell_type": "code",
   "source": [
    "from typing import Any\n",
    "\n",
    "class Model(BaseModel):\n",
    "    dt: datetime\n",
    "\n",
    "    @field_validator(\"dt\", mode=\"before\")\n",
    "    @classmethod\n",
    "    def parse_datetime(cls, v: Any) -> datetime:\n",
    "        if isinstance(v, str):\n",
    "            print(f\"Parsing string {v}\")\n",
    "            try:\n",
    "                return parse(v)\n",
    "            except Exception as e:\n",
    "                raise ValueError(str(e))\n",
    "        print(\"pass through...\")\n",
    "        return v\n",
    "\n"
   ],
   "id": "23736e47a4d5f54b",
   "outputs": [],
   "execution_count": 13
  },
  {
   "metadata": {
    "ExecuteTime": {
     "end_time": "2024-12-06T19:45:19.276391Z",
     "start_time": "2024-12-06T19:45:19.271402Z"
    }
   },
   "cell_type": "code",
   "source": "Model(dt=\"Jan 1, 2020 03:00pm\")",
   "id": "d412cb8cd1a1a8ca",
   "outputs": [
    {
     "name": "stdout",
     "output_type": "stream",
     "text": [
      "Parsing string Jan 1, 2020 03:00pm\n"
     ]
    },
    {
     "data": {
      "text/plain": [
       "Model(dt=datetime.datetime(2020, 1, 1, 15, 0))"
      ]
     },
     "execution_count": 14,
     "metadata": {},
     "output_type": "execute_result"
    }
   ],
   "execution_count": 14
  },
  {
   "metadata": {
    "ExecuteTime": {
     "end_time": "2024-12-06T19:45:54.940866Z",
     "start_time": "2024-12-06T19:45:54.935450Z"
    }
   },
   "cell_type": "code",
   "source": "Model(dt=datetime(2020, 10, 1, 3, 0, 0))",
   "id": "e742ffc1e54ddfc4",
   "outputs": [
    {
     "name": "stdout",
     "output_type": "stream",
     "text": [
      "pass through...\n"
     ]
    },
    {
     "data": {
      "text/plain": [
       "Model(dt=datetime.datetime(2020, 10, 1, 3, 0))"
      ]
     },
     "execution_count": 15,
     "metadata": {},
     "output_type": "execute_result"
    }
   ],
   "execution_count": 15
  },
  {
   "metadata": {
    "ExecuteTime": {
     "end_time": "2024-12-06T19:46:14.696676Z",
     "start_time": "2024-12-06T19:46:14.693532Z"
    }
   },
   "cell_type": "code",
   "source": [
    "try:\n",
    "    Model(dt=[1, 2, 3])\n",
    "except ValidationError as e:\n",
    "    print(e)"
   ],
   "id": "bb780385e0c67ef6",
   "outputs": [
    {
     "name": "stdout",
     "output_type": "stream",
     "text": [
      "pass through...\n",
      "1 validation error for Model\n",
      "dt\n",
      "  Input should be a valid datetime [type=datetime_type, input_value=[1, 2, 3], input_type=list]\n",
      "    For further information visit https://errors.pydantic.dev/2.9/v/datetime_type\n"
     ]
    }
   ],
   "execution_count": 16
  },
  {
   "metadata": {
    "ExecuteTime": {
     "end_time": "2024-12-06T19:47:28.909898Z",
     "start_time": "2024-12-06T19:47:28.903793Z"
    }
   },
   "cell_type": "code",
   "source": [
    "class Model(BaseModel):\n",
    "    dt: datetime\n",
    "\n",
    "    @field_validator(\"dt\", mode=\"before\")\n",
    "    @classmethod\n",
    "    def parse_datetime(cls, v: Any) -> datetime:\n",
    "        if isinstance(v, str):\n",
    "            print(f\"Parsing string {v}\")\n",
    "            try:\n",
    "                return parse(v)\n",
    "            except Exception as e:\n",
    "                raise ValueError(str(e))\n",
    "        print(\"pass through...\")\n",
    "        return v\n",
    "\n",
    "    @field_validator(\"dt\", mode=\"before\")\n",
    "    @classmethod\n",
    "    def validate_1(cls, v: Any) -> datetime:\n",
    "        print(f\"Validating {v} in validate_1\")\n",
    "        return v\n",
    "\n",
    "    @field_validator(\"dt\", mode=\"before\")\n",
    "    @classmethod\n",
    "    def validate_2(cls, v: Any) -> datetime:\n",
    "        print(f\"Validating {v} in validate_2\")\n",
    "        return v"
   ],
   "id": "d58d9e6a5e11de39",
   "outputs": [],
   "execution_count": 17
  },
  {
   "metadata": {
    "ExecuteTime": {
     "end_time": "2024-12-06T19:47:36.823049Z",
     "start_time": "2024-12-06T19:47:36.817986Z"
    }
   },
   "cell_type": "code",
   "source": "Model(dt=datetime(2020, 10, 1, 3, 0, 0))",
   "id": "81fdfff153e63422",
   "outputs": [
    {
     "name": "stdout",
     "output_type": "stream",
     "text": [
      "Validating 2020-10-01 03:00:00 in validate_2\n",
      "Validating 2020-10-01 03:00:00 in validate_1\n",
      "pass through...\n"
     ]
    },
    {
     "data": {
      "text/plain": [
       "Model(dt=datetime.datetime(2020, 10, 1, 3, 0))"
      ]
     },
     "execution_count": 18,
     "metadata": {},
     "output_type": "execute_result"
    }
   ],
   "execution_count": 18
  }
 ],
 "metadata": {
  "kernelspec": {
   "name": "python3",
   "language": "python",
   "display_name": "Python 3 (ipykernel)"
  }
 },
 "nbformat": 5,
 "nbformat_minor": 9
}
