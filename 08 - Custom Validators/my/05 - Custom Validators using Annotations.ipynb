{
 "cells": [
  {
   "metadata": {
    "ExecuteTime": {
     "end_time": "2024-12-06T20:15:51.740788Z",
     "start_time": "2024-12-06T20:15:51.674806Z"
    }
   },
   "cell_type": "code",
   "source": [
    "from pydantic import BaseModel, Field, ValidationError\n",
    "\n",
    "class Model(BaseModel):\n",
    "    number: int = Field(gt=0, lt=5)"
   ],
   "id": "4bcade2bcdb856cf",
   "outputs": [],
   "execution_count": 1
  },
  {
   "metadata": {
    "ExecuteTime": {
     "end_time": "2024-12-06T20:16:39.333696Z",
     "start_time": "2024-12-06T20:16:39.330202Z"
    }
   },
   "cell_type": "code",
   "source": [
    "from typing import Annotated\n",
    "\n",
    "BoundedInt = Annotated[int, Field(gt=0, lt=5)]\n",
    "\n",
    "class Model(BaseModel):\n",
    "    number: BoundedInt"
   ],
   "id": "b105a7ff6c084bac",
   "outputs": [],
   "execution_count": 2
  },
  {
   "metadata": {
    "ExecuteTime": {
     "end_time": "2024-12-06T20:18:09.528212Z",
     "start_time": "2024-12-06T20:18:09.524761Z"
    }
   },
   "cell_type": "code",
   "source": [
    "import pytz\n",
    "from dateutil.parser import parse\n",
    "from typing import Any\n",
    "from datetime import datetime\n",
    "\n",
    "\n",
    "def parse_datetime(v: Any) -> datetime:\n",
    "        if isinstance(v, str):\n",
    "            try:\n",
    "                return parse(v)\n",
    "            except Exception as e:\n",
    "                raise ValueError(str(e))\n",
    "        return v\n",
    "\n",
    "\n",
    "\n",
    "def validate_date(dt: datetime) -> datetime:\n",
    "        if dt.tzinfo is None:\n",
    "            dt = pytz.utc.localize(dt)\n",
    "        else:\n",
    "            dt = dt.astimezone(pytz.utc)\n",
    "        return dt"
   ],
   "id": "7fffcee6d8858875",
   "outputs": [],
   "execution_count": 3
  },
  {
   "metadata": {
    "ExecuteTime": {
     "end_time": "2024-12-06T20:20:22.275798Z",
     "start_time": "2024-12-06T20:20:22.272348Z"
    }
   },
   "cell_type": "code",
   "source": [
    "from pydantic import BeforeValidator, AfterValidator\n",
    "\n",
    "DateTime = Annotated[datetime, BeforeValidator(parse_datetime)]"
   ],
   "id": "d92fdbc16c10f981",
   "outputs": [],
   "execution_count": 8
  },
  {
   "metadata": {
    "ExecuteTime": {
     "end_time": "2024-12-06T20:19:07.263447Z",
     "start_time": "2024-12-06T20:19:07.259249Z"
    }
   },
   "cell_type": "code",
   "source": [
    "class Model(BaseModel):\n",
    "    dt: DateTime"
   ],
   "id": "b35faada66f89248",
   "outputs": [],
   "execution_count": 5
  },
  {
   "metadata": {
    "ExecuteTime": {
     "end_time": "2024-12-06T20:19:29.975862Z",
     "start_time": "2024-12-06T20:19:29.968709Z"
    }
   },
   "cell_type": "code",
   "source": "Model(dt=\"2020/1/1 3:00pm\")",
   "id": "27f0d3580add2d79",
   "outputs": [
    {
     "data": {
      "text/plain": [
       "Model(dt=datetime.datetime(2020, 1, 1, 15, 0))"
      ]
     },
     "execution_count": 6,
     "metadata": {},
     "output_type": "execute_result"
    }
   ],
   "execution_count": 6
  },
  {
   "metadata": {
    "ExecuteTime": {
     "end_time": "2024-12-06T20:20:09.758357Z",
     "start_time": "2024-12-06T20:20:09.751605Z"
    }
   },
   "cell_type": "code",
   "source": "",
   "id": "a0fb88b72c971b0b",
   "outputs": [],
   "execution_count": 7
  },
  {
   "metadata": {
    "ExecuteTime": {
     "end_time": "2024-12-06T20:20:32.040276Z",
     "start_time": "2024-12-06T20:20:32.037304Z"
    }
   },
   "cell_type": "code",
   "source": "DateTime = Annotated[datetime, BeforeValidator(parse_datetime), AfterValidator(validate_date)]\n",
   "id": "11cb1019f7ee807c",
   "outputs": [],
   "execution_count": 9
  },
  {
   "metadata": {
    "ExecuteTime": {
     "end_time": "2024-12-06T20:20:38.582935Z",
     "start_time": "2024-12-06T20:20:38.578808Z"
    }
   },
   "cell_type": "code",
   "source": [
    "class Model(BaseModel):\n",
    "    dt: DateTime"
   ],
   "id": "24e968d2dd32fc9",
   "outputs": [],
   "execution_count": 10
  },
  {
   "metadata": {
    "ExecuteTime": {
     "end_time": "2024-12-06T20:20:45.034601Z",
     "start_time": "2024-12-06T20:20:45.030419Z"
    }
   },
   "cell_type": "code",
   "source": "Model(dt=\"2020/1/1 3:00pm\")",
   "id": "94613161df54eaa2",
   "outputs": [
    {
     "data": {
      "text/plain": [
       "Model(dt=datetime.datetime(2020, 1, 1, 15, 0, tzinfo=<UTC>))"
      ]
     },
     "execution_count": 11,
     "metadata": {},
     "output_type": "execute_result"
    }
   ],
   "execution_count": 11
  },
  {
   "metadata": {
    "ExecuteTime": {
     "end_time": "2024-12-06T20:29:40.754198Z",
     "start_time": "2024-12-06T20:29:40.750772Z"
    }
   },
   "cell_type": "code",
   "source": [
    "def are_elements_unique(values: list[Any]):\n",
    "    unique_elements = []  #not using set() because elements can be not hashable\n",
    "    for value in values:\n",
    "        if value in unique_elements:\n",
    "            raise ValueError(\"elements must be unique\")\n",
    "        unique_elements.append(value)\n",
    "    return unique_elements\n"
   ],
   "id": "b6810676463148ea",
   "outputs": [],
   "execution_count": 20
  },
  {
   "metadata": {
    "ExecuteTime": {
     "end_time": "2024-12-06T20:29:42.658567Z",
     "start_time": "2024-12-06T20:29:42.655360Z"
    }
   },
   "cell_type": "code",
   "source": "UniqueIntegersList = Annotated[list[int], AfterValidator(are_elements_unique)]",
   "id": "8debf4321538ed31",
   "outputs": [],
   "execution_count": 21
  },
  {
   "metadata": {
    "ExecuteTime": {
     "end_time": "2024-12-06T20:29:43.743872Z",
     "start_time": "2024-12-06T20:29:43.740212Z"
    }
   },
   "cell_type": "code",
   "source": [
    "class Model(BaseModel):\n",
    "    numbers: UniqueIntegersList"
   ],
   "id": "3fbb5c2a9dc33d14",
   "outputs": [],
   "execution_count": 22
  },
  {
   "metadata": {
    "ExecuteTime": {
     "end_time": "2024-12-06T20:29:47.914882Z",
     "start_time": "2024-12-06T20:29:47.911347Z"
    }
   },
   "cell_type": "code",
   "source": [
    "m = Model(numbers=(1, 2, 3, 4, 5))\n",
    "m"
   ],
   "id": "c98cdb7a523adcf5",
   "outputs": [
    {
     "data": {
      "text/plain": [
       "Model(numbers=[1, 2, 3, 4, 5])"
      ]
     },
     "execution_count": 24,
     "metadata": {},
     "output_type": "execute_result"
    }
   ],
   "execution_count": 24
  },
  {
   "metadata": {
    "ExecuteTime": {
     "end_time": "2024-12-06T20:30:09.389868Z",
     "start_time": "2024-12-06T20:30:09.387776Z"
    }
   },
   "cell_type": "code",
   "source": [
    "try:\n",
    "    Model(numbers=(1, 1, 2, 3, 4, 5))\n",
    "except ValidationError as e:\n",
    "    print(e)"
   ],
   "id": "5aaa1bfc0b1fe5d9",
   "outputs": [
    {
     "name": "stdout",
     "output_type": "stream",
     "text": [
      "1 validation error for Model\n",
      "numbers\n",
      "  Value error, elements must be unique [type=value_error, input_value=(1, 1, 2, 3, 4, 5), input_type=tuple]\n",
      "    For further information visit https://errors.pydantic.dev/2.9/v/value_error\n"
     ]
    }
   ],
   "execution_count": 25
  },
  {
   "metadata": {
    "ExecuteTime": {
     "end_time": "2024-12-06T20:30:46.170962Z",
     "start_time": "2024-12-06T20:30:46.167900Z"
    }
   },
   "cell_type": "code",
   "source": [
    "from typing import TypeVar\n",
    "\n",
    "T = TypeVar(\"T\")"
   ],
   "id": "9a65abdd45ffb6c9",
   "outputs": [],
   "execution_count": 27
  },
  {
   "metadata": {
    "ExecuteTime": {
     "end_time": "2024-12-06T20:31:11.863398Z",
     "start_time": "2024-12-06T20:31:11.860067Z"
    }
   },
   "cell_type": "code",
   "source": "UniqueList = Annotated[list[T], AfterValidator(are_elements_unique)]\n",
   "id": "ff3832c544015f23",
   "outputs": [],
   "execution_count": 29
  },
  {
   "metadata": {
    "ExecuteTime": {
     "end_time": "2024-12-06T20:31:40.503012Z",
     "start_time": "2024-12-06T20:31:40.498143Z"
    }
   },
   "cell_type": "code",
   "source": [
    "class Model(BaseModel):\n",
    "    numbers: UniqueList[int] = []\n",
    "    strings: UniqueList[str] = []"
   ],
   "id": "41f3423c61c94ccc",
   "outputs": [],
   "execution_count": 30
  },
  {
   "metadata": {
    "ExecuteTime": {
     "end_time": "2024-12-06T20:31:59.117336Z",
     "start_time": "2024-12-06T20:31:59.111905Z"
    }
   },
   "cell_type": "code",
   "source": "Model(numbers=(1, 2, 3, 4, 5), strings=[\"a\", \"b\", \"c\"])",
   "id": "e4da73d05e4a29c",
   "outputs": [
    {
     "data": {
      "text/plain": [
       "Model(numbers=[1, 2, 3, 4, 5], strings=['a', 'b', 'c'])"
      ]
     },
     "execution_count": 31,
     "metadata": {},
     "output_type": "execute_result"
    }
   ],
   "execution_count": 31
  },
  {
   "metadata": {
    "ExecuteTime": {
     "end_time": "2024-12-06T20:33:19.626434Z",
     "start_time": "2024-12-06T20:33:19.623721Z"
    }
   },
   "cell_type": "code",
   "source": [
    "try:\n",
    "    Model(numbers=[\"a\", 2], strings=[1, \"b\"])\n",
    "except ValidationError as e:\n",
    "    print(e)"
   ],
   "id": "2ff80d9c40055a94",
   "outputs": [
    {
     "name": "stdout",
     "output_type": "stream",
     "text": [
      "2 validation errors for Model\n",
      "numbers.0\n",
      "  Input should be a valid integer, unable to parse string as an integer [type=int_parsing, input_value='a', input_type=str]\n",
      "    For further information visit https://errors.pydantic.dev/2.9/v/int_parsing\n",
      "strings.0\n",
      "  Input should be a valid string [type=string_type, input_value=1, input_type=int]\n",
      "    For further information visit https://errors.pydantic.dev/2.9/v/string_type\n"
     ]
    }
   ],
   "execution_count": 33
  },
  {
   "metadata": {
    "ExecuteTime": {
     "end_time": "2024-12-06T20:37:12.046915Z",
     "start_time": "2024-12-06T20:37:12.040579Z"
    }
   },
   "cell_type": "code",
   "source": [
    "UniqueList = Annotated[list[T], AfterValidator(are_elements_unique), Field(min_length=1, max_length=5, validate_default=True)]\n",
    "\n",
    "class Model(BaseModel):\n",
    "    numbers: UniqueList[int] = list\n",
    "    strings: UniqueList[str] = list\n"
   ],
   "id": "e17461c8da801ac8",
   "outputs": [],
   "execution_count": 41
  },
  {
   "metadata": {
    "ExecuteTime": {
     "end_time": "2024-12-06T20:34:58.441443Z",
     "start_time": "2024-12-06T20:34:58.438987Z"
    }
   },
   "cell_type": "code",
   "source": [
    "try:\n",
    "    Model(numbers=(1, 2, 3, 4, 6, 5, \"&\"), strings=[1, \"b\"])\n",
    "except ValidationError as e:\n",
    "    print(e)"
   ],
   "id": "8df2aa66af916855",
   "outputs": [
    {
     "name": "stdout",
     "output_type": "stream",
     "text": [
      "2 validation errors for Model\n",
      "numbers.6\n",
      "  Input should be a valid integer, unable to parse string as an integer [type=int_parsing, input_value='&', input_type=str]\n",
      "    For further information visit https://errors.pydantic.dev/2.9/v/int_parsing\n",
      "strings.0\n",
      "  Input should be a valid string [type=string_type, input_value=1, input_type=int]\n",
      "    For further information visit https://errors.pydantic.dev/2.9/v/string_type\n"
     ]
    }
   ],
   "execution_count": 37
  },
  {
   "metadata": {
    "ExecuteTime": {
     "end_time": "2024-12-06T20:37:15.009426Z",
     "start_time": "2024-12-06T20:37:14.995007Z"
    }
   },
   "cell_type": "code",
   "source": "Model()",
   "id": "cfadf61274444839",
   "outputs": [
    {
     "ename": "ValidationError",
     "evalue": "2 validation errors for Model\nnumbers\n  Input should be a valid list [type=list_type, input_value=<class 'list'>, input_type=type]\n    For further information visit https://errors.pydantic.dev/2.9/v/list_type\nstrings\n  Input should be a valid list [type=list_type, input_value=<class 'list'>, input_type=type]\n    For further information visit https://errors.pydantic.dev/2.9/v/list_type",
     "output_type": "error",
     "traceback": [
      "\u001B[0;31m---------------------------------------------------------------------------\u001B[0m",
      "\u001B[0;31mValidationError\u001B[0m                           Traceback (most recent call last)",
      "Cell \u001B[0;32mIn[42], line 1\u001B[0m\n\u001B[0;32m----> 1\u001B[0m \u001B[43mModel\u001B[49m\u001B[43m(\u001B[49m\u001B[43m)\u001B[49m\n",
      "File \u001B[0;32m~/Dev/pydantic-essentials/venv/lib/python3.12/site-packages/pydantic/main.py:212\u001B[0m, in \u001B[0;36mBaseModel.__init__\u001B[0;34m(self, **data)\u001B[0m\n\u001B[1;32m    210\u001B[0m \u001B[38;5;66;03m# `__tracebackhide__` tells pytest and some other tools to omit this function from tracebacks\u001B[39;00m\n\u001B[1;32m    211\u001B[0m __tracebackhide__ \u001B[38;5;241m=\u001B[39m \u001B[38;5;28;01mTrue\u001B[39;00m\n\u001B[0;32m--> 212\u001B[0m validated_self \u001B[38;5;241m=\u001B[39m \u001B[38;5;28;43mself\u001B[39;49m\u001B[38;5;241;43m.\u001B[39;49m\u001B[43m__pydantic_validator__\u001B[49m\u001B[38;5;241;43m.\u001B[39;49m\u001B[43mvalidate_python\u001B[49m\u001B[43m(\u001B[49m\u001B[43mdata\u001B[49m\u001B[43m,\u001B[49m\u001B[43m \u001B[49m\u001B[43mself_instance\u001B[49m\u001B[38;5;241;43m=\u001B[39;49m\u001B[38;5;28;43mself\u001B[39;49m\u001B[43m)\u001B[49m\n\u001B[1;32m    213\u001B[0m \u001B[38;5;28;01mif\u001B[39;00m \u001B[38;5;28mself\u001B[39m \u001B[38;5;129;01mis\u001B[39;00m \u001B[38;5;129;01mnot\u001B[39;00m validated_self:\n\u001B[1;32m    214\u001B[0m     warnings\u001B[38;5;241m.\u001B[39mwarn(\n\u001B[1;32m    215\u001B[0m         \u001B[38;5;124m'\u001B[39m\u001B[38;5;124mA custom validator is returning a value other than `self`.\u001B[39m\u001B[38;5;130;01m\\n\u001B[39;00m\u001B[38;5;124m'\u001B[39m\n\u001B[1;32m    216\u001B[0m         \u001B[38;5;124m\"\u001B[39m\u001B[38;5;124mReturning anything other than `self` from a top level model validator isn\u001B[39m\u001B[38;5;124m'\u001B[39m\u001B[38;5;124mt supported when validating via `__init__`.\u001B[39m\u001B[38;5;130;01m\\n\u001B[39;00m\u001B[38;5;124m\"\u001B[39m\n\u001B[1;32m    217\u001B[0m         \u001B[38;5;124m'\u001B[39m\u001B[38;5;124mSee the `model_validator` docs (https://docs.pydantic.dev/latest/concepts/validators/#model-validators) for more details.\u001B[39m\u001B[38;5;124m'\u001B[39m,\n\u001B[1;32m    218\u001B[0m         category\u001B[38;5;241m=\u001B[39m\u001B[38;5;28;01mNone\u001B[39;00m,\n\u001B[1;32m    219\u001B[0m     )\n",
      "\u001B[0;31mValidationError\u001B[0m: 2 validation errors for Model\nnumbers\n  Input should be a valid list [type=list_type, input_value=<class 'list'>, input_type=type]\n    For further information visit https://errors.pydantic.dev/2.9/v/list_type\nstrings\n  Input should be a valid list [type=list_type, input_value=<class 'list'>, input_type=type]\n    For further information visit https://errors.pydantic.dev/2.9/v/list_type"
     ]
    }
   ],
   "execution_count": 42
  }
 ],
 "metadata": {
  "kernelspec": {
   "name": "python3",
   "language": "python",
   "display_name": "Python 3 (ipykernel)"
  }
 },
 "nbformat": 5,
 "nbformat_minor": 9
}
