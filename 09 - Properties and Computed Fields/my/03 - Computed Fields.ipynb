{
 "cells": [
  {
   "metadata": {
    "ExecuteTime": {
     "end_time": "2024-12-07T12:09:04.800096Z",
     "start_time": "2024-12-07T12:09:04.761487Z"
    }
   },
   "cell_type": "code",
   "source": [
    "from functools import cached_property\n",
    "from math import pi\n",
    "from pydantic import BaseModel, computed_field, Field, PydanticUserError, ValidationError"
   ],
   "id": "acedcde1e768f662",
   "outputs": [],
   "execution_count": 1
  },
  {
   "metadata": {
    "ExecuteTime": {
     "end_time": "2024-12-07T12:15:46.899608Z",
     "start_time": "2024-12-07T12:15:46.896102Z"
    }
   },
   "cell_type": "code",
   "source": [
    "class Circle(BaseModel):\n",
    "    center: tuple[int, int] = (0, 0)\n",
    "    radius: int = Field(default=1, gt=0, frozen=True)\n",
    "\n",
    "    @computed_field(alias=\"AREA\")\n",
    "    @property\n",
    "    def area(self) -> float:\n",
    "        print(\"calculating area\")\n",
    "        return pi * self.radius ** 2"
   ],
   "id": "98d3de73f23b5252",
   "outputs": [],
   "execution_count": 14
  },
  {
   "metadata": {
    "ExecuteTime": {
     "end_time": "2024-12-07T12:16:09.672919Z",
     "start_time": "2024-12-07T12:16:09.668027Z"
    }
   },
   "cell_type": "code",
   "source": "c = Circle()",
   "id": "bc7f02ef5e1115e4",
   "outputs": [],
   "execution_count": 15
  },
  {
   "metadata": {
    "ExecuteTime": {
     "end_time": "2024-12-07T12:16:10.531504Z",
     "start_time": "2024-12-07T12:16:10.528394Z"
    }
   },
   "cell_type": "code",
   "source": "c",
   "id": "fe62f80b5f0b8708",
   "outputs": [
    {
     "name": "stdout",
     "output_type": "stream",
     "text": [
      "calculating area\n"
     ]
    },
    {
     "data": {
      "text/plain": [
       "Circle(center=(0, 0), radius=1, area=3.141592653589793)"
      ]
     },
     "execution_count": 16,
     "metadata": {},
     "output_type": "execute_result"
    }
   ],
   "execution_count": 16
  },
  {
   "metadata": {
    "ExecuteTime": {
     "end_time": "2024-12-07T12:16:11.989445Z",
     "start_time": "2024-12-07T12:16:11.986571Z"
    }
   },
   "cell_type": "code",
   "source": "c.model_fields",
   "id": "10c5495328275028",
   "outputs": [
    {
     "data": {
      "text/plain": [
       "{'center': FieldInfo(annotation=tuple[int, int], required=False, default=(0, 0)),\n",
       " 'radius': FieldInfo(annotation=int, required=False, default=1, frozen=True, metadata=[Gt(gt=0)])}"
      ]
     },
     "execution_count": 17,
     "metadata": {},
     "output_type": "execute_result"
    }
   ],
   "execution_count": 17
  },
  {
   "metadata": {
    "ExecuteTime": {
     "end_time": "2024-12-07T12:16:12.961894Z",
     "start_time": "2024-12-07T12:16:12.958865Z"
    }
   },
   "cell_type": "code",
   "source": "c.model_dump_json()",
   "id": "f70bea29165eb09a",
   "outputs": [
    {
     "name": "stdout",
     "output_type": "stream",
     "text": [
      "calculating area\n",
      "calculating area\n"
     ]
    },
    {
     "data": {
      "text/plain": [
       "'{\"center\":[0,0],\"radius\":1,\"area\":3.141592653589793}'"
      ]
     },
     "execution_count": 18,
     "metadata": {},
     "output_type": "execute_result"
    }
   ],
   "execution_count": 18
  },
  {
   "metadata": {
    "ExecuteTime": {
     "end_time": "2024-12-07T12:16:15.319676Z",
     "start_time": "2024-12-07T12:16:15.316242Z"
    }
   },
   "cell_type": "code",
   "source": "c.model_dump()",
   "id": "3191ac6c09a87969",
   "outputs": [
    {
     "name": "stdout",
     "output_type": "stream",
     "text": [
      "calculating area\n"
     ]
    },
    {
     "data": {
      "text/plain": [
       "{'center': (0, 0), 'radius': 1, 'area': 3.141592653589793}"
      ]
     },
     "execution_count": 19,
     "metadata": {},
     "output_type": "execute_result"
    }
   ],
   "execution_count": 19
  },
  {
   "metadata": {
    "ExecuteTime": {
     "end_time": "2024-12-07T12:16:39.942950Z",
     "start_time": "2024-12-07T12:16:39.937544Z"
    }
   },
   "cell_type": "code",
   "source": "Circle(area=10)",
   "id": "cd50b0353c7c1032",
   "outputs": [
    {
     "name": "stdout",
     "output_type": "stream",
     "text": [
      "calculating area\n"
     ]
    },
    {
     "data": {
      "text/plain": [
       "Circle(center=(0, 0), radius=1, area=3.141592653589793)"
      ]
     },
     "execution_count": 20,
     "metadata": {},
     "output_type": "execute_result"
    }
   ],
   "execution_count": 20
  },
  {
   "metadata": {},
   "cell_type": "code",
   "outputs": [],
   "execution_count": null,
   "source": "",
   "id": "dcd455055e2050d1"
  }
 ],
 "metadata": {
  "kernelspec": {
   "name": "python3",
   "language": "python",
   "display_name": "Python 3 (ipykernel)"
  }
 },
 "nbformat": 5,
 "nbformat_minor": 9
}
