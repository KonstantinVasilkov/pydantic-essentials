{
 "cells": [
  {
   "metadata": {
    "ExecuteTime": {
     "end_time": "2024-12-07T12:02:17.086342Z",
     "start_time": "2024-12-07T12:02:17.083212Z"
    }
   },
   "cell_type": "code",
   "source": [
    "from pydantic import BaseModel, Field, ValidationError\n",
    "from math import pi"
   ],
   "id": "9ec6d65dba52ffa6",
   "outputs": [],
   "execution_count": 2
  },
  {
   "metadata": {
    "ExecuteTime": {
     "end_time": "2024-12-07T12:03:48.543130Z",
     "start_time": "2024-12-07T12:03:48.497940Z"
    }
   },
   "cell_type": "code",
   "source": [
    "class Circle(BaseModel):\n",
    "    center: tuple[int, int] = (0, 0)\n",
    "    radius: int = Field(default=1, gt=0)\n",
    "\n",
    "    def area(self):\n",
    "        return pi * self.radius ** 2"
   ],
   "id": "e63968d57a56ae66",
   "outputs": [],
   "execution_count": 3
  },
  {
   "metadata": {
    "ExecuteTime": {
     "end_time": "2024-12-07T12:04:05.538144Z",
     "start_time": "2024-12-07T12:04:05.534563Z"
    }
   },
   "cell_type": "code",
   "source": "c = Circle(center=(1, 1), radius=2)",
   "id": "2d96abe1e51d141a",
   "outputs": [],
   "execution_count": 4
  },
  {
   "metadata": {
    "ExecuteTime": {
     "end_time": "2024-12-07T12:04:11.840690Z",
     "start_time": "2024-12-07T12:04:11.837159Z"
    }
   },
   "cell_type": "code",
   "source": "c",
   "id": "c1c50ec01cf02155",
   "outputs": [
    {
     "data": {
      "text/plain": [
       "Circle(center=(1, 1), radius=2)"
      ]
     },
     "execution_count": 5,
     "metadata": {},
     "output_type": "execute_result"
    }
   ],
   "execution_count": 5
  },
  {
   "metadata": {
    "ExecuteTime": {
     "end_time": "2024-12-07T12:04:22.042102Z",
     "start_time": "2024-12-07T12:04:22.038667Z"
    }
   },
   "cell_type": "code",
   "source": "c.model_dump()",
   "id": "183779441cd3cf2e",
   "outputs": [
    {
     "data": {
      "text/plain": [
       "{'center': (1, 1), 'radius': 2}"
      ]
     },
     "execution_count": 6,
     "metadata": {},
     "output_type": "execute_result"
    }
   ],
   "execution_count": 6
  },
  {
   "metadata": {
    "ExecuteTime": {
     "end_time": "2024-12-07T12:04:26.592670Z",
     "start_time": "2024-12-07T12:04:26.589680Z"
    }
   },
   "cell_type": "code",
   "source": "c.area()",
   "id": "464b1dd1ec491526",
   "outputs": [
    {
     "data": {
      "text/plain": [
       "12.566370614359172"
      ]
     },
     "execution_count": 7,
     "metadata": {},
     "output_type": "execute_result"
    }
   ],
   "execution_count": 7
  },
  {
   "metadata": {
    "ExecuteTime": {
     "end_time": "2024-12-07T12:04:42.992285Z",
     "start_time": "2024-12-07T12:04:42.989368Z"
    }
   },
   "cell_type": "code",
   "source": [
    "class Circle(BaseModel):\n",
    "    center: tuple[int, int] = (0, 0)\n",
    "    radius: int = Field(default=1, gt=0)\n",
    "\n",
    "    @property\n",
    "    def area(self):\n",
    "        return pi * self.radius ** 2"
   ],
   "id": "9ab320c64a8a7f8d",
   "outputs": [],
   "execution_count": 8
  },
  {
   "metadata": {
    "ExecuteTime": {
     "end_time": "2024-12-07T12:04:50.357479Z",
     "start_time": "2024-12-07T12:04:50.354900Z"
    }
   },
   "cell_type": "code",
   "source": "c = Circle(center=(1, 1), radius=2)",
   "id": "59635d5627971454",
   "outputs": [],
   "execution_count": 9
  },
  {
   "metadata": {
    "ExecuteTime": {
     "end_time": "2024-12-07T12:04:56.659454Z",
     "start_time": "2024-12-07T12:04:56.656593Z"
    }
   },
   "cell_type": "code",
   "source": "c.area",
   "id": "bc7ca4d775b783ec",
   "outputs": [
    {
     "data": {
      "text/plain": [
       "12.566370614359172"
      ]
     },
     "execution_count": 10,
     "metadata": {},
     "output_type": "execute_result"
    }
   ],
   "execution_count": 10
  },
  {
   "metadata": {
    "ExecuteTime": {
     "end_time": "2024-12-07T12:05:02.312258Z",
     "start_time": "2024-12-07T12:05:02.308599Z"
    }
   },
   "cell_type": "code",
   "source": "c.model_dump()",
   "id": "7ba92d2b64cb0a4e",
   "outputs": [
    {
     "data": {
      "text/plain": [
       "{'center': (1, 1), 'radius': 2}"
      ]
     },
     "execution_count": 11,
     "metadata": {},
     "output_type": "execute_result"
    }
   ],
   "execution_count": 11
  },
  {
   "metadata": {
    "ExecuteTime": {
     "end_time": "2024-12-07T12:05:21.956591Z",
     "start_time": "2024-12-07T12:05:21.954042Z"
    }
   },
   "cell_type": "code",
   "source": "c.model_fields",
   "id": "dfd8443730394ce0",
   "outputs": [
    {
     "data": {
      "text/plain": [
       "{'center': FieldInfo(annotation=tuple[int, int], required=False, default=(0, 0)),\n",
       " 'radius': FieldInfo(annotation=int, required=False, default=1, metadata=[Gt(gt=0)])}"
      ]
     },
     "execution_count": 13,
     "metadata": {},
     "output_type": "execute_result"
    }
   ],
   "execution_count": 13
  },
  {
   "metadata": {
    "ExecuteTime": {
     "end_time": "2024-12-07T12:07:02.720452Z",
     "start_time": "2024-12-07T12:07:02.715069Z"
    }
   },
   "cell_type": "code",
   "source": [
    "from functools import cached_property\n",
    "\n",
    "class Circle(BaseModel):\n",
    "    center: tuple[int, int] = (0, 0)\n",
    "    radius: int = Field(default=1, gt=0, frozen=True)\n",
    "\n",
    "    @cached_property\n",
    "    def area(self):\n",
    "        print(\"callculating area\")\n",
    "        return pi * self.radius ** 2"
   ],
   "id": "5ba0fa311994f6d3",
   "outputs": [],
   "execution_count": 15
  },
  {
   "metadata": {
    "ExecuteTime": {
     "end_time": "2024-12-07T12:07:04.533428Z",
     "start_time": "2024-12-07T12:07:04.530523Z"
    }
   },
   "cell_type": "code",
   "source": "c = Circle()\n",
   "id": "46c6d1aead7a48f7",
   "outputs": [],
   "execution_count": 16
  },
  {
   "metadata": {
    "ExecuteTime": {
     "end_time": "2024-12-07T12:07:11.675307Z",
     "start_time": "2024-12-07T12:07:11.673226Z"
    }
   },
   "cell_type": "code",
   "source": "c.area",
   "id": "9de4822922ef5953",
   "outputs": [
    {
     "name": "stdout",
     "output_type": "stream",
     "text": [
      "callculating area\n"
     ]
    },
    {
     "data": {
      "text/plain": [
       "3.141592653589793"
      ]
     },
     "execution_count": 17,
     "metadata": {},
     "output_type": "execute_result"
    }
   ],
   "execution_count": 17
  },
  {
   "metadata": {
    "ExecuteTime": {
     "end_time": "2024-12-07T12:07:19.609669Z",
     "start_time": "2024-12-07T12:07:19.605363Z"
    }
   },
   "cell_type": "code",
   "source": "c.area",
   "id": "5484f89773de3ade",
   "outputs": [
    {
     "data": {
      "text/plain": [
       "3.141592653589793"
      ]
     },
     "execution_count": 18,
     "metadata": {},
     "output_type": "execute_result"
    }
   ],
   "execution_count": 18
  },
  {
   "metadata": {},
   "cell_type": "code",
   "outputs": [],
   "execution_count": null,
   "source": "",
   "id": "2ea126dcb5b52b8a"
  }
 ],
 "metadata": {
  "kernelspec": {
   "name": "python3",
   "language": "python",
   "display_name": "Python 3 (ipykernel)"
  }
 },
 "nbformat": 5,
 "nbformat_minor": 9
}
