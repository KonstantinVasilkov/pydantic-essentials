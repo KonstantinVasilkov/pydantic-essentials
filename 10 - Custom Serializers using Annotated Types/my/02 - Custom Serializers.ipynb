{
 "cells": [
  {
   "metadata": {
    "ExecuteTime": {
     "end_time": "2024-12-07T14:16:17.211456Z",
     "start_time": "2024-12-07T14:16:17.208767Z"
    }
   },
   "cell_type": "code",
   "source": [
    "from datetime import datetime\n",
    "from typing import Annotated, Any\n",
    "\n",
    "import pytz\n",
    "from dateutil.parser import parse\n",
    "\n",
    "from pydantic import BaseModel, AfterValidator, BeforeValidator, field_serializer, PlainSerializer"
   ],
   "id": "fcc0a942f1529c8b",
   "outputs": [],
   "execution_count": 10
  },
  {
   "metadata": {
    "ExecuteTime": {
     "end_time": "2024-12-07T12:36:16.690293Z",
     "start_time": "2024-12-07T12:36:16.683939Z"
    }
   },
   "cell_type": "code",
   "source": [
    "def make_utc(dt: datetime) -> datetime:\n",
    "    if dt.tzinfo is None:\n",
    "        dt = pytz.utc.localize(dt)\n",
    "    else:\n",
    "        dt = dt.astimezone(pytz.utc)\n",
    "    return dt\n",
    "\n",
    "def parse_datetime(value: Any):\n",
    "    if isinstance(value, str):\n",
    "        try:\n",
    "            return parse(value)\n",
    "        except Exception as ex:\n",
    "            raise ValueError(str(ex))\n",
    "    return value\n",
    "\n",
    "\n",
    "DateTimeUTC = Annotated[datetime, BeforeValidator(parse_datetime), AfterValidator(make_utc)]"
   ],
   "id": "7449003a07d89282",
   "outputs": [],
   "execution_count": 2
  },
  {
   "metadata": {
    "ExecuteTime": {
     "end_time": "2024-12-07T12:36:33.482747Z",
     "start_time": "2024-12-07T12:36:33.421561Z"
    }
   },
   "cell_type": "code",
   "source": [
    "class Model(BaseModel):\n",
    "    dt: DateTimeUTC"
   ],
   "id": "7f826a239a4d100e",
   "outputs": [],
   "execution_count": 3
  },
  {
   "metadata": {
    "ExecuteTime": {
     "end_time": "2024-12-07T14:16:07.262167Z",
     "start_time": "2024-12-07T14:16:07.258737Z"
    }
   },
   "cell_type": "code",
   "source": [
    "def dt_json_serializer(dt: datetime) -> str:\n",
    "    return dt.strftime('%Y/%m/%d %I:%M:%p (UTC)')"
   ],
   "id": "f2fab8b769746e1e",
   "outputs": [],
   "execution_count": 8
  },
  {
   "metadata": {
    "ExecuteTime": {
     "end_time": "2024-12-07T14:17:13.367469Z",
     "start_time": "2024-12-07T14:17:13.361280Z"
    }
   },
   "cell_type": "code",
   "source": [
    "class Model(BaseModel):\n",
    "    dt: DateTimeUTC\n",
    "\n",
    "    @field_serializer(\"dt\", when_used=\"json-unless-none\")\n",
    "    def serialize_dt_to_json(self, dt: datetime) -> str:\n",
    "        return dt_json_serializer(dt)"
   ],
   "id": "f0240e08e9a96e1e",
   "outputs": [],
   "execution_count": 14
  },
  {
   "metadata": {
    "ExecuteTime": {
     "end_time": "2024-12-07T14:17:49.771206Z",
     "start_time": "2024-12-07T14:17:49.767900Z"
    }
   },
   "cell_type": "code",
   "source": "m = Model(dt=\"2020/1/1 3pm\")",
   "id": "c64b07fc7701de38",
   "outputs": [],
   "execution_count": 17
  },
  {
   "metadata": {
    "ExecuteTime": {
     "end_time": "2024-12-07T14:18:00.353102Z",
     "start_time": "2024-12-07T14:18:00.346130Z"
    }
   },
   "cell_type": "code",
   "source": "m.model_dump_json()",
   "id": "cde6a0bec4c6ecd5",
   "outputs": [
    {
     "data": {
      "text/plain": [
       "'{\"dt\":\"2020/01/01 03:00:PM (UTC)\"}'"
      ]
     },
     "execution_count": 18,
     "metadata": {},
     "output_type": "execute_result"
    }
   ],
   "execution_count": 18
  },
  {
   "metadata": {
    "ExecuteTime": {
     "end_time": "2024-12-07T14:18:05.087144Z",
     "start_time": "2024-12-07T14:18:05.083785Z"
    }
   },
   "cell_type": "code",
   "source": [
    "DateTimeUTC = Annotated[\n",
    "    datetime,\n",
    "    BeforeValidator(parse_datetime),\n",
    "    AfterValidator(make_utc),\n",
    "    PlainSerializer(dt_json_serializer, when_used=\"json-unless-none\"),\n",
    "]\n"
   ],
   "id": "80b4d5e16930d911",
   "outputs": [],
   "execution_count": 19
  },
  {
   "metadata": {
    "ExecuteTime": {
     "end_time": "2024-12-07T14:18:07.037679Z",
     "start_time": "2024-12-07T14:18:07.033049Z"
    }
   },
   "cell_type": "code",
   "source": [
    "class Model(BaseModel):\n",
    "    dt: DateTimeUTC"
   ],
   "id": "5108a83a46608b05",
   "outputs": [],
   "execution_count": 20
  },
  {
   "metadata": {
    "ExecuteTime": {
     "end_time": "2024-12-07T14:18:31.782553Z",
     "start_time": "2024-12-07T14:18:31.776687Z"
    }
   },
   "cell_type": "code",
   "source": "m = Model(dt=\"2020/1/1 3pm\")",
   "id": "68e0f3cc4995f30a",
   "outputs": [],
   "execution_count": 23
  },
  {
   "metadata": {
    "ExecuteTime": {
     "end_time": "2024-12-07T14:18:35.193567Z",
     "start_time": "2024-12-07T14:18:35.188301Z"
    }
   },
   "cell_type": "code",
   "source": "m",
   "id": "f0138a624be24967",
   "outputs": [
    {
     "data": {
      "text/plain": [
       "Model(dt=datetime.datetime(2020, 1, 1, 15, 0, tzinfo=<UTC>))"
      ]
     },
     "execution_count": 24,
     "metadata": {},
     "output_type": "execute_result"
    }
   ],
   "execution_count": 24
  },
  {
   "metadata": {
    "ExecuteTime": {
     "end_time": "2024-12-07T14:18:16.891397Z",
     "start_time": "2024-12-07T14:18:16.889135Z"
    }
   },
   "cell_type": "code",
   "source": "m.model_dump_json()",
   "id": "9f788f24ec514240",
   "outputs": [
    {
     "data": {
      "text/plain": [
       "'{\"dt\":\"2020/01/01 03:00:PM (UTC)\"}'"
      ]
     },
     "execution_count": 22,
     "metadata": {},
     "output_type": "execute_result"
    }
   ],
   "execution_count": 22
  }
 ],
 "metadata": {
  "kernelspec": {
   "name": "python3",
   "language": "python",
   "display_name": "Python 3 (ipykernel)"
  }
 },
 "nbformat": 5,
 "nbformat_minor": 9
}
