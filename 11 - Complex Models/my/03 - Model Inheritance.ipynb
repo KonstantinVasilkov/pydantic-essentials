{
 "cells": [
  {
   "metadata": {
    "ExecuteTime": {
     "end_time": "2024-12-07T14:59:29.462066Z",
     "start_time": "2024-12-07T14:59:29.422955Z"
    }
   },
   "cell_type": "code",
   "source": [
    "from pydantic import BaseModel, Field, ConfigDict\n",
    "from pydantic.alias_generators import to_camel"
   ],
   "id": "56a1a8cfc7247ab2",
   "outputs": [],
   "execution_count": 1
  },
  {
   "metadata": {
    "ExecuteTime": {
     "end_time": "2024-12-07T15:00:19.239281Z",
     "start_time": "2024-12-07T15:00:19.194612Z"
    }
   },
   "cell_type": "code",
   "source": [
    "class CustomBaseModel(BaseModel):\n",
    "    model_config = ConfigDict(\n",
    "        extra=\"ignore\",\n",
    "        alias_generator=to_camel,\n",
    "        populate_by_name=True,\n",
    "    )"
   ],
   "id": "824371ba01e7fd5f",
   "outputs": [],
   "execution_count": 2
  },
  {
   "metadata": {
    "ExecuteTime": {
     "end_time": "2024-12-07T15:00:51.478194Z",
     "start_time": "2024-12-07T15:00:51.446234Z"
    }
   },
   "cell_type": "code",
   "source": [
    "from typing import Annotated\n",
    "\n",
    "from pydantic import AfterValidator, EmailStr, Field, PastDate\n",
    "\n",
    "\n",
    "SortedStringList = Annotated[list[str], AfterValidator(lambda value: sorted(value, key=str.casefold))]\n",
    "\n",
    "class ContactInfo(CustomBaseModel):\n",
    "    email: EmailStr | None = None\n",
    "\n",
    "class PlaceInfo(CustomBaseModel):\n",
    "    city: str\n",
    "    country: str\n",
    "\n",
    "class PlaceDateInfo(CustomBaseModel):\n",
    "    date_: PastDate = Field(alias=\"date\")\n",
    "    place: PlaceInfo\n",
    "\n",
    "class PersonalInfo(CustomBaseModel):\n",
    "    nationality: str\n",
    "    born: PlaceDateInfo\n",
    "\n",
    "class Person(CustomBaseModel):\n",
    "    first_name: str\n",
    "    last_name: str\n",
    "    contact_info: ContactInfo\n",
    "    personal_info: PersonalInfo\n",
    "    notable_students: SortedStringList = []"
   ],
   "id": "f1045d0afc3907a0",
   "outputs": [],
   "execution_count": 3
  },
  {
   "metadata": {
    "ExecuteTime": {
     "end_time": "2024-12-07T15:01:05.954186Z",
     "start_time": "2024-12-07T15:01:05.949576Z"
    }
   },
   "cell_type": "code",
   "source": [
    "json_data = \"\"\"\n",
    "{\n",
    "    \"firstName\": \"David\",\n",
    "    \"lastName\": \"Hilbert\",\n",
    "    \"contactInfo\": {\n",
    "        \"email\": \"d.hilbert@spectral-theory.com\",\n",
    "        \"homePhone\": {\n",
    "            \"countryCode\": 49,\n",
    "            \"areaCode\": 551,\n",
    "            \"localPhoneNumber\": 123456789\n",
    "        }\n",
    "    },\n",
    "    \"personalInfo\": {\n",
    "        \"nationality\": \"German\",\n",
    "        \"born\": {\n",
    "            \"date\": \"1862-01-23\",\n",
    "            \"place\": {\n",
    "                \"city\": \"Konigsberg\",\n",
    "                \"country\": \"Prussia\"\n",
    "            }\n",
    "        },\n",
    "        \"died\": {\n",
    "            \"date\": \"1943-02-14\",\n",
    "            \"place\": {\n",
    "                \"city\": \"Gottingen\",\n",
    "                \"country\": \"Germany\"\n",
    "            }\n",
    "        }\n",
    "    },\n",
    "    \"awards\": [\"Lobachevsky Prize\", \"Bolyai Prize\", \"ForMemRS\"],\n",
    "    \"notableStudents\": [\"von Neumann\", \"Weyl\", \"Courant\", \"Zermelo\"]\n",
    "}\n",
    "\"\"\""
   ],
   "id": "d4605d244a8e9b24",
   "outputs": [],
   "execution_count": 4
  },
  {
   "metadata": {
    "ExecuteTime": {
     "end_time": "2024-12-07T15:01:36.002820Z",
     "start_time": "2024-12-07T15:01:35.993143Z"
    }
   },
   "cell_type": "code",
   "source": "p = Person.model_validate_json(json_data)",
   "id": "41185d6902d80b22",
   "outputs": [],
   "execution_count": 5
  },
  {
   "metadata": {
    "ExecuteTime": {
     "end_time": "2024-12-07T15:02:15.765126Z",
     "start_time": "2024-12-07T15:02:15.761714Z"
    }
   },
   "cell_type": "code",
   "source": "print(p.model_dump_json(by_alias=True, indent=2))",
   "id": "a13d61fe349f7728",
   "outputs": [
    {
     "name": "stdout",
     "output_type": "stream",
     "text": [
      "{\n",
      "  \"firstName\": \"David\",\n",
      "  \"lastName\": \"Hilbert\",\n",
      "  \"contactInfo\": {\n",
      "    \"email\": \"d.hilbert@spectral-theory.com\"\n",
      "  },\n",
      "  \"personalInfo\": {\n",
      "    \"nationality\": \"German\",\n",
      "    \"born\": {\n",
      "      \"date\": \"1862-01-23\",\n",
      "      \"place\": {\n",
      "        \"city\": \"Konigsberg\",\n",
      "        \"country\": \"Prussia\"\n",
      "      }\n",
      "    }\n",
      "  },\n",
      "  \"notableStudents\": [\n",
      "    \"Courant\",\n",
      "    \"von Neumann\",\n",
      "    \"Weyl\",\n",
      "    \"Zermelo\"\n",
      "  ]\n",
      "}\n"
     ]
    }
   ],
   "execution_count": 6
  },
  {
   "metadata": {
    "ExecuteTime": {
     "end_time": "2024-12-07T15:06:34.805118Z",
     "start_time": "2024-12-07T15:06:34.798032Z"
    }
   },
   "cell_type": "code",
   "source": [
    "class CustomBaseModel(BaseModel):\n",
    "    model_config = ConfigDict(\n",
    "        extra=\"ignore\",\n",
    "        alias_generator=to_camel,\n",
    "        populate_by_name=True,\n",
    "    )"
   ],
   "id": "c92b0cd6d7ccfea2",
   "outputs": [],
   "execution_count": 7
  },
  {
   "metadata": {
    "ExecuteTime": {
     "end_time": "2024-12-07T15:06:38.884108Z",
     "start_time": "2024-12-07T15:06:38.871534Z"
    }
   },
   "cell_type": "code",
   "source": [
    "from datetime import datetime\n",
    "from typing import Any\n",
    "\n",
    "import pytz\n",
    "from dateutil.parser import parse\n",
    "from pydantic import AfterValidator, BeforeValidator, FieldSerializationInfo, field_serializer, PlainSerializer\n",
    "\n",
    "\n",
    "def make_utc(dt: datetime) -> datetime:\n",
    "    if dt.tzinfo is None:\n",
    "        dt = pytz.utc.localize(dt)\n",
    "    else:\n",
    "        dt = dt.astimezone(pytz.utc)\n",
    "    return dt\n",
    "\n",
    "def parse_datetime(value: Any):\n",
    "    if isinstance(value, str):\n",
    "        try:\n",
    "            return parse(value)\n",
    "        except Exception as ex:\n",
    "            raise ValueError(str(ex))\n",
    "    return value\n",
    "\n",
    "def dt_serializer(dt, info: FieldSerializationInfo) -> datetime | str:\n",
    "    if info.mode_is_json():\n",
    "        return dt.strftime(\"%Y-%m-%dT%H:%M:%SZ\")\n",
    "    return dt\n",
    "\n",
    "DateTimeUTC = Annotated[\n",
    "    datetime,\n",
    "    BeforeValidator(parse_datetime),\n",
    "    AfterValidator(make_utc),\n",
    "    PlainSerializer(dt_serializer, when_used=\"unless-none\")\n",
    "]"
   ],
   "id": "10a9aa6209e9fdcf",
   "outputs": [],
   "execution_count": 8
  },
  {
   "metadata": {
    "ExecuteTime": {
     "end_time": "2024-12-07T15:08:38.734818Z",
     "start_time": "2024-12-07T15:08:38.726164Z"
    }
   },
   "cell_type": "code",
   "source": [
    "from uuid import uuid4\n",
    "\n",
    "class RequestInfo(CustomBaseModel):\n",
    "    query_id: uuid4 = Field(default_factory=uuid4)\n",
    "    execution_dt: DateTimeUTC = Field(default_factory=lambda: datetime.now(pytz.utc))\n",
    "    elapsed_time_secs: float = 0"
   ],
   "id": "e06f99d336b6b58a",
   "outputs": [],
   "execution_count": 9
  },
  {
   "metadata": {
    "ExecuteTime": {
     "end_time": "2024-12-07T15:09:12.178209Z",
     "start_time": "2024-12-07T15:09:12.173610Z"
    }
   },
   "cell_type": "code",
   "source": [
    "class ResponseBaseModel(CustomBaseModel):\n",
    "    request_info: RequestInfo"
   ],
   "id": "f6a8280d8ea97452",
   "outputs": [],
   "execution_count": 10
  },
  {
   "metadata": {
    "ExecuteTime": {
     "end_time": "2024-12-07T15:10:30.238777Z",
     "start_time": "2024-12-07T15:10:30.236079Z"
    }
   },
   "cell_type": "code",
   "source": [
    "class Users(ResponseBaseModel):\n",
    "    users: list[str] = list"
   ],
   "id": "d815f8f2f31c2368",
   "outputs": [],
   "execution_count": 11
  },
  {
   "metadata": {
    "ExecuteTime": {
     "end_time": "2024-12-07T15:11:12.534695Z",
     "start_time": "2024-12-07T15:11:12.530646Z"
    }
   },
   "cell_type": "code",
   "source": "users = Users(request_info=RequestInfo(elapsed_time_secs=20), users=[\"One\", \"Two\", \"Three\"])",
   "id": "be196198c4da22ed",
   "outputs": [],
   "execution_count": 12
  },
  {
   "metadata": {
    "ExecuteTime": {
     "end_time": "2024-12-07T15:11:18.267558Z",
     "start_time": "2024-12-07T15:11:18.259791Z"
    }
   },
   "cell_type": "code",
   "source": "users",
   "id": "de96d0f695b116f9",
   "outputs": [
    {
     "data": {
      "text/plain": [
       "Users(request_info=RequestInfo(query_id=UUID('c84214c8-796d-4769-b25e-792068421e5c'), execution_dt=datetime.datetime(2024, 12, 7, 15, 11, 12, 532435, tzinfo=<UTC>), elapsed_time_secs=20.0), users=['One', 'Two', 'Three'])"
      ]
     },
     "execution_count": 13,
     "metadata": {},
     "output_type": "execute_result"
    }
   ],
   "execution_count": 13
  }
 ],
 "metadata": {
  "kernelspec": {
   "name": "python3",
   "language": "python",
   "display_name": "Python 3 (ipykernel)"
  }
 },
 "nbformat": 5,
 "nbformat_minor": 9
}
