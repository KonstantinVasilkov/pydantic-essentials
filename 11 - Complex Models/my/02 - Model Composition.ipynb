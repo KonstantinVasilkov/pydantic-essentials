{
 "cells": [
  {
   "metadata": {
    "ExecuteTime": {
     "end_time": "2024-12-07T14:33:09.808246Z",
     "start_time": "2024-12-07T14:33:09.785652Z"
    }
   },
   "cell_type": "code",
   "source": "from pydantic import BaseModel, ConfigDict, Field, ValidationError",
   "id": "7c6aee4612a77d87",
   "outputs": [],
   "execution_count": 4
  },
  {
   "metadata": {
    "ExecuteTime": {
     "end_time": "2024-12-07T14:33:28.417287Z",
     "start_time": "2024-12-07T14:33:28.367973Z"
    }
   },
   "cell_type": "code",
   "source": [
    "class Point2D(BaseModel):\n",
    "    x: float = 0\n",
    "    y: float = 0"
   ],
   "id": "5cd6db78b0ce834",
   "outputs": [],
   "execution_count": 5
  },
  {
   "metadata": {
    "ExecuteTime": {
     "end_time": "2024-12-07T14:34:18.318907Z",
     "start_time": "2024-12-07T14:34:18.313671Z"
    }
   },
   "cell_type": "code",
   "source": [
    "class Circle2D(BaseModel):\n",
    "    center: Point2D\n",
    "    radius: float = Field(default=1, gt=0)"
   ],
   "id": "6c73a7cdc16f6622",
   "outputs": [],
   "execution_count": 6
  },
  {
   "metadata": {
    "ExecuteTime": {
     "end_time": "2024-12-07T14:34:50.883646Z",
     "start_time": "2024-12-07T14:34:50.879105Z"
    }
   },
   "cell_type": "code",
   "source": "Circle2D(center=Point2D(x=1, y=1), radius=1)",
   "id": "389529b3ce256d71",
   "outputs": [
    {
     "data": {
      "text/plain": [
       "Circle2D(center=Point2D(x=1.0, y=1.0), radius=1.0)"
      ]
     },
     "execution_count": 7,
     "metadata": {},
     "output_type": "execute_result"
    }
   ],
   "execution_count": 7
  },
  {
   "metadata": {
    "ExecuteTime": {
     "end_time": "2024-12-07T14:35:09.676901Z",
     "start_time": "2024-12-07T14:35:09.673986Z"
    }
   },
   "cell_type": "code",
   "source": "Circle2D(center=Point2D(x=1, y=1), radius=1).model_dump()",
   "id": "9797832c76622e07",
   "outputs": [
    {
     "data": {
      "text/plain": [
       "{'center': {'x': 1.0, 'y': 1.0}, 'radius': 1.0}"
      ]
     },
     "execution_count": 8,
     "metadata": {},
     "output_type": "execute_result"
    }
   ],
   "execution_count": 8
  },
  {
   "metadata": {
    "ExecuteTime": {
     "end_time": "2024-12-07T14:35:35.953509Z",
     "start_time": "2024-12-07T14:35:35.950875Z"
    }
   },
   "cell_type": "code",
   "source": "print(Circle2D(center=Point2D(x=1, y=1), radius=1).model_dump_json(indent=2))",
   "id": "2d8e6cd580c58ddd",
   "outputs": [
    {
     "name": "stdout",
     "output_type": "stream",
     "text": [
      "{\n",
      "  \"center\": {\n",
      "    \"x\": 1.0,\n",
      "    \"y\": 1.0\n",
      "  },\n",
      "  \"radius\": 1.0\n",
      "}\n"
     ]
    }
   ],
   "execution_count": 10
  },
  {
   "metadata": {
    "ExecuteTime": {
     "end_time": "2024-12-07T14:36:20.520170Z",
     "start_time": "2024-12-07T14:36:20.517512Z"
    }
   },
   "cell_type": "code",
   "source": [
    "data = {\n",
    "    \"center\": {\n",
    "        \"x\": 1.0,\n",
    "        \"y\": 1.0\n",
    "    },\n",
    "    \"radius\": 1.0\n",
    "}"
   ],
   "id": "186ac8728d0fbb82",
   "outputs": [],
   "execution_count": 11
  },
  {
   "metadata": {
    "ExecuteTime": {
     "end_time": "2024-12-07T14:36:32.313270Z",
     "start_time": "2024-12-07T14:36:32.309027Z"
    }
   },
   "cell_type": "code",
   "source": "Circle2D.model_validate(data)",
   "id": "f2134667ada123d6",
   "outputs": [
    {
     "data": {
      "text/plain": [
       "Circle2D(center=Point2D(x=1.0, y=1.0), radius=1.0)"
      ]
     },
     "execution_count": 12,
     "metadata": {},
     "output_type": "execute_result"
    }
   ],
   "execution_count": 12
  },
  {
   "metadata": {
    "ExecuteTime": {
     "end_time": "2024-12-07T14:37:18.799619Z",
     "start_time": "2024-12-07T14:37:18.796945Z"
    }
   },
   "cell_type": "code",
   "source": [
    "c = Circle2D.model_validate(data)\n",
    "c"
   ],
   "id": "e315283fd20f9d0",
   "outputs": [
    {
     "data": {
      "text/plain": [
       "Circle2D(center=Point2D(x=1.0, y=1.0), radius=1.0)"
      ]
     },
     "execution_count": 15,
     "metadata": {},
     "output_type": "execute_result"
    }
   ],
   "execution_count": 15
  },
  {
   "metadata": {
    "ExecuteTime": {
     "end_time": "2024-12-07T14:37:25.950151Z",
     "start_time": "2024-12-07T14:37:25.945010Z"
    }
   },
   "cell_type": "code",
   "source": "c.center.x",
   "id": "6fed660a0a87f359",
   "outputs": [
    {
     "data": {
      "text/plain": [
       "1.0"
      ]
     },
     "execution_count": 16,
     "metadata": {},
     "output_type": "execute_result"
    }
   ],
   "execution_count": 16
  },
  {
   "metadata": {
    "ExecuteTime": {
     "end_time": "2024-12-07T14:37:55.471994Z",
     "start_time": "2024-12-07T14:37:55.468409Z"
    }
   },
   "cell_type": "code",
   "source": [
    "json_data = \"\"\"\n",
    "{\n",
    "    \"firstName\": \"David\",\n",
    "    \"lastName\": \"Hilbert\",\n",
    "    \"contactInfo\": {\n",
    "        \"email\": \"d.hilbert@spectral-theory.com\",\n",
    "        \"homePhone\": {\n",
    "            \"countryCode\": 49,\n",
    "            \"areaCode\": 551,\n",
    "            \"localPhoneNumber\": 123456789\n",
    "        }\n",
    "    },\n",
    "    \"personalInfo\": {\n",
    "        \"nationality\": \"German\",\n",
    "        \"born\": {\n",
    "            \"date\": \"1862-01-23\",\n",
    "            \"place\": {\n",
    "                \"city\": \"Konigsberg\",\n",
    "                \"country\": \"Prussia\"\n",
    "            }\n",
    "        },\n",
    "        \"died\": {\n",
    "            \"date\": \"1943-02-14\",\n",
    "            \"place\": {\n",
    "                \"city\": \"Gottingen\",\n",
    "                \"country\": \"Germany\"\n",
    "            }\n",
    "        }\n",
    "    },\n",
    "    \"awards\": [\"Lobachevsky Prize\", \"Bolyai Prize\", \"ForMemRS\"],\n",
    "    \"notableStudents\": [\"von Neumann\", \"Weyl\", \"Courant\", \"Zermelo\"]\n",
    "}\n",
    "\"\"\""
   ],
   "id": "85523d05b59846f7",
   "outputs": [],
   "execution_count": 17
  },
  {
   "metadata": {
    "ExecuteTime": {
     "end_time": "2024-12-07T14:38:42.259929Z",
     "start_time": "2024-12-07T14:38:42.252306Z"
    }
   },
   "cell_type": "code",
   "source": [
    "from pydantic import EmailStr, PastDate\n",
    "from pydantic.alias_generators import to_camel"
   ],
   "id": "8a3ebbb28e561cd",
   "outputs": [],
   "execution_count": 18
  },
  {
   "metadata": {
    "ExecuteTime": {
     "end_time": "2024-12-07T14:39:27.870714Z",
     "start_time": "2024-12-07T14:39:27.844794Z"
    }
   },
   "cell_type": "code",
   "source": [
    "class ContactInfo(BaseModel):\n",
    "    model_config = ConfigDict(extra=\"ignore\")\n",
    "\n",
    "    email: EmailStr | None = None"
   ],
   "id": "791bda32a16a67ea",
   "outputs": [],
   "execution_count": 19
  },
  {
   "metadata": {
    "ExecuteTime": {
     "end_time": "2024-12-07T14:40:01.228616Z",
     "start_time": "2024-12-07T14:40:01.224741Z"
    }
   },
   "cell_type": "code",
   "source": [
    "class PlaceInfo(BaseModel):\n",
    "    city: str\n",
    "    country: str"
   ],
   "id": "45f6fa1550168dc4",
   "outputs": [],
   "execution_count": 20
  },
  {
   "metadata": {
    "ExecuteTime": {
     "end_time": "2024-12-07T14:41:06.434365Z",
     "start_time": "2024-12-07T14:41:06.429885Z"
    }
   },
   "cell_type": "code",
   "source": [
    "class PlaceDateInfo(BaseModel):\n",
    "    model_config = ConfigDict(populate_by_name=True)\n",
    "    date_: PastDate = Field(alias=\"date\")\n",
    "    place: PlaceInfo"
   ],
   "id": "106740f0503f7366",
   "outputs": [],
   "execution_count": 21
  },
  {
   "metadata": {
    "ExecuteTime": {
     "end_time": "2024-12-07T14:42:30.544590Z",
     "start_time": "2024-12-07T14:42:30.540289Z"
    }
   },
   "cell_type": "code",
   "source": [
    "class PersonalInfo(BaseModel):\n",
    "    model_config = ConfigDict(extra=\"ignore\")\n",
    "\n",
    "    nationality: str\n",
    "    born: PlaceDateInfo"
   ],
   "id": "e5b9325dd3f91c35",
   "outputs": [],
   "execution_count": 22
  },
  {
   "metadata": {
    "ExecuteTime": {
     "end_time": "2024-12-07T14:44:18.986674Z",
     "start_time": "2024-12-07T14:44:18.981003Z"
    }
   },
   "cell_type": "code",
   "source": [
    "class Person(BaseModel):\n",
    "    model_config = ConfigDict(alias_generator=to_camel, populate_by_name=True, extra=\"ignore\")\n",
    "\n",
    "    first_name: str\n",
    "    last_name: str\n",
    "    contact_info: ContactInfo\n",
    "    personal_info: PersonalInfo\n",
    "    notable_students: list[str] = list\n"
   ],
   "id": "290b786ef0928d9d",
   "outputs": [],
   "execution_count": 24
  },
  {
   "metadata": {
    "ExecuteTime": {
     "end_time": "2024-12-07T14:45:09.728781Z",
     "start_time": "2024-12-07T14:45:09.716231Z"
    }
   },
   "cell_type": "code",
   "source": "p = Person.model_validate_json(json_data)",
   "id": "5d8282a8ff6430cb",
   "outputs": [],
   "execution_count": 25
  },
  {
   "metadata": {
    "ExecuteTime": {
     "end_time": "2024-12-07T14:45:15.296716Z",
     "start_time": "2024-12-07T14:45:15.291146Z"
    }
   },
   "cell_type": "code",
   "source": "p",
   "id": "e0165412674e0633",
   "outputs": [
    {
     "data": {
      "text/plain": [
       "Person(first_name='David', last_name='Hilbert', contact_info=ContactInfo(email='d.hilbert@spectral-theory.com'), personal_info=PersonalInfo(nationality='German', born=PlaceDateInfo(date_=datetime.date(1862, 1, 23), place=PlaceInfo(city='Konigsberg', country='Prussia'))), notable_students=['von Neumann', 'Weyl', 'Courant', 'Zermelo'])"
      ]
     },
     "execution_count": 26,
     "metadata": {},
     "output_type": "execute_result"
    }
   ],
   "execution_count": 26
  },
  {
   "metadata": {
    "ExecuteTime": {
     "end_time": "2024-12-07T14:46:04.825892Z",
     "start_time": "2024-12-07T14:46:04.822089Z"
    }
   },
   "cell_type": "code",
   "source": [
    "from pprint import pprint\n",
    "pprint(p.model_dump())"
   ],
   "id": "47af68813caeeabe",
   "outputs": [
    {
     "name": "stdout",
     "output_type": "stream",
     "text": [
      "{'contact_info': {'email': 'd.hilbert@spectral-theory.com'},\n",
      " 'first_name': 'David',\n",
      " 'last_name': 'Hilbert',\n",
      " 'notable_students': ['von Neumann', 'Weyl', 'Courant', 'Zermelo'],\n",
      " 'personal_info': {'born': {'date_': datetime.date(1862, 1, 23),\n",
      "                            'place': {'city': 'Konigsberg',\n",
      "                                      'country': 'Prussia'}},\n",
      "                   'nationality': 'German'}}\n"
     ]
    }
   ],
   "execution_count": 28
  },
  {
   "metadata": {
    "ExecuteTime": {
     "end_time": "2024-12-07T14:46:29.650206Z",
     "start_time": "2024-12-07T14:46:29.646986Z"
    }
   },
   "cell_type": "code",
   "source": "print(p.model_dump_json(indent=4))",
   "id": "cf240b0f97ba2295",
   "outputs": [
    {
     "name": "stdout",
     "output_type": "stream",
     "text": [
      "{\n",
      "    \"first_name\": \"David\",\n",
      "    \"last_name\": \"Hilbert\",\n",
      "    \"contact_info\": {\n",
      "        \"email\": \"d.hilbert@spectral-theory.com\"\n",
      "    },\n",
      "    \"personal_info\": {\n",
      "        \"nationality\": \"German\",\n",
      "        \"born\": {\n",
      "            \"date_\": \"1862-01-23\",\n",
      "            \"place\": {\n",
      "                \"city\": \"Konigsberg\",\n",
      "                \"country\": \"Prussia\"\n",
      "            }\n",
      "        }\n",
      "    },\n",
      "    \"notable_students\": [\n",
      "        \"von Neumann\",\n",
      "        \"Weyl\",\n",
      "        \"Courant\",\n",
      "        \"Zermelo\"\n",
      "    ]\n",
      "}\n"
     ]
    }
   ],
   "execution_count": 30
  },
  {
   "metadata": {
    "ExecuteTime": {
     "end_time": "2024-12-07T14:47:27.444552Z",
     "start_time": "2024-12-07T14:47:27.441445Z"
    }
   },
   "cell_type": "code",
   "source": [
    "from typing import Annotated\n",
    "from pydantic import AfterValidator"
   ],
   "id": "8d79c95fe50d5539",
   "outputs": [],
   "execution_count": 31
  },
  {
   "metadata": {
    "ExecuteTime": {
     "end_time": "2024-12-07T14:49:16.057253Z",
     "start_time": "2024-12-07T14:49:16.054047Z"
    }
   },
   "cell_type": "code",
   "source": [
    "SortedStringList = Annotated[\n",
    "    list[str],\n",
    "    AfterValidator(lambda v: sorted(v, key=str.casefold))\n",
    "]"
   ],
   "id": "d4fc1fc8f6e9b340",
   "outputs": [],
   "execution_count": 32
  },
  {
   "metadata": {
    "ExecuteTime": {
     "end_time": "2024-12-07T14:50:15.969122Z",
     "start_time": "2024-12-07T14:50:15.963225Z"
    }
   },
   "cell_type": "code",
   "source": [
    "class Person(BaseModel):\n",
    "    model_config = ConfigDict(alias_generator=to_camel, populate_by_name=True, extra=\"ignore\")\n",
    "\n",
    "    first_name: str\n",
    "    last_name: str\n",
    "    contact_info: ContactInfo\n",
    "    personal_info: PersonalInfo\n",
    "    notable_students: SortedStringList = Field(default_factory=list, repr=False)"
   ],
   "id": "10a493b93cbebf1c",
   "outputs": [],
   "execution_count": 34
  },
  {
   "metadata": {
    "ExecuteTime": {
     "end_time": "2024-12-07T14:50:21.818034Z",
     "start_time": "2024-12-07T14:50:21.814772Z"
    }
   },
   "cell_type": "code",
   "source": "p = Person.model_validate_json(json_data)\n",
   "id": "a712c86197c26993",
   "outputs": [],
   "execution_count": 35
  },
  {
   "metadata": {
    "ExecuteTime": {
     "end_time": "2024-12-07T14:50:25.235579Z",
     "start_time": "2024-12-07T14:50:25.233328Z"
    }
   },
   "cell_type": "code",
   "source": "p",
   "id": "2f543536bfe1abdf",
   "outputs": [
    {
     "data": {
      "text/plain": [
       "Person(first_name='David', last_name='Hilbert', contact_info=ContactInfo(email='d.hilbert@spectral-theory.com'), personal_info=PersonalInfo(nationality='German', born=PlaceDateInfo(date_=datetime.date(1862, 1, 23), place=PlaceInfo(city='Konigsberg', country='Prussia'))))"
      ]
     },
     "execution_count": 36,
     "metadata": {},
     "output_type": "execute_result"
    }
   ],
   "execution_count": 36
  },
  {
   "metadata": {
    "ExecuteTime": {
     "end_time": "2024-12-07T14:50:44.273893Z",
     "start_time": "2024-12-07T14:50:44.270103Z"
    }
   },
   "cell_type": "code",
   "source": "print(p.model_dump_json(indent=4))\n",
   "id": "99c4ed92e513814e",
   "outputs": [
    {
     "name": "stdout",
     "output_type": "stream",
     "text": [
      "{\n",
      "    \"first_name\": \"David\",\n",
      "    \"last_name\": \"Hilbert\",\n",
      "    \"contact_info\": {\n",
      "        \"email\": \"d.hilbert@spectral-theory.com\"\n",
      "    },\n",
      "    \"personal_info\": {\n",
      "        \"nationality\": \"German\",\n",
      "        \"born\": {\n",
      "            \"date_\": \"1862-01-23\",\n",
      "            \"place\": {\n",
      "                \"city\": \"Konigsberg\",\n",
      "                \"country\": \"Prussia\"\n",
      "            }\n",
      "        }\n",
      "    },\n",
      "    \"notable_students\": [\n",
      "        \"Courant\",\n",
      "        \"von Neumann\",\n",
      "        \"Weyl\",\n",
      "        \"Zermelo\"\n",
      "    ]\n",
      "}\n"
     ]
    }
   ],
   "execution_count": 37
  }
 ],
 "metadata": {
  "kernelspec": {
   "name": "python3",
   "language": "python",
   "display_name": "Python 3 (ipykernel)"
  }
 },
 "nbformat": 5,
 "nbformat_minor": 9
}
