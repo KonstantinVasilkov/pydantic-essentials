{
 "cells": [
  {
   "metadata": {
    "ExecuteTime": {
     "end_time": "2024-11-15T14:14:36.483686Z",
     "start_time": "2024-11-15T14:14:36.476911Z"
    }
   },
   "cell_type": "code",
   "source": [
    "from pydantic import BaseModel, Field, ConfigDict, ValidationError\n",
    "from pydantic.alias_generators import to_camel"
   ],
   "id": "45273c3cdbb99cd5",
   "outputs": [],
   "execution_count": 8
  },
  {
   "metadata": {
    "ExecuteTime": {
     "end_time": "2024-11-15T14:10:07.725198Z",
     "start_time": "2024-11-15T14:10:07.672581Z"
    }
   },
   "cell_type": "code",
   "source": [
    "class Model(BaseModel):\n",
    "    id_: int = Field(alias='id')\n",
    "    last_name: str = Field(alias='lastName')"
   ],
   "id": "cb68d8779fc1a9cb",
   "outputs": [],
   "execution_count": 2
  },
  {
   "metadata": {
    "ExecuteTime": {
     "end_time": "2024-11-15T14:10:22.522921Z",
     "start_time": "2024-11-15T14:10:22.518974Z"
    }
   },
   "cell_type": "code",
   "source": [
    "try:\n",
    "    Model(id_=1, last_name='')\n",
    "except ValidationError as e:\n",
    "    print(e)"
   ],
   "id": "cf27125f825568b8",
   "outputs": [
    {
     "name": "stdout",
     "output_type": "stream",
     "text": [
      "2 validation errors for Model\n",
      "id\n",
      "  Field required [type=missing, input_value={'id_': 1, 'last_name': ''}, input_type=dict]\n",
      "    For further information visit https://errors.pydantic.dev/2.9/v/missing\n",
      "lastName\n",
      "  Field required [type=missing, input_value={'id_': 1, 'last_name': ''}, input_type=dict]\n",
      "    For further information visit https://errors.pydantic.dev/2.9/v/missing\n"
     ]
    }
   ],
   "execution_count": 3
  },
  {
   "metadata": {
    "ExecuteTime": {
     "end_time": "2024-11-15T14:10:57.256509Z",
     "start_time": "2024-11-15T14:10:57.250605Z"
    }
   },
   "cell_type": "code",
   "source": [
    "class Model(BaseModel):\n",
    "    model_config = ConfigDict(populate_by_name=True)\n",
    "\n",
    "    id_: int = Field(alias='id')\n",
    "    last_name: str = Field(alias='lastName')"
   ],
   "id": "cbe8666562da9cde",
   "outputs": [],
   "execution_count": 4
  },
  {
   "metadata": {
    "ExecuteTime": {
     "end_time": "2024-11-15T14:11:29.695311Z",
     "start_time": "2024-11-15T14:11:29.692452Z"
    }
   },
   "cell_type": "code",
   "source": "Model(id_=1, last_name='').model_dump(by_alias=True)\n",
   "id": "84b83abe15844c1e",
   "outputs": [
    {
     "data": {
      "text/plain": [
       "{'id': 1, 'lastName': ''}"
      ]
     },
     "execution_count": 7,
     "metadata": {},
     "output_type": "execute_result"
    }
   ],
   "execution_count": 7
  },
  {
   "metadata": {
    "ExecuteTime": {
     "end_time": "2024-11-15T14:15:56.142541Z",
     "start_time": "2024-11-15T14:15:56.135731Z"
    }
   },
   "cell_type": "code",
   "source": [
    "class Person(BaseModel):\n",
    "    model_config = ConfigDict(\n",
    "        alias_generator=to_camel,\n",
    "        populate_by_name=True,\n",
    "        extra='forbid'\n",
    "    )\n",
    "    id_: int = Field(alias='id', default=1)\n",
    "    first_name: str | None = None\n",
    "    last_name: str\n",
    "    age: int | None = None"
   ],
   "id": "8dacdab5f8a14b8c",
   "outputs": [],
   "execution_count": 9
  },
  {
   "metadata": {
    "ExecuteTime": {
     "end_time": "2024-11-15T14:17:39.734226Z",
     "start_time": "2024-11-15T14:17:39.731902Z"
    }
   },
   "cell_type": "code",
   "source": [
    "data_json = \"\"\"\n",
    "{\n",
    "    \"id\": \"1\",\n",
    "    \"firstName\": \"Isaac\",\n",
    "    \"last_name\": \"Smith\",\n",
    "    \"age\": 18\n",
    "}\n",
    "\"\"\""
   ],
   "id": "caa3b8f59d13341b",
   "outputs": [],
   "execution_count": 13
  },
  {
   "metadata": {
    "ExecuteTime": {
     "end_time": "2024-11-15T14:17:42.143708Z",
     "start_time": "2024-11-15T14:17:42.138443Z"
    }
   },
   "cell_type": "code",
   "source": [
    "p = Person.model_validate_json(data_json)\n",
    "p"
   ],
   "id": "758cb1b52f8daac7",
   "outputs": [
    {
     "data": {
      "text/plain": [
       "Person(id_=1, first_name='Isaac', last_name='Smith', age=18)"
      ]
     },
     "execution_count": 14,
     "metadata": {},
     "output_type": "execute_result"
    }
   ],
   "execution_count": 14
  },
  {
   "metadata": {
    "ExecuteTime": {
     "end_time": "2024-11-15T14:17:57.309124Z",
     "start_time": "2024-11-15T14:17:57.299758Z"
    }
   },
   "cell_type": "code",
   "source": "p.model_dump(by_alias=True)",
   "id": "2c7d7ffe19e12676",
   "outputs": [
    {
     "data": {
      "text/plain": [
       "{'id': 1, 'firstName': 'Isaac', 'lastName': 'Smith', 'age': 18}"
      ]
     },
     "execution_count": 15,
     "metadata": {},
     "output_type": "execute_result"
    }
   ],
   "execution_count": 15
  },
  {
   "metadata": {
    "ExecuteTime": {
     "end_time": "2024-11-15T14:18:20.913920Z",
     "start_time": "2024-11-15T14:18:20.909276Z"
    }
   },
   "cell_type": "code",
   "source": "p.model_dump()",
   "id": "b137a8758a8f7606",
   "outputs": [
    {
     "data": {
      "text/plain": [
       "{'id_': 1, 'first_name': 'Isaac', 'last_name': 'Smith', 'age': 18}"
      ]
     },
     "execution_count": 16,
     "metadata": {},
     "output_type": "execute_result"
    }
   ],
   "execution_count": 16
  },
  {
   "metadata": {
    "ExecuteTime": {
     "end_time": "2024-11-15T14:18:33.541718Z",
     "start_time": "2024-11-15T14:18:33.536443Z"
    }
   },
   "cell_type": "code",
   "source": "p.model_dump_json()",
   "id": "1418ea4ce0a93813",
   "outputs": [
    {
     "data": {
      "text/plain": [
       "'{\"id_\":1,\"first_name\":\"Isaac\",\"last_name\":\"Smith\",\"age\":18}'"
      ]
     },
     "execution_count": 17,
     "metadata": {},
     "output_type": "execute_result"
    }
   ],
   "execution_count": 17
  }
 ],
 "metadata": {
  "kernelspec": {
   "name": "python3",
   "language": "python",
   "display_name": "Python 3 (ipykernel)"
  }
 },
 "nbformat": 5,
 "nbformat_minor": 9
}
