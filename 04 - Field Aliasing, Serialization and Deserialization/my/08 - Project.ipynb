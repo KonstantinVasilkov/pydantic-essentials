{
 "cells": [
  {
   "metadata": {},
   "cell_type": "markdown",
   "source": "# Project (Section 4)",
   "id": "efbad9dfc4719011"
  },
  {
   "metadata": {},
   "cell_type": "markdown",
   "source": "This was the code we ended up with in the last section's project:",
   "id": "90d7743a3cf2ac6d"
  },
  {
   "metadata": {},
   "cell_type": "code",
   "outputs": [],
   "execution_count": null,
   "source": [
    "from datetime import date\n",
    "from enum import Enum\n",
    "from pydantic import BaseModel, ConfigDict, Field, field_serializer\n",
    "from pydantic.alias_generators import to_camel\n",
    "\n",
    "\n",
    "class AutomobileType(Enum):\n",
    "    sedan = \"Sedan\"\n",
    "    coupe = \"Coupe\"\n",
    "    convertible = \"Convertible\"\n",
    "    suv = \"SUV\"\n",
    "    truck = \"Truck\"\n",
    "\n",
    "\n",
    "class Automobile(BaseModel):\n",
    "    model_config = ConfigDict(\n",
    "        extra=\"forbid\",\n",
    "        str_strip_whitespace=True,\n",
    "        validate_default=True,\n",
    "        validate_assignment=True,\n",
    "        alias_generator=to_camel,\n",
    "    )\n",
    "    \n",
    "    manufacturer: str\n",
    "    series_name: str\n",
    "    type_: AutomobileType = Field(alias=\"type\")\n",
    "    is_electric: bool = False\n",
    "    manufactured_date: date = Field(validation_alias=\"completionDate\")\n",
    "    base_msrp_usd: float = Field(validation_alias=\"msrpUSD\", serialization_alias=\"baseMSRPUSD\")\n",
    "    vin: str\n",
    "    number_of_doors: int = Field(default=4, validation_alias=\"doors\")\n",
    "    registration_country: str | None = None\n",
    "    license_plate: str | None = None\n",
    "\n",
    "    @field_serializer('manufactured_date', when_used='json-unless-none')\n",
    "    def serialize_dt(self, value):\n",
    "        return value.strftime('%Y/%m/%d')\n"
   ],
   "id": "b245b934b1c4fe55"
  },
  {
   "metadata": {},
   "cell_type": "markdown",
   "source": [
    "Modify your `Automobile` model to implement the following:\n",
    "\n",
    "- auto generate camel case aliases\n",
    "- the field `type_` in our model is provided as `type` in source data, and should also serialize to `type`.\n",
    "- the data we receive contains the following field names that need to map to our own model field names - but we still want our camelized field names to be used for serialization. Account for that (without renaming the field names):\n",
    "    - `number_of_doors` is provided as `doors`\n",
    "    - `manufactured_date` is provided as `completionDate`\n",
    "- The field `base_msrp_usd` is provided as `msrpUSD`, and we want the serialization name to be `baseMSRPUSD`\n",
    "- we want the JSON serialized output of `manufactured_date` to be this pattern: `YYYY/MM/DD` (e.g. `2020/01/01`), but serializing to a Python dict should remain as a `date` object."
   ],
   "id": "9660de569ea9c4ad"
  },
  {
   "metadata": {},
   "cell_type": "markdown",
   "source": "The following source data:",
   "id": "4d57577a5c9ff8e4"
  },
  {
   "metadata": {
    "ExecuteTime": {
     "end_time": "2024-11-16T14:17:49.043640Z",
     "start_time": "2024-11-16T14:17:49.041465Z"
    }
   },
   "cell_type": "code",
   "source": [
    "data_json = '''\n",
    "{\n",
    "    \"manufacturer\": \"BMW\",\n",
    "    \"seriesName\": \"M4\",\n",
    "    \"type\": \"Convertible\",\n",
    "    \"isElectric\": false,\n",
    "    \"completionDate\": \"2023-01-01\",\n",
    "    \"msrpUSD\": 93300,\n",
    "    \"vin\": \"1234567890\",\n",
    "    \"doors\": 2,\n",
    "    \"registrationCountry\": \"France\",\n",
    "    \"licensePlate\": \"AAA-BBB\"\n",
    "}\n",
    "'''\n",
    "car_2 = Automobile.model_validate_json(data_json)"
   ],
   "id": "a3c9088565151fd2",
   "outputs": [],
   "execution_count": 15
  },
  {
   "metadata": {},
   "cell_type": "markdown",
   "source": "should deserialaze to these:",
   "id": "d2f2772d0b450f8b"
  },
  {
   "metadata": {
    "ExecuteTime": {
     "end_time": "2024-11-16T14:18:39.251738Z",
     "start_time": "2024-11-16T14:18:39.245772Z"
    }
   },
   "cell_type": "code",
   "source": [
    "expected_serialized_dict = {\n",
    "    'manufacturer': 'BMW',\n",
    "    'series_name': 'M4',\n",
    "    'type_': AutomobileType.convertible,\n",
    "    'is_electric': False,\n",
    "    'manufactured_date': date(2023, 1, 1),\n",
    "    'base_msrp_usd': 93300.0,\n",
    "    'vin': '1234567890',\n",
    "    'number_of_doors': 2,\n",
    "    'registration_country': 'France',\n",
    "    'license_plate': 'AAA-BBB'\n",
    "}\n",
    "assert car_2.model_dump() == expected_serialized_dict\n",
    "car_2.model_dump()"
   ],
   "id": "42208f3d6e0b422d",
   "outputs": [
    {
     "data": {
      "text/plain": [
       "{'manufacturer': 'BMW',\n",
       " 'series_name': 'M4',\n",
       " 'type_': <AutomobileType.convertible: 'Convertible'>,\n",
       " 'is_electric': False,\n",
       " 'manufactured_date': datetime.date(2023, 1, 1),\n",
       " 'base_msrp_usd': 93300.0,\n",
       " 'vin': '1234567890',\n",
       " 'number_of_doors': 2,\n",
       " 'registration_country': 'France',\n",
       " 'license_plate': 'AAA-BBB'}"
      ]
     },
     "execution_count": 17,
     "metadata": {},
     "output_type": "execute_result"
    }
   ],
   "execution_count": 17
  },
  {
   "metadata": {
    "ExecuteTime": {
     "end_time": "2024-11-16T14:18:50.338117Z",
     "start_time": "2024-11-16T14:18:50.334334Z"
    }
   },
   "cell_type": "code",
   "source": [
    "expected_serialized_dict_by_alias = {\n",
    "    'manufacturer': 'BMW',\n",
    "    'seriesName': 'M4',\n",
    "    'type': AutomobileType.convertible,\n",
    "    'isElectric': False,\n",
    "    'manufacturedDate': date(2023, 1, 1),\n",
    "    'baseMSRPUSD': 93300.0,\n",
    "    'vin': '1234567890',\n",
    "    'numberOfDoors': 2,\n",
    "    'registrationCountry': 'France',\n",
    "    'licensePlate': 'AAA-BBB'\n",
    "}\n",
    "assert car_2.model_dump(by_alias=True) == expected_serialized_dict_by_alias\n",
    "car_2.model_dump(by_alias=True)"
   ],
   "id": "be9fe644b5441217",
   "outputs": [
    {
     "data": {
      "text/plain": [
       "{'manufacturer': 'BMW',\n",
       " 'seriesName': 'M4',\n",
       " 'type': <AutomobileType.convertible: 'Convertible'>,\n",
       " 'isElectric': False,\n",
       " 'manufacturedDate': datetime.date(2023, 1, 1),\n",
       " 'baseMSRPUSD': 93300.0,\n",
       " 'vin': '1234567890',\n",
       " 'numberOfDoors': 2,\n",
       " 'registrationCountry': 'France',\n",
       " 'licensePlate': 'AAA-BBB'}"
      ]
     },
     "execution_count": 18,
     "metadata": {},
     "output_type": "execute_result"
    }
   ],
   "execution_count": 18
  },
  {
   "metadata": {
    "ExecuteTime": {
     "end_time": "2024-11-16T14:19:24.499015Z",
     "start_time": "2024-11-16T14:19:24.494323Z"
    }
   },
   "cell_type": "code",
   "source": [
    "expected_serialized_json_by_alias = (\n",
    "    '{\"manufacturer\":\"BMW\",\"seriesName\":\"M4\",\"type\":\"Convertible\",'\n",
    "    '\"isElectric\":false,\"manufacturedDate\":\"2023/01/01\",\"baseMSRPUSD\":93300.0,'\n",
    "    '\"vin\":\"1234567890\",\"numberOfDoors\":2,\"registrationCountry\":\"France\",'\n",
    "    '\"licensePlate\":\"AAA-BBB\"}'\n",
    ")\n",
    "assert car_2.model_dump_json(by_alias=True) == expected_serialized_json_by_alias\n",
    "print(car_2.model_dump_json(by_alias=True, indent=4))"
   ],
   "id": "442dc8696efbcc1e",
   "outputs": [
    {
     "name": "stdout",
     "output_type": "stream",
     "text": [
      "{\n",
      "    \"manufacturer\": \"BMW\",\n",
      "    \"seriesName\": \"M4\",\n",
      "    \"type\": \"Convertible\",\n",
      "    \"isElectric\": false,\n",
      "    \"manufacturedDate\": \"2023/01/01\",\n",
      "    \"baseMSRPUSD\": 93300.0,\n",
      "    \"vin\": \"1234567890\",\n",
      "    \"numberOfDoors\": 2,\n",
      "    \"registrationCountry\": \"France\",\n",
      "    \"licensePlate\": \"AAA-BBB\"\n",
      "}\n"
     ]
    }
   ],
   "execution_count": 21
  },
  {
   "metadata": {},
   "cell_type": "code",
   "outputs": [],
   "execution_count": null,
   "source": "",
   "id": "af2218061362e196"
  },
  {
   "metadata": {},
   "cell_type": "code",
   "outputs": [],
   "execution_count": null,
   "source": "",
   "id": "ad5c7e4ac0f98c3f"
  },
  {
   "metadata": {
    "ExecuteTime": {
     "end_time": "2024-11-16T14:16:37.060207Z",
     "start_time": "2024-11-16T14:16:37.057439Z"
    }
   },
   "cell_type": "code",
   "source": "",
   "id": "334e7e6afa29c9cf",
   "outputs": [],
   "execution_count": 12
  },
  {
   "metadata": {
    "ExecuteTime": {
     "end_time": "2024-11-16T14:17:04.153184Z",
     "start_time": "2024-11-16T14:17:04.149775Z"
    }
   },
   "cell_type": "code",
   "source": "",
   "id": "183524499f8708b8",
   "outputs": [],
   "execution_count": 13
  }
 ],
 "metadata": {
  "kernelspec": {
   "display_name": "Python 3 (ipykernel)",
   "language": "python",
   "name": "python3"
  },
  "language_info": {
   "codemirror_mode": {
    "name": "ipython",
    "version": 3
   },
   "file_extension": ".py",
   "mimetype": "text/x-python",
   "name": "python",
   "nbconvert_exporter": "python",
   "pygments_lexer": "ipython3",
   "version": "3.12.0"
  }
 },
 "nbformat": 4,
 "nbformat_minor": 5
}
