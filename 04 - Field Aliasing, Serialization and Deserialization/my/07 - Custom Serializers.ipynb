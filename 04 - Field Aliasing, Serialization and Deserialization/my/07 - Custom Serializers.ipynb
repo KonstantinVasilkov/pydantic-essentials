{
 "cells": [
  {
   "metadata": {
    "ExecuteTime": {
     "end_time": "2024-11-16T13:44:23.252814Z",
     "start_time": "2024-11-16T13:44:23.249329Z"
    }
   },
   "cell_type": "code",
   "source": [
    "from pydantic import BaseModel, field_serializer\n",
    "from datetime import datetime"
   ],
   "id": "1cc339e9b1218776",
   "outputs": [],
   "execution_count": 2
  },
  {
   "metadata": {
    "ExecuteTime": {
     "end_time": "2024-11-16T13:47:03.984386Z",
     "start_time": "2024-11-16T13:47:03.974226Z"
    }
   },
   "cell_type": "code",
   "source": [
    "class Model(BaseModel):\n",
    "    dt: datetime | None = None\n",
    "\n",
    "    @field_serializer('dt', when_used='always')\n",
    "    def serialize_dt(self, value):\n",
    "        print(f\"type(value) = {type(value)}\")\n",
    "        return value\n"
   ],
   "id": "538ce6a289029441",
   "outputs": [],
   "execution_count": 4
  },
  {
   "metadata": {
    "ExecuteTime": {
     "end_time": "2024-11-16T13:47:17.944225Z",
     "start_time": "2024-11-16T13:47:17.938950Z"
    }
   },
   "cell_type": "code",
   "source": "m = Model(dt=datetime.now())",
   "id": "f202c8ab686bb80c",
   "outputs": [],
   "execution_count": 5
  },
  {
   "metadata": {
    "ExecuteTime": {
     "end_time": "2024-11-16T13:47:26.953712Z",
     "start_time": "2024-11-16T13:47:26.941675Z"
    }
   },
   "cell_type": "code",
   "source": "m.model_dump()",
   "id": "28ae924df8c4a4e0",
   "outputs": [
    {
     "name": "stdout",
     "output_type": "stream",
     "text": [
      "type(value) = <class 'datetime.datetime'>\n"
     ]
    },
    {
     "data": {
      "text/plain": [
       "{'dt': datetime.datetime(2024, 11, 16, 17, 47, 17, 940470)}"
      ]
     },
     "execution_count": 6,
     "metadata": {},
     "output_type": "execute_result"
    }
   ],
   "execution_count": 6
  },
  {
   "metadata": {
    "ExecuteTime": {
     "end_time": "2024-11-16T13:47:41.004691Z",
     "start_time": "2024-11-16T13:47:40.993392Z"
    }
   },
   "cell_type": "code",
   "source": "m.model_dump_json()",
   "id": "7e86f22bb5fd4f47",
   "outputs": [
    {
     "name": "stdout",
     "output_type": "stream",
     "text": [
      "type(value) = <class 'datetime.datetime'>\n"
     ]
    },
    {
     "data": {
      "text/plain": [
       "'{\"dt\":\"2024-11-16T17:47:17.940470\"}'"
      ]
     },
     "execution_count": 7,
     "metadata": {},
     "output_type": "execute_result"
    }
   ],
   "execution_count": 7
  },
  {
   "metadata": {
    "ExecuteTime": {
     "end_time": "2024-11-16T13:48:18.394470Z",
     "start_time": "2024-11-16T13:48:18.388762Z"
    }
   },
   "cell_type": "code",
   "source": [
    "m = Model(dt=None)\n",
    "m.model_dump_json()"
   ],
   "id": "736c66a8e64db7fa",
   "outputs": [
    {
     "name": "stdout",
     "output_type": "stream",
     "text": [
      "type(value) = <class 'NoneType'>\n"
     ]
    },
    {
     "data": {
      "text/plain": [
       "'{\"dt\":null}'"
      ]
     },
     "execution_count": 9,
     "metadata": {},
     "output_type": "execute_result"
    }
   ],
   "execution_count": 9
  },
  {
   "metadata": {
    "ExecuteTime": {
     "end_time": "2024-11-16T13:49:02.699135Z",
     "start_time": "2024-11-16T13:49:02.692472Z"
    }
   },
   "cell_type": "code",
   "source": [
    "class Model(BaseModel):\n",
    "    dt: datetime | None = None\n",
    "\n",
    "    @field_serializer('dt', when_used='unless-none')\n",
    "    def serialize_dt(self, value):\n",
    "        print(f\"type(value) = {type(value)}\")\n",
    "        return value"
   ],
   "id": "6c06df77e55e4cf9",
   "outputs": [],
   "execution_count": 10
  },
  {
   "metadata": {
    "ExecuteTime": {
     "end_time": "2024-11-16T13:49:14.198274Z",
     "start_time": "2024-11-16T13:49:14.192891Z"
    }
   },
   "cell_type": "code",
   "source": [
    "m = Model(dt=datetime.now())\n",
    "m.model_dump()"
   ],
   "id": "1a1cbefb57255be",
   "outputs": [
    {
     "name": "stdout",
     "output_type": "stream",
     "text": [
      "type(value) = <class 'datetime.datetime'>\n"
     ]
    },
    {
     "data": {
      "text/plain": [
       "{'dt': datetime.datetime(2024, 11, 16, 17, 49, 14, 193968)}"
      ]
     },
     "execution_count": 11,
     "metadata": {},
     "output_type": "execute_result"
    }
   ],
   "execution_count": 11
  },
  {
   "metadata": {
    "ExecuteTime": {
     "end_time": "2024-11-16T13:49:25.853835Z",
     "start_time": "2024-11-16T13:49:25.846070Z"
    }
   },
   "cell_type": "code",
   "source": [
    "m = Model(dt=None)\n",
    "m.model_dump_json()"
   ],
   "id": "40aca27ca6a28f47",
   "outputs": [
    {
     "data": {
      "text/plain": [
       "'{\"dt\":null}'"
      ]
     },
     "execution_count": 12,
     "metadata": {},
     "output_type": "execute_result"
    }
   ],
   "execution_count": 12
  },
  {
   "metadata": {
    "ExecuteTime": {
     "end_time": "2024-11-16T13:52:28.315853Z",
     "start_time": "2024-11-16T13:52:28.297029Z"
    }
   },
   "cell_type": "code",
   "source": [
    "class Model(BaseModel):\n",
    "    dt: datetime | None = None\n",
    "\n",
    "    @field_serializer('dt', when_used='json-unless-none')\n",
    "    def serialize_dt(self, value):\n",
    "        print(f\"type(value) = {type(value)}\")\n",
    "        return value.strftime('%Y/%-m/%-d %I:%M %p')"
   ],
   "id": "492a2646ff1988c3",
   "outputs": [],
   "execution_count": 13
  },
  {
   "metadata": {
    "ExecuteTime": {
     "end_time": "2024-11-16T13:52:41.360526Z",
     "start_time": "2024-11-16T13:52:41.356720Z"
    }
   },
   "cell_type": "code",
   "source": [
    "m = Model(dt=datetime.now())\n",
    "m.model_dump_json()"
   ],
   "id": "d6f7bcc20523d9c3",
   "outputs": [
    {
     "name": "stdout",
     "output_type": "stream",
     "text": [
      "type(value) = <class 'datetime.datetime'>\n"
     ]
    },
    {
     "data": {
      "text/plain": [
       "'{\"dt\":\"2024/11/16 05:52 PM\"}'"
      ]
     },
     "execution_count": 14,
     "metadata": {},
     "output_type": "execute_result"
    }
   ],
   "execution_count": 14
  },
  {
   "metadata": {
    "ExecuteTime": {
     "end_time": "2024-11-16T13:52:58.268708Z",
     "start_time": "2024-11-16T13:52:58.262669Z"
    }
   },
   "cell_type": "code",
   "source": "m.model_dump()",
   "id": "5f1f74f6dcd0e288",
   "outputs": [
    {
     "data": {
      "text/plain": [
       "{'dt': datetime.datetime(2024, 11, 16, 17, 52, 41, 357682)}"
      ]
     },
     "execution_count": 15,
     "metadata": {},
     "output_type": "execute_result"
    }
   ],
   "execution_count": 15
  },
  {
   "metadata": {
    "ExecuteTime": {
     "end_time": "2024-11-16T13:54:00.916965Z",
     "start_time": "2024-11-16T13:54:00.911690Z"
    }
   },
   "cell_type": "code",
   "source": "from pydantic import FieldSerializationInfo",
   "id": "a8f3854d78a44492",
   "outputs": [],
   "execution_count": 16
  },
  {
   "metadata": {
    "ExecuteTime": {
     "end_time": "2024-11-16T13:55:12.157778Z",
     "start_time": "2024-11-16T13:55:12.151546Z"
    }
   },
   "cell_type": "code",
   "source": [
    "class Model(BaseModel):\n",
    "    dt: datetime | None = None\n",
    "\n",
    "    @field_serializer('dt', when_used='unless-none')\n",
    "    def serialize_dt(self, value, info: FieldSerializationInfo):\n",
    "        print(f\"type(value) = {type(value)}\")\n",
    "        print(f\"info = {info}\")\n",
    "        return value.strftime('%Y/%-m/%-d %I:%M %p')"
   ],
   "id": "3d9111da0617d97f",
   "outputs": [],
   "execution_count": 17
  },
  {
   "metadata": {
    "ExecuteTime": {
     "end_time": "2024-11-16T13:55:13.699700Z",
     "start_time": "2024-11-16T13:55:13.689970Z"
    }
   },
   "cell_type": "code",
   "source": [
    "m = Model(dt=datetime.now())\n",
    "m.model_dump_json()"
   ],
   "id": "c8ef8797d47e0f69",
   "outputs": [
    {
     "name": "stdout",
     "output_type": "stream",
     "text": [
      "type(value) = <class 'datetime.datetime'>\n",
      "info = SerializationInfo(include=None, exclude=None, context=None, mode='json', by_alias=False, exclude_unset=False, exclude_defaults=False, exclude_none=False, round_trip=False, serialize_as_any=False)\n"
     ]
    },
    {
     "data": {
      "text/plain": [
       "'{\"dt\":\"2024/11/16 05:55 PM\"}'"
      ]
     },
     "execution_count": 18,
     "metadata": {},
     "output_type": "execute_result"
    }
   ],
   "execution_count": 18
  },
  {
   "metadata": {
    "ExecuteTime": {
     "end_time": "2024-11-16T13:57:18.530282Z",
     "start_time": "2024-11-16T13:57:18.521486Z"
    }
   },
   "cell_type": "code",
   "source": "import pytz",
   "id": "cccc35b7a40ad5f7",
   "outputs": [],
   "execution_count": 19
  },
  {
   "metadata": {
    "ExecuteTime": {
     "end_time": "2024-11-16T13:59:38.175560Z",
     "start_time": "2024-11-16T13:59:38.165413Z"
    }
   },
   "cell_type": "code",
   "source": [
    "def make_utc(dt: datetime) -> datetime:\n",
    "    if dt.tzinfo is None:\n",
    "        dt = pytz.utc.localize(dt)\n",
    "    else:\n",
    "        dt = dt.astimezone(pytz.utc)\n",
    "    return dt"
   ],
   "id": "133ae5885ec07cf9",
   "outputs": [],
   "execution_count": 20
  },
  {
   "metadata": {
    "ExecuteTime": {
     "end_time": "2024-11-16T14:01:59.509296Z",
     "start_time": "2024-11-16T14:01:59.505847Z"
    }
   },
   "cell_type": "code",
   "source": [
    "def dt_utc_json_serializer(dt: datetime) -> str:\n",
    "    dt = make_utc(dt)\n",
    "    return dt.strftime('%Y-%m-%dT%H:%M:%SZ')"
   ],
   "id": "58a923c970d9d9da",
   "outputs": [],
   "execution_count": 21
  },
  {
   "metadata": {
    "ExecuteTime": {
     "end_time": "2024-11-16T14:02:21.116089Z",
     "start_time": "2024-11-16T14:02:21.110732Z"
    }
   },
   "cell_type": "code",
   "source": "dt_utc_json_serializer(datetime.now())",
   "id": "d92fd2c6651d9010",
   "outputs": [
    {
     "data": {
      "text/plain": [
       "'2024-11-16T18:02:21Z'"
      ]
     },
     "execution_count": 23,
     "metadata": {},
     "output_type": "execute_result"
    }
   ],
   "execution_count": 23
  },
  {
   "metadata": {
    "ExecuteTime": {
     "end_time": "2024-11-16T14:03:28.343824Z",
     "start_time": "2024-11-16T14:03:28.337325Z"
    }
   },
   "cell_type": "code",
   "source": [
    "class Model(BaseModel):\n",
    "    dt: datetime | None = None\n",
    "\n",
    "    @field_serializer('dt', when_used='unless-none')\n",
    "    def serialize_dt(self, value, info: FieldSerializationInfo):\n",
    "        if info.mode_is_json():\n",
    "            return dt_utc_json_serializer(value)\n",
    "        return make_utc(value)"
   ],
   "id": "68029f643345c05a",
   "outputs": [],
   "execution_count": 24
  },
  {
   "metadata": {
    "ExecuteTime": {
     "end_time": "2024-11-16T14:03:37.347207Z",
     "start_time": "2024-11-16T14:03:37.343890Z"
    }
   },
   "cell_type": "code",
   "source": "m = Model(dt=datetime.now())",
   "id": "4da51fb26cab2f4d",
   "outputs": [],
   "execution_count": 25
  },
  {
   "metadata": {
    "ExecuteTime": {
     "end_time": "2024-11-16T14:03:57.362293Z",
     "start_time": "2024-11-16T14:03:57.355976Z"
    }
   },
   "cell_type": "code",
   "source": "m.model_dump()",
   "id": "6c61601eebf3308f",
   "outputs": [
    {
     "data": {
      "text/plain": [
       "{'dt': datetime.datetime(2024, 11, 16, 18, 3, 37, 344918, tzinfo=<UTC>)}"
      ]
     },
     "execution_count": 27,
     "metadata": {},
     "output_type": "execute_result"
    }
   ],
   "execution_count": 27
  },
  {
   "metadata": {
    "ExecuteTime": {
     "end_time": "2024-11-16T14:04:11.616214Z",
     "start_time": "2024-11-16T14:04:11.613429Z"
    }
   },
   "cell_type": "code",
   "source": "m.model_dump_json()\n",
   "id": "4b13100f8045f96a",
   "outputs": [
    {
     "data": {
      "text/plain": [
       "'{\"dt\":\"2024-11-16T18:03:37Z\"}'"
      ]
     },
     "execution_count": 28,
     "metadata": {},
     "output_type": "execute_result"
    }
   ],
   "execution_count": 28
  },
  {
   "metadata": {
    "ExecuteTime": {
     "end_time": "2024-11-16T14:04:45.476081Z",
     "start_time": "2024-11-16T14:04:45.452053Z"
    }
   },
   "cell_type": "code",
   "source": [
    "eastern = pytz.timezone('US/Eastern')\n",
    "dt = eastern.localize(datetime.now())\n",
    "dt"
   ],
   "id": "cbc796cbea407b8b",
   "outputs": [
    {
     "data": {
      "text/plain": [
       "datetime.datetime(2024, 11, 16, 18, 4, 45, 474481, tzinfo=<DstTzInfo 'US/Eastern' EST-1 day, 19:00:00 STD>)"
      ]
     },
     "execution_count": 29,
     "metadata": {},
     "output_type": "execute_result"
    }
   ],
   "execution_count": 29
  },
  {
   "metadata": {
    "ExecuteTime": {
     "end_time": "2024-11-16T14:04:57.438835Z",
     "start_time": "2024-11-16T14:04:57.431691Z"
    }
   },
   "cell_type": "code",
   "source": "dt.isoformat()",
   "id": "8ff70f75effef8d7",
   "outputs": [
    {
     "data": {
      "text/plain": [
       "'2024-11-16T18:04:45.474481-05:00'"
      ]
     },
     "execution_count": 30,
     "metadata": {},
     "output_type": "execute_result"
    }
   ],
   "execution_count": 30
  },
  {
   "metadata": {
    "ExecuteTime": {
     "end_time": "2024-11-16T14:05:14.674401Z",
     "start_time": "2024-11-16T14:05:14.665944Z"
    }
   },
   "cell_type": "code",
   "source": [
    "m = Model(dt=dt)\n",
    "m"
   ],
   "id": "b4b19ec7c515fe8",
   "outputs": [
    {
     "data": {
      "text/plain": [
       "Model(dt=datetime.datetime(2024, 11, 16, 18, 4, 45, 474481, tzinfo=<DstTzInfo 'US/Eastern' EST-1 day, 19:00:00 STD>))"
      ]
     },
     "execution_count": 31,
     "metadata": {},
     "output_type": "execute_result"
    }
   ],
   "execution_count": 31
  },
  {
   "metadata": {
    "ExecuteTime": {
     "end_time": "2024-11-16T14:05:20.930295Z",
     "start_time": "2024-11-16T14:05:20.925603Z"
    }
   },
   "cell_type": "code",
   "source": "m.model_dump()",
   "id": "f77cea6bf9209734",
   "outputs": [
    {
     "data": {
      "text/plain": [
       "{'dt': datetime.datetime(2024, 11, 16, 23, 4, 45, 474481, tzinfo=<UTC>)}"
      ]
     },
     "execution_count": 32,
     "metadata": {},
     "output_type": "execute_result"
    }
   ],
   "execution_count": 32
  },
  {
   "metadata": {
    "ExecuteTime": {
     "end_time": "2024-11-16T14:05:26.508695Z",
     "start_time": "2024-11-16T14:05:26.505409Z"
    }
   },
   "cell_type": "code",
   "source": "m.model_dump_json()",
   "id": "d0bf7e71c7485ac0",
   "outputs": [
    {
     "data": {
      "text/plain": [
       "'{\"dt\":\"2024-11-16T23:04:45Z\"}'"
      ]
     },
     "execution_count": 33,
     "metadata": {},
     "output_type": "execute_result"
    }
   ],
   "execution_count": 33
  }
 ],
 "metadata": {
  "kernelspec": {
   "name": "python3",
   "language": "python",
   "display_name": "Python 3 (ipykernel)"
  }
 },
 "nbformat": 5,
 "nbformat_minor": 9
}
