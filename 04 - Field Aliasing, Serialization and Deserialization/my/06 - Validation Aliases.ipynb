{
 "cells": [
  {
   "metadata": {
    "ExecuteTime": {
     "end_time": "2024-11-15T14:24:40.107856Z",
     "start_time": "2024-11-15T14:24:40.051447Z"
    }
   },
   "cell_type": "code",
   "source": "from pydantic import BaseModel, Field, ConfigDict, ValidationError",
   "id": "6a6489abb5607e73",
   "outputs": [],
   "execution_count": 1
  },
  {
   "metadata": {
    "ExecuteTime": {
     "end_time": "2024-11-15T14:26:03.472780Z",
     "start_time": "2024-11-15T14:26:03.414371Z"
    }
   },
   "cell_type": "code",
   "source": [
    "class Model(BaseModel):\n",
    "    model_config = ConfigDict(\n",
    "        populate_by_name=True,\n",
    "    )\n",
    "\n",
    "    first_name: str = Field(validation_alias=\"FirstName\")\n"
   ],
   "id": "12710b655f411645",
   "outputs": [],
   "execution_count": 2
  },
  {
   "metadata": {
    "ExecuteTime": {
     "end_time": "2024-11-15T14:26:25.527641Z",
     "start_time": "2024-11-15T14:26:25.522717Z"
    }
   },
   "cell_type": "code",
   "source": "Model(FirstName=\"alsjkfh\")",
   "id": "79c3ce52168d51a5",
   "outputs": [
    {
     "data": {
      "text/plain": [
       "Model(first_name='alsjkfh')"
      ]
     },
     "execution_count": 3,
     "metadata": {},
     "output_type": "execute_result"
    }
   ],
   "execution_count": 3
  },
  {
   "metadata": {
    "ExecuteTime": {
     "end_time": "2024-11-15T14:27:04.596142Z",
     "start_time": "2024-11-15T14:27:04.589417Z"
    }
   },
   "cell_type": "code",
   "source": [
    "class Model(BaseModel):\n",
    "    model_config = ConfigDict(\n",
    "        populate_by_name=True,\n",
    "    )\n",
    "\n",
    "    first_name: str = Field(validation_alias=\"FirstName\", alias=\"firstName\")"
   ],
   "id": "78f4174db8a9374d",
   "outputs": [],
   "execution_count": 4
  },
  {
   "metadata": {
    "ExecuteTime": {
     "end_time": "2024-11-15T14:27:18.849290Z",
     "start_time": "2024-11-15T14:27:18.845566Z"
    }
   },
   "cell_type": "code",
   "source": [
    "m = Model(FirstName=\"alsjkfh\")\n",
    "m"
   ],
   "id": "496505bf7aba595f",
   "outputs": [
    {
     "data": {
      "text/plain": [
       "Model(first_name='alsjkfh')"
      ]
     },
     "execution_count": 6,
     "metadata": {},
     "output_type": "execute_result"
    }
   ],
   "execution_count": 6
  },
  {
   "metadata": {
    "ExecuteTime": {
     "end_time": "2024-11-15T14:27:32.170303Z",
     "start_time": "2024-11-15T14:27:32.166589Z"
    }
   },
   "cell_type": "code",
   "source": "m.model_dump(by_alias=True)",
   "id": "e1f8a9597bc55a1d",
   "outputs": [
    {
     "data": {
      "text/plain": [
       "{'firstName': 'alsjkfh'}"
      ]
     },
     "execution_count": 7,
     "metadata": {},
     "output_type": "execute_result"
    }
   ],
   "execution_count": 7
  }
 ],
 "metadata": {
  "kernelspec": {
   "name": "python3",
   "language": "python",
   "display_name": "Python 3 (ipykernel)"
  }
 },
 "nbformat": 5,
 "nbformat_minor": 9
}
