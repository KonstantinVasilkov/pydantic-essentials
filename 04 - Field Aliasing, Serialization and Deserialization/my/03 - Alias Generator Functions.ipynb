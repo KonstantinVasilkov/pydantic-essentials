{
 "cells": [
  {
   "metadata": {
    "ExecuteTime": {
     "end_time": "2024-11-15T13:35:59.784216Z",
     "start_time": "2024-11-15T13:35:59.731968Z"
    }
   },
   "cell_type": "code",
   "source": "from pydantic import BaseModel, Field, ConfigDict, ValidationError",
   "id": "c1d621d0695a2843",
   "outputs": [],
   "execution_count": 1
  },
  {
   "metadata": {
    "ExecuteTime": {
     "end_time": "2024-11-15T13:36:29.993679Z",
     "start_time": "2024-11-15T13:36:29.988954Z"
    }
   },
   "cell_type": "code",
   "source": "from pydantic.alias_generators import to_camel, to_snake, to_pascal",
   "id": "2402f1307669ef23",
   "outputs": [],
   "execution_count": 2
  },
  {
   "metadata": {
    "ExecuteTime": {
     "end_time": "2024-11-15T13:36:41.615017Z",
     "start_time": "2024-11-15T13:36:41.610551Z"
    }
   },
   "cell_type": "code",
   "source": "to_camel(\"last_name\")",
   "id": "b8955660de3b2329",
   "outputs": [
    {
     "data": {
      "text/plain": [
       "'lastName'"
      ]
     },
     "execution_count": 3,
     "metadata": {},
     "output_type": "execute_result"
    }
   ],
   "execution_count": 3
  },
  {
   "metadata": {
    "ExecuteTime": {
     "end_time": "2024-11-15T13:37:20.026801Z",
     "start_time": "2024-11-15T13:37:20.020395Z"
    }
   },
   "cell_type": "code",
   "source": "to_snake(to_camel(\"last_name\"))",
   "id": "a69f42af764ece8e",
   "outputs": [
    {
     "data": {
      "text/plain": [
       "'last_name'"
      ]
     },
     "execution_count": 4,
     "metadata": {},
     "output_type": "execute_result"
    }
   ],
   "execution_count": 4
  },
  {
   "metadata": {
    "ExecuteTime": {
     "end_time": "2024-11-15T13:38:01.138568Z",
     "start_time": "2024-11-15T13:38:01.131482Z"
    }
   },
   "cell_type": "code",
   "source": [
    "def to_upper(in_str: str) -> str:\n",
    "    return in_str.upper()"
   ],
   "id": "51ce2d4f54644ba1",
   "outputs": [],
   "execution_count": 5
  },
  {
   "metadata": {
    "ExecuteTime": {
     "end_time": "2024-11-15T13:38:16.461805Z",
     "start_time": "2024-11-15T13:38:16.456025Z"
    }
   },
   "cell_type": "code",
   "source": "to_upper(\"last_name\")",
   "id": "2a85fbb8c3ebb3d9",
   "outputs": [
    {
     "data": {
      "text/plain": [
       "'LAST_NAME'"
      ]
     },
     "execution_count": 6,
     "metadata": {},
     "output_type": "execute_result"
    }
   ],
   "execution_count": 6
  },
  {
   "metadata": {
    "ExecuteTime": {
     "end_time": "2024-11-15T13:39:19.773676Z",
     "start_time": "2024-11-15T13:39:19.728594Z"
    }
   },
   "cell_type": "code",
   "source": [
    "class Person(BaseModel):\n",
    "    model_config = ConfigDict(alias_generator=to_upper)\n",
    "    id_: int\n",
    "    first_name: str | None = None\n",
    "    last_name: str\n",
    "    age: int | None = None"
   ],
   "id": "3d59d34cf3dbb0a3",
   "outputs": [],
   "execution_count": 7
  },
  {
   "metadata": {
    "ExecuteTime": {
     "end_time": "2024-11-15T13:39:32.120948Z",
     "start_time": "2024-11-15T13:39:32.115454Z"
    }
   },
   "cell_type": "code",
   "source": "Person.model_fields",
   "id": "a4f8beaf11ca59a0",
   "outputs": [
    {
     "data": {
      "text/plain": [
       "{'id_': FieldInfo(annotation=int, required=True, alias='ID_', alias_priority=1),\n",
       " 'first_name': FieldInfo(annotation=Union[str, NoneType], required=False, default=None, alias='FIRST_NAME', alias_priority=1),\n",
       " 'last_name': FieldInfo(annotation=str, required=True, alias='LAST_NAME', alias_priority=1),\n",
       " 'age': FieldInfo(annotation=Union[int, NoneType], required=False, default=None, alias='AGE', alias_priority=1)}"
      ]
     },
     "execution_count": 8,
     "metadata": {},
     "output_type": "execute_result"
    }
   ],
   "execution_count": 8
  },
  {
   "metadata": {
    "ExecuteTime": {
     "end_time": "2024-11-15T13:40:30.878404Z",
     "start_time": "2024-11-15T13:40:30.872938Z"
    }
   },
   "cell_type": "code",
   "source": "p = Person(ID_=1, LAST_NAME=\"Lastnamer\")",
   "id": "d5f0dcdba4e11f7a",
   "outputs": [],
   "execution_count": 9
  },
  {
   "metadata": {
    "ExecuteTime": {
     "end_time": "2024-11-15T13:40:35.185898Z",
     "start_time": "2024-11-15T13:40:35.178285Z"
    }
   },
   "cell_type": "code",
   "source": "p",
   "id": "d316b1146c4d33d7",
   "outputs": [
    {
     "data": {
      "text/plain": [
       "Person(id_=1, first_name=None, last_name='Lastnamer', age=None)"
      ]
     },
     "execution_count": 10,
     "metadata": {},
     "output_type": "execute_result"
    }
   ],
   "execution_count": 10
  },
  {
   "metadata": {
    "ExecuteTime": {
     "end_time": "2024-11-15T13:40:49.118134Z",
     "start_time": "2024-11-15T13:40:49.113037Z"
    }
   },
   "cell_type": "code",
   "source": "p.model_dump(by_alias=True)",
   "id": "4c8d7750aec5a58",
   "outputs": [
    {
     "data": {
      "text/plain": [
       "{'ID_': 1, 'FIRST_NAME': None, 'LAST_NAME': 'Lastnamer', 'AGE': None}"
      ]
     },
     "execution_count": 11,
     "metadata": {},
     "output_type": "execute_result"
    }
   ],
   "execution_count": 11
  },
  {
   "metadata": {
    "ExecuteTime": {
     "end_time": "2024-11-15T13:41:25.406624Z",
     "start_time": "2024-11-15T13:41:25.400257Z"
    }
   },
   "cell_type": "code",
   "source": [
    "class Person(BaseModel):\n",
    "    model_config = ConfigDict(alias_generator=to_upper)\n",
    "    id_: int = Field(alias=\"ID\")\n",
    "    first_name: str | None = None\n",
    "    last_name: str\n",
    "    age: int | None = None"
   ],
   "id": "81e5699142159a89",
   "outputs": [],
   "execution_count": 12
  },
  {
   "metadata": {
    "ExecuteTime": {
     "end_time": "2024-11-15T13:41:39.315708Z",
     "start_time": "2024-11-15T13:41:39.310380Z"
    }
   },
   "cell_type": "code",
   "source": [
    "p = Person(ID=1, LAST_NAME=\"Lastnamer\")\n",
    "p.model_dump(by_alias=True)"
   ],
   "id": "34ee2df8b33350a1",
   "outputs": [
    {
     "data": {
      "text/plain": [
       "{'ID': 1, 'FIRST_NAME': None, 'LAST_NAME': 'Lastnamer', 'AGE': None}"
      ]
     },
     "execution_count": 15,
     "metadata": {},
     "output_type": "execute_result"
    }
   ],
   "execution_count": 15
  },
  {
   "metadata": {
    "ExecuteTime": {
     "end_time": "2024-11-15T13:42:13.648896Z",
     "start_time": "2024-11-15T13:42:13.642315Z"
    }
   },
   "cell_type": "code",
   "source": [
    "class Person(BaseModel):\n",
    "    model_config = ConfigDict(alias_generator=to_camel)\n",
    "\n",
    "    id_: int = Field(alias=\"id\")\n",
    "    first_name: str | None = None\n",
    "    last_name: str\n",
    "    age: int | None = None"
   ],
   "id": "9038748340a83ca8",
   "outputs": [],
   "execution_count": 16
  },
  {
   "metadata": {
    "ExecuteTime": {
     "end_time": "2024-11-15T13:42:19.484686Z",
     "start_time": "2024-11-15T13:42:19.481769Z"
    }
   },
   "cell_type": "code",
   "source": "Person.model_fields\n",
   "id": "a519f65e4e9cdeff",
   "outputs": [
    {
     "data": {
      "text/plain": [
       "{'id_': FieldInfo(annotation=int, required=True, alias='id', alias_priority=2),\n",
       " 'first_name': FieldInfo(annotation=Union[str, NoneType], required=False, default=None, alias='firstName', alias_priority=1),\n",
       " 'last_name': FieldInfo(annotation=str, required=True, alias='lastName', alias_priority=1),\n",
       " 'age': FieldInfo(annotation=Union[int, NoneType], required=False, default=None, alias='age', alias_priority=1)}"
      ]
     },
     "execution_count": 17,
     "metadata": {},
     "output_type": "execute_result"
    }
   ],
   "execution_count": 17
  },
  {
   "metadata": {
    "ExecuteTime": {
     "end_time": "2024-11-15T13:42:42.557776Z",
     "start_time": "2024-11-15T13:42:42.553474Z"
    }
   },
   "cell_type": "code",
   "source": [
    "p = Person(id=1, lastName=\"Lastnamer\")\n",
    "p.model_dump(by_alias=True)\n"
   ],
   "id": "d694c5570d325819",
   "outputs": [
    {
     "data": {
      "text/plain": [
       "{'id': 1, 'firstName': None, 'lastName': 'Lastnamer', 'age': None}"
      ]
     },
     "execution_count": 19,
     "metadata": {},
     "output_type": "execute_result"
    }
   ],
   "execution_count": 19
  },
  {
   "metadata": {},
   "cell_type": "code",
   "outputs": [],
   "execution_count": null,
   "source": "",
   "id": "fd0adb53aa25d604"
  }
 ],
 "metadata": {
  "kernelspec": {
   "name": "python3",
   "language": "python",
   "display_name": "Python 3 (ipykernel)"
  }
 },
 "nbformat": 5,
 "nbformat_minor": 9
}
