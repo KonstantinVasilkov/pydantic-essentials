{
 "cells": [
  {
   "metadata": {
    "ExecuteTime": {
     "end_time": "2024-11-15T13:17:10.139169Z",
     "start_time": "2024-11-15T13:17:10.075850Z"
    }
   },
   "cell_type": "code",
   "source": "from pydantic import BaseModel, Field, ValidationError",
   "id": "262fc9bd398b7ba9",
   "outputs": [],
   "execution_count": 1
  },
  {
   "metadata": {
    "ExecuteTime": {
     "end_time": "2024-11-15T13:17:49.769229Z",
     "start_time": "2024-11-15T13:17:49.690706Z"
    }
   },
   "cell_type": "code",
   "source": [
    "class Model(BaseModel):\n",
    "    id_: int = Field(alias='id')\n",
    "    last_name: str = Field(alias='lastName')"
   ],
   "id": "1c45173563e776f",
   "outputs": [],
   "execution_count": 2
  },
  {
   "metadata": {
    "ExecuteTime": {
     "end_time": "2024-11-15T13:19:03.799709Z",
     "start_time": "2024-11-15T13:19:03.796816Z"
    }
   },
   "cell_type": "code",
   "source": [
    "json_data = \"\"\"\n",
    "{\n",
    "    \"id\": 1,\n",
    "    \"lastName\": \"John\"\n",
    "}\n",
    "\"\"\""
   ],
   "id": "1993a88b5251a282",
   "outputs": [],
   "execution_count": 7
  },
  {
   "metadata": {
    "ExecuteTime": {
     "end_time": "2024-11-15T13:19:08.645524Z",
     "start_time": "2024-11-15T13:19:08.639297Z"
    }
   },
   "cell_type": "code",
   "source": [
    "m = Model.model_validate_json(json_data)\n",
    "m"
   ],
   "id": "6a5f46addd8fb187",
   "outputs": [
    {
     "data": {
      "text/plain": [
       "Model(id_=1, last_name='John')"
      ]
     },
     "execution_count": 9,
     "metadata": {},
     "output_type": "execute_result"
    }
   ],
   "execution_count": 9
  },
  {
   "metadata": {
    "ExecuteTime": {
     "end_time": "2024-11-15T13:19:39.090874Z",
     "start_time": "2024-11-15T13:19:39.084326Z"
    }
   },
   "cell_type": "code",
   "source": "Model(id=1, lastName=\"afnjh;\")",
   "id": "f5e2df7d22492766",
   "outputs": [
    {
     "data": {
      "text/plain": [
       "Model(id_=1, last_name='afnjh;')"
      ]
     },
     "execution_count": 10,
     "metadata": {},
     "output_type": "execute_result"
    }
   ],
   "execution_count": 10
  },
  {
   "metadata": {
    "ExecuteTime": {
     "end_time": "2024-11-15T13:20:08.164704Z",
     "start_time": "2024-11-15T13:20:08.153408Z"
    }
   },
   "cell_type": "code",
   "source": [
    "try:\n",
    "    Model(id_=1, last_name=\"afnjh;\")\n",
    "except ValidationError as e:\n",
    "    print(e)"
   ],
   "id": "e1e58932d4c1462f",
   "outputs": [
    {
     "name": "stdout",
     "output_type": "stream",
     "text": [
      "2 validation errors for Model\n",
      "id\n",
      "  Field required [type=missing, input_value={'id_': 1, 'last_name': 'afnjh;'}, input_type=dict]\n",
      "    For further information visit https://errors.pydantic.dev/2.9/v/missing\n",
      "lastName\n",
      "  Field required [type=missing, input_value={'id_': 1, 'last_name': 'afnjh;'}, input_type=dict]\n",
      "    For further information visit https://errors.pydantic.dev/2.9/v/missing\n"
     ]
    }
   ],
   "execution_count": 11
  },
  {
   "metadata": {
    "ExecuteTime": {
     "end_time": "2024-11-15T13:20:21.540448Z",
     "start_time": "2024-11-15T13:20:21.528567Z"
    }
   },
   "cell_type": "code",
   "source": "m.id_",
   "id": "1d41c012afe49d86",
   "outputs": [
    {
     "data": {
      "text/plain": [
       "1"
      ]
     },
     "execution_count": 12,
     "metadata": {},
     "output_type": "execute_result"
    }
   ],
   "execution_count": 12
  },
  {
   "metadata": {
    "ExecuteTime": {
     "end_time": "2024-11-15T13:20:49.005456Z",
     "start_time": "2024-11-15T13:20:48.997817Z"
    }
   },
   "cell_type": "code",
   "source": "hasattr(m, \"last_name\")",
   "id": "4f3ebbf4b20d266d",
   "outputs": [
    {
     "data": {
      "text/plain": [
       "True"
      ]
     },
     "execution_count": 13,
     "metadata": {},
     "output_type": "execute_result"
    }
   ],
   "execution_count": 13
  },
  {
   "metadata": {
    "ExecuteTime": {
     "end_time": "2024-11-15T13:21:00.523510Z",
     "start_time": "2024-11-15T13:21:00.518968Z"
    }
   },
   "cell_type": "code",
   "source": "hasattr(m, \"lastName\")",
   "id": "91c6d4aabf40ba2e",
   "outputs": [
    {
     "data": {
      "text/plain": [
       "False"
      ]
     },
     "execution_count": 14,
     "metadata": {},
     "output_type": "execute_result"
    }
   ],
   "execution_count": 14
  },
  {
   "metadata": {
    "ExecuteTime": {
     "end_time": "2024-11-15T13:21:17.190402Z",
     "start_time": "2024-11-15T13:21:17.183765Z"
    }
   },
   "cell_type": "code",
   "source": [
    "class Model(BaseModel):\n",
    "    id_: int = Field(alias='id', default=1)\n",
    "    last_name: str = Field(alias='lastName')"
   ],
   "id": "6578862d75dfbf21",
   "outputs": [],
   "execution_count": 15
  },
  {
   "metadata": {
    "ExecuteTime": {
     "end_time": "2024-11-15T13:21:43.856691Z",
     "start_time": "2024-11-15T13:21:43.851821Z"
    }
   },
   "cell_type": "code",
   "source": "Model(lastName=\"1\")",
   "id": "ed47d7f42b248d4f",
   "outputs": [
    {
     "data": {
      "text/plain": [
       "Model(id_=1, last_name='1')"
      ]
     },
     "execution_count": 17,
     "metadata": {},
     "output_type": "execute_result"
    }
   ],
   "execution_count": 17
  },
  {
   "metadata": {
    "ExecuteTime": {
     "end_time": "2024-11-15T13:24:41.851294Z",
     "start_time": "2024-11-15T13:24:41.838689Z"
    }
   },
   "cell_type": "code",
   "source": [
    "class Person(BaseModel):\n",
    "    id_: int = Field(alias='id')\n",
    "    first_name: str | None = Field(alias='firstName', default=None)\n",
    "    last_name: str = Field(alias='lastName')\n",
    "    age: int | None = None"
   ],
   "id": "2293c147effcaead",
   "outputs": [],
   "execution_count": 18
  },
  {
   "metadata": {
    "ExecuteTime": {
     "end_time": "2024-11-15T13:25:28.395534Z",
     "start_time": "2024-11-15T13:25:28.390741Z"
    }
   },
   "cell_type": "code",
   "source": [
    "isaac = Person(\n",
    "    id=1,\n",
    "    firstName='Isaac',\n",
    "    lastName='Newton',\n",
    "    age=84\n",
    ")"
   ],
   "id": "294d76d263befeb8",
   "outputs": [],
   "execution_count": 19
  },
  {
   "metadata": {
    "ExecuteTime": {
     "end_time": "2024-11-15T13:25:39.013408Z",
     "start_time": "2024-11-15T13:25:39.008263Z"
    }
   },
   "cell_type": "code",
   "source": "isaac.model_dump()",
   "id": "22441c3ce82d523b",
   "outputs": [
    {
     "data": {
      "text/plain": [
       "{'id_': 1, 'first_name': 'Isaac', 'last_name': 'Newton', 'age': 84}"
      ]
     },
     "execution_count": 20,
     "metadata": {},
     "output_type": "execute_result"
    }
   ],
   "execution_count": 20
  },
  {
   "metadata": {
    "ExecuteTime": {
     "end_time": "2024-11-15T13:25:49.926027Z",
     "start_time": "2024-11-15T13:25:49.923111Z"
    }
   },
   "cell_type": "code",
   "source": "isaac.model_dump(by_alias=True)",
   "id": "5f421915edec1378",
   "outputs": [
    {
     "data": {
      "text/plain": [
       "{'id': 1, 'firstName': 'Isaac', 'lastName': 'Newton', 'age': 84}"
      ]
     },
     "execution_count": 21,
     "metadata": {},
     "output_type": "execute_result"
    }
   ],
   "execution_count": 21
  },
  {
   "metadata": {
    "ExecuteTime": {
     "end_time": "2024-11-15T13:26:02.803632Z",
     "start_time": "2024-11-15T13:26:02.797039Z"
    }
   },
   "cell_type": "code",
   "source": "isaac.model_dump_json(by_alias=True)",
   "id": "e4645eb77a34c739",
   "outputs": [
    {
     "data": {
      "text/plain": [
       "'{\"id\":1,\"firstName\":\"Isaac\",\"lastName\":\"Newton\",\"age\":84}'"
      ]
     },
     "execution_count": 22,
     "metadata": {},
     "output_type": "execute_result"
    }
   ],
   "execution_count": 22
  },
  {
   "metadata": {
    "ExecuteTime": {
     "end_time": "2024-11-15T13:26:37.197330Z",
     "start_time": "2024-11-15T13:26:37.188158Z"
    }
   },
   "cell_type": "code",
   "source": "Person.model_fields",
   "id": "42dc0462ff4d9a50",
   "outputs": [
    {
     "data": {
      "text/plain": [
       "{'id_': FieldInfo(annotation=int, required=True, alias='id', alias_priority=2),\n",
       " 'first_name': FieldInfo(annotation=Union[str, NoneType], required=False, default=None, alias='firstName', alias_priority=2),\n",
       " 'last_name': FieldInfo(annotation=str, required=True, alias='lastName', alias_priority=2),\n",
       " 'age': FieldInfo(annotation=Union[int, NoneType], required=False, default=None)}"
      ]
     },
     "execution_count": 23,
     "metadata": {},
     "output_type": "execute_result"
    }
   ],
   "execution_count": 23
  }
 ],
 "metadata": {
  "kernelspec": {
   "name": "python3",
   "language": "python",
   "display_name": "Python 3 (ipykernel)"
  }
 },
 "nbformat": 5,
 "nbformat_minor": 9
}
