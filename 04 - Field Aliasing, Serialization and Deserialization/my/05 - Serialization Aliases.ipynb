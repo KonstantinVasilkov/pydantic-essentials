{
 "cells": [
  {
   "metadata": {
    "ExecuteTime": {
     "end_time": "2024-11-15T14:20:38.822529Z",
     "start_time": "2024-11-15T14:20:38.767138Z"
    }
   },
   "cell_type": "code",
   "source": "from pydantic import BaseModel, Field, ConfigDict, ValidationError\n",
   "id": "1226daf17d65898f",
   "outputs": [],
   "execution_count": 1
  },
  {
   "metadata": {
    "ExecuteTime": {
     "end_time": "2024-11-15T14:21:35.380507Z",
     "start_time": "2024-11-15T14:21:35.370292Z"
    }
   },
   "cell_type": "code",
   "source": [
    "response_json = \"\"\"\n",
    "{\n",
    "    \"ID\": 100,\n",
    "    \"FirstName\": \"John\",\n",
    "    \"lastname\": \"Doe\"\n",
    "}\n",
    "\"\"\""
   ],
   "id": "ec6d7770b72447f",
   "outputs": [],
   "execution_count": 2
  },
  {
   "metadata": {
    "ExecuteTime": {
     "end_time": "2024-11-15T14:22:17.750902Z",
     "start_time": "2024-11-15T14:22:17.686923Z"
    }
   },
   "cell_type": "code",
   "source": [
    "class Person(BaseModel):\n",
    "    id_: int = Field(alias=\"ID\")\n",
    "    first_name: str = Field(alias=\"FirstName\")\n",
    "    last_name: str = Field(alias=\"lastname\")\n"
   ],
   "id": "d1772d1fd5efd1fe",
   "outputs": [],
   "execution_count": 3
  },
  {
   "metadata": {
    "ExecuteTime": {
     "end_time": "2024-11-15T14:22:33.665894Z",
     "start_time": "2024-11-15T14:22:33.659508Z"
    }
   },
   "cell_type": "code",
   "source": "Person.model_validate_json(response_json)",
   "id": "a55b02c14f9e6648",
   "outputs": [
    {
     "data": {
      "text/plain": [
       "Person(id_=100, first_name='John', last_name='Doe')"
      ]
     },
     "execution_count": 4,
     "metadata": {},
     "output_type": "execute_result"
    }
   ],
   "execution_count": 4
  },
  {
   "metadata": {
    "ExecuteTime": {
     "end_time": "2024-11-15T14:23:21.788084Z",
     "start_time": "2024-11-15T14:23:21.776638Z"
    }
   },
   "cell_type": "code",
   "source": [
    "class Person(BaseModel):\n",
    "    id_: int = Field(alias=\"ID\", serialization_alias=\"id\")\n",
    "    first_name: str = Field(alias=\"FirstName\", serialization_alias=\"firstName\")\n",
    "    last_name: str = Field(alias=\"lastname\", serialization_alias=\"lastName\")"
   ],
   "id": "26c77f14d07ee091",
   "outputs": [],
   "execution_count": 5
  },
  {
   "metadata": {
    "ExecuteTime": {
     "end_time": "2024-11-15T14:23:55.618677Z",
     "start_time": "2024-11-15T14:23:55.604058Z"
    }
   },
   "cell_type": "code",
   "source": [
    "p = Person.model_validate_json(response_json)\n",
    "p.model_dump(by_alias=True)"
   ],
   "id": "9879c24b029567b5",
   "outputs": [
    {
     "data": {
      "text/plain": [
       "{'id': 100, 'firstName': 'John', 'lastName': 'Doe'}"
      ]
     },
     "execution_count": 6,
     "metadata": {},
     "output_type": "execute_result"
    }
   ],
   "execution_count": 6
  },
  {
   "metadata": {
    "ExecuteTime": {
     "end_time": "2024-11-15T14:24:18.796568Z",
     "start_time": "2024-11-15T14:24:18.790977Z"
    }
   },
   "cell_type": "code",
   "source": "Person.model_fields",
   "id": "86d0d140c8313cf3",
   "outputs": [
    {
     "data": {
      "text/plain": [
       "{'id_': FieldInfo(annotation=int, required=True, alias='ID', alias_priority=2, serialization_alias='id'),\n",
       " 'first_name': FieldInfo(annotation=str, required=True, alias='FirstName', alias_priority=2, serialization_alias='firstName'),\n",
       " 'last_name': FieldInfo(annotation=str, required=True, alias='lastname', alias_priority=2, serialization_alias='lastName')}"
      ]
     },
     "execution_count": 7,
     "metadata": {},
     "output_type": "execute_result"
    }
   ],
   "execution_count": 7
  }
 ],
 "metadata": {
  "kernelspec": {
   "name": "python3",
   "language": "python",
   "display_name": "Python 3 (ipykernel)"
  }
 },
 "nbformat": 5,
 "nbformat_minor": 9
}
