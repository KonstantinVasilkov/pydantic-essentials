{
 "cells": [
  {
   "metadata": {
    "ExecuteTime": {
     "end_time": "2024-12-07T22:17:10.992021Z",
     "start_time": "2024-12-07T22:17:10.989996Z"
    }
   },
   "cell_type": "code",
   "source": [
    "def extract_first_char(s: str):\n",
    "    if s is None:\n",
    "        raise ValueError(\"argument cannot be None\")\n",
    "    if not isinstance(s, str):\n",
    "        raise TypeError(\"argument must be a string\")\n",
    "    if len(s) == 0:\n",
    "        raise ValueError(\"argument cannot be an empty string\")\n",
    "    return s[0]"
   ],
   "id": "f7c608daeefdf539",
   "outputs": [],
   "execution_count": 1
  },
  {
   "metadata": {
    "ExecuteTime": {
     "end_time": "2024-12-07T22:17:18.424250Z",
     "start_time": "2024-12-07T22:17:18.420824Z"
    }
   },
   "cell_type": "code",
   "source": [
    "try:\n",
    "    extract_first_char(100)\n",
    "except TypeError as ex:\n",
    "    print(ex)"
   ],
   "id": "71d447c7fc541a56",
   "outputs": [
    {
     "name": "stdout",
     "output_type": "stream",
     "text": [
      "argument must be a string\n"
     ]
    }
   ],
   "execution_count": 2
  },
  {
   "metadata": {
    "ExecuteTime": {
     "end_time": "2024-12-07T22:17:29.206769Z",
     "start_time": "2024-12-07T22:17:29.202381Z"
    }
   },
   "cell_type": "code",
   "source": [
    "try:\n",
    "    extract_first_char(\"\")\n",
    "except ValueError as ex:\n",
    "    print(ex)"
   ],
   "id": "9ddf3787b6c83172",
   "outputs": [
    {
     "name": "stdout",
     "output_type": "stream",
     "text": [
      "argument cannot be an empty string\n"
     ]
    }
   ],
   "execution_count": 3
  },
  {
   "metadata": {
    "ExecuteTime": {
     "end_time": "2024-12-07T22:17:42.573020Z",
     "start_time": "2024-12-07T22:17:42.569884Z"
    }
   },
   "cell_type": "code",
   "source": [
    "def extract_first_char(s: str):\n",
    "    if not isinstance(s, str):\n",
    "        raise TypeError(\"argument must be a string\")\n",
    "    if not s:\n",
    "        raise ValueError(\"argument cannot be an empty string\")\n",
    "    return s[0]"
   ],
   "id": "446049df6ecaab3e",
   "outputs": [],
   "execution_count": 4
  },
  {
   "metadata": {
    "ExecuteTime": {
     "end_time": "2024-12-07T22:18:04.325925Z",
     "start_time": "2024-12-07T22:18:04.277239Z"
    }
   },
   "cell_type": "code",
   "source": [
    "from typing import Annotated\n",
    "\n",
    "from pydantic import Field, ValidationError"
   ],
   "id": "49edc2444b94b685",
   "outputs": [],
   "execution_count": 5
  },
  {
   "metadata": {
    "ExecuteTime": {
     "end_time": "2024-12-07T22:18:13.715759Z",
     "start_time": "2024-12-07T22:18:13.712789Z"
    }
   },
   "cell_type": "code",
   "source": "NonEmptyString= Annotated[str, Field(min_length=1)]\n",
   "id": "1f2189ed97e433bc",
   "outputs": [],
   "execution_count": 6
  },
  {
   "metadata": {
    "ExecuteTime": {
     "end_time": "2024-12-07T22:19:23.089279Z",
     "start_time": "2024-12-07T22:19:23.040472Z"
    }
   },
   "cell_type": "code",
   "source": [
    "from pydantic import validate_call\n",
    "\n",
    "@validate_call\n",
    "def extract_first_char(s: NonEmptyString):\n",
    "    return s[0]"
   ],
   "id": "f11e68617d9f2ec6",
   "outputs": [],
   "execution_count": 8
  },
  {
   "metadata": {
    "ExecuteTime": {
     "end_time": "2024-12-07T22:19:49.476060Z",
     "start_time": "2024-12-07T22:19:49.469200Z"
    }
   },
   "cell_type": "code",
   "source": "extract_first_char(\"abc\")\n",
   "id": "f87876e630e1be75",
   "outputs": [
    {
     "data": {
      "text/plain": [
       "'a'"
      ]
     },
     "execution_count": 9,
     "metadata": {},
     "output_type": "execute_result"
    }
   ],
   "execution_count": 9
  },
  {
   "metadata": {
    "ExecuteTime": {
     "end_time": "2024-12-07T22:19:58.832546Z",
     "start_time": "2024-12-07T22:19:58.829009Z"
    }
   },
   "cell_type": "code",
   "source": [
    "try:\n",
    "    extract_first_char(None)\n",
    "except ValidationError as ex:\n",
    "    print(ex)"
   ],
   "id": "3148dbd368237313",
   "outputs": [
    {
     "name": "stdout",
     "output_type": "stream",
     "text": [
      "1 validation error for extract_first_char\n",
      "0\n",
      "  Input should be a valid string [type=string_type, input_value=None, input_type=NoneType]\n",
      "    For further information visit https://errors.pydantic.dev/2.9/v/string_type\n"
     ]
    }
   ],
   "execution_count": 10
  },
  {
   "metadata": {},
   "cell_type": "code",
   "outputs": [],
   "execution_count": null,
   "source": "",
   "id": "54afca9e2acf3c85"
  }
 ],
 "metadata": {
  "kernelspec": {
   "name": "python3",
   "language": "python",
   "display_name": "Python 3 (ipykernel)"
  }
 },
 "nbformat": 5,
 "nbformat_minor": 9
}
