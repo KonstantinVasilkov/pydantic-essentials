{
 "cells": [
  {
   "metadata": {
    "ExecuteTime": {
     "end_time": "2024-12-07T20:04:38.039444Z",
     "start_time": "2024-12-07T20:04:37.965551Z"
    }
   },
   "cell_type": "code",
   "source": [
    "import requests\n",
    "from pydantic import BaseModel, ConfigDict, Field, field_validator, ValidationError, IPvAnyAddress"
   ],
   "id": "ba0a5fa771b9105e",
   "outputs": [],
   "execution_count": 1
  },
  {
   "metadata": {
    "ExecuteTime": {
     "end_time": "2024-12-07T20:09:16.792745Z",
     "start_time": "2024-12-07T20:09:16.744898Z"
    }
   },
   "cell_type": "code",
   "source": [
    "class IPGeo(BaseModel):\n",
    "    model_config = ConfigDict(extra=\"ignore\")\n",
    "\n",
    "    ip: IPvAnyAddress\n",
    "    country: str | None = None\n",
    "    country_code: str | None = Field(default=None, min_length=2, max_length=2)\n",
    "    country_code3: str | None = Field(default=None, min_length=3, max_length=3)\n",
    "    city: str | None = None\n",
    "    region: str | None = None\n",
    "    timezone: str | None = None\n",
    "    organization_name: str | None = None\n",
    "\n",
    "    @field_validator(\"organization_name\", mode=\"after\")\n",
    "    @classmethod\n",
    "    def set_unknown_to_none(cls, v: str) -> str:\n",
    "        if v.casefold() == \"unknown\":\n",
    "            return None\n",
    "        return v\n",
    "\n"
   ],
   "id": "be9f5b53be71cd1e",
   "outputs": [],
   "execution_count": 2
  },
  {
   "metadata": {
    "ExecuteTime": {
     "end_time": "2024-12-07T20:18:30.831765Z",
     "start_time": "2024-12-07T20:18:30.826219Z"
    }
   },
   "cell_type": "code",
   "source": [
    "class MyIPResponse(BaseModel):\n",
    "    ip: IPvAnyAddress\n",
    "    country: str | None = None\n",
    "    cc: str | None = None"
   ],
   "id": "2ee3a7e93652f465",
   "outputs": [],
   "execution_count": 8
  },
  {
   "metadata": {
    "ExecuteTime": {
     "end_time": "2024-12-07T20:18:48.636025Z",
     "start_time": "2024-12-07T20:18:48.633052Z"
    }
   },
   "cell_type": "code",
   "source": [
    "def get_my_api():\n",
    "    my_api_response = requests.get(\"https://api.myip.com/\")\n",
    "    return MyIPResponse.model_validate(my_api_response.json())"
   ],
   "id": "17c05e3cb0ffd546",
   "outputs": [],
   "execution_count": 12
  },
  {
   "metadata": {
    "ExecuteTime": {
     "end_time": "2024-12-07T20:18:49.611844Z",
     "start_time": "2024-12-07T20:18:49.609075Z"
    }
   },
   "cell_type": "code",
   "source": "url_query = \"https://get.geojs.io/v1/ip/geo/{ip_address}.json\"",
   "id": "17a7db2fce154128",
   "outputs": [],
   "execution_count": 13
  },
  {
   "metadata": {
    "ExecuteTime": {
     "end_time": "2024-12-07T20:18:50.713193Z",
     "start_time": "2024-12-07T20:18:50.407386Z"
    }
   },
   "cell_type": "code",
   "source": "url = url_query.format(ip_address=get_my_api().ip)",
   "id": "48481b62654df120",
   "outputs": [],
   "execution_count": 14
  },
  {
   "metadata": {
    "ExecuteTime": {
     "end_time": "2024-12-07T20:18:53.547398Z",
     "start_time": "2024-12-07T20:18:52.941544Z"
    }
   },
   "cell_type": "code",
   "source": [
    "response = requests.get(url)\n",
    "response.raise_for_status()\n",
    "\n",
    "IPGeo.model_validate(response.json())"
   ],
   "id": "64da5d0d9cf483d3",
   "outputs": [
    {
     "data": {
      "text/plain": [
       "IPGeo(ip=IPv4Address('188.169.72.113'), country='Georgia', country_code='GE', country_code3='GEO', city='Tbilisi', region='Tbilisi', timezone='Asia/Tbilisi', organization_name='JSC Silknet')"
      ]
     },
     "execution_count": 15,
     "metadata": {},
     "output_type": "execute_result"
    }
   ],
   "execution_count": 15
  }
 ],
 "metadata": {
  "kernelspec": {
   "name": "python3",
   "language": "python",
   "display_name": "Python 3 (ipykernel)"
  }
 },
 "nbformat": 5,
 "nbformat_minor": 9
}
