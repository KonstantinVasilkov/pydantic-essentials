{
 "cells": [
  {
   "metadata": {
    "ExecuteTime": {
     "end_time": "2024-12-07T22:06:14.852874Z",
     "start_time": "2024-12-07T22:06:14.849646Z"
    }
   },
   "cell_type": "code",
   "source": "from pathlib import Path",
   "id": "5047dd96d5bd47ca",
   "outputs": [],
   "execution_count": 4
  },
  {
   "metadata": {
    "ExecuteTime": {
     "end_time": "2024-12-07T22:07:22.765667Z",
     "start_time": "2024-12-07T22:07:22.751866Z"
    }
   },
   "cell_type": "code",
   "source": "__file__",
   "id": "7a4fa70799b54113",
   "outputs": [
    {
     "ename": "NameError",
     "evalue": "name '__file__' is not defined",
     "output_type": "error",
     "traceback": [
      "\u001B[0;31m---------------------------------------------------------------------------\u001B[0m",
      "\u001B[0;31mNameError\u001B[0m                                 Traceback (most recent call last)",
      "Cell \u001B[0;32mIn[11], line 1\u001B[0m\n\u001B[0;32m----> 1\u001B[0m \u001B[38;5;18;43m__file__\u001B[39;49m\n",
      "\u001B[0;31mNameError\u001B[0m: name '__file__' is not defined"
     ]
    }
   ],
   "execution_count": 11
  },
  {
   "metadata": {
    "ExecuteTime": {
     "end_time": "2024-12-07T22:07:58.038188Z",
     "start_time": "2024-12-07T22:07:58.034661Z"
    }
   },
   "cell_type": "code",
   "source": "root_path = Path.cwd().parent",
   "id": "697c5ac785985f9e",
   "outputs": [],
   "execution_count": 17
  },
  {
   "metadata": {
    "ExecuteTime": {
     "end_time": "2024-12-07T22:07:59.045172Z",
     "start_time": "2024-12-07T22:07:59.041694Z"
    }
   },
   "cell_type": "code",
   "source": "root_path",
   "id": "80f82b0011b0758a",
   "outputs": [
    {
     "data": {
      "text/plain": [
       "PosixPath('/Users/konstantinvasilkov/Dev/pydantic-essentials/12 - Applications')"
      ]
     },
     "execution_count": 18,
     "metadata": {},
     "output_type": "execute_result"
    }
   ],
   "execution_count": 18
  },
  {
   "metadata": {
    "ExecuteTime": {
     "end_time": "2024-12-07T22:08:23.917045Z",
     "start_time": "2024-12-07T22:08:23.912526Z"
    }
   },
   "cell_type": "code",
   "source": [
    "import csv\n",
    "\n",
    "with open(root_path / \"pop_estimates.csv\") as f:\n",
    "    data = csv.reader(f)\n",
    "    for _ in range (5):\n",
    "        print(next(data))"
   ],
   "id": "25bf71dbf676042c",
   "outputs": [
    {
     "name": "stdout",
     "output_type": "stream",
     "text": [
      "['Geographic Area', 'July 1, 2001 Estimate', 'July 1, 2000 Estimate', 'April 1, 2000 Population Estimates Base']\n",
      "['United States', ' 284,796,887 ', ' 282,124,631 ', ' 281,421,906 ']\n",
      "['Alabama', ' 4,464,356 ', ' 4,451,493 ', ' 4,447,100 ']\n",
      "['Alaska', ' 634,892 ', ' 627,601 ', ' 626,932 ']\n",
      "['Arizona', ' 5,307,331 ', ' 5,165,274 ', ' 5,130,632 ']\n"
     ]
    }
   ],
   "execution_count": 20
  },
  {
   "metadata": {
    "ExecuteTime": {
     "end_time": "2024-12-07T22:09:46.897507Z",
     "start_time": "2024-12-07T22:09:46.894459Z"
    }
   },
   "cell_type": "code",
   "source": [
    "def name_int(value: str):\n",
    "    try:\n",
    "        return int(value.strip().replace(',', ''))\n",
    "    except Exception as e:\n",
    "        raise ValueError(\"data cannot be converted to int: {}\".format(e))"
   ],
   "id": "7b164369de2e1d7",
   "outputs": [],
   "execution_count": 21
  },
  {
   "metadata": {
    "ExecuteTime": {
     "end_time": "2024-12-07T22:10:59.605671Z",
     "start_time": "2024-12-07T22:10:59.567717Z"
    }
   },
   "cell_type": "code",
   "source": [
    "from typing import Annotated\n",
    "\n",
    "from pydantic import BeforeValidator\n",
    "\n",
    "FunkyInt = Annotated[int, BeforeValidator(name_int)]"
   ],
   "id": "cb8ea58361e875a7",
   "outputs": [],
   "execution_count": 22
  },
  {
   "metadata": {
    "ExecuteTime": {
     "end_time": "2024-12-07T22:12:11.470995Z",
     "start_time": "2024-12-07T22:12:11.404824Z"
    }
   },
   "cell_type": "code",
   "source": [
    "from pydantic import BaseModel\n",
    "\n",
    "class Estimate(BaseModel):\n",
    "    area: str\n",
    "    july_1_2001: FunkyInt\n",
    "    july_2_2000: FunkyInt\n",
    "    april_1_2000: FunkyInt"
   ],
   "id": "2fcf568638b7e468",
   "outputs": [],
   "execution_count": 23
  },
  {
   "metadata": {
    "ExecuteTime": {
     "end_time": "2024-12-07T22:13:29.312971Z",
     "start_time": "2024-12-07T22:13:29.307663Z"
    }
   },
   "cell_type": "code",
   "source": [
    "with open(root_path / \"pop_estimates.csv\") as f:\n",
    "    data = csv.DictReader(f, fieldnames=[\"area\", \"july_1_2001\", \"july_2_2000\", \"april_1_2000\"])\n",
    "    for _ in range(5):\n",
    "        print(next(data))"
   ],
   "id": "d6850775916ed41c",
   "outputs": [
    {
     "name": "stdout",
     "output_type": "stream",
     "text": [
      "{'area': 'Geographic Area', 'july_1_2001': 'July 1, 2001 Estimate', 'july_2_2000': 'July 1, 2000 Estimate', 'april_1_2000': 'April 1, 2000 Population Estimates Base'}\n",
      "{'area': 'United States', 'july_1_2001': ' 284,796,887 ', 'july_2_2000': ' 282,124,631 ', 'april_1_2000': ' 281,421,906 '}\n",
      "{'area': 'Alabama', 'july_1_2001': ' 4,464,356 ', 'july_2_2000': ' 4,451,493 ', 'april_1_2000': ' 4,447,100 '}\n",
      "{'area': 'Alaska', 'july_1_2001': ' 634,892 ', 'july_2_2000': ' 627,601 ', 'april_1_2000': ' 626,932 '}\n",
      "{'area': 'Arizona', 'july_1_2001': ' 5,307,331 ', 'july_2_2000': ' 5,165,274 ', 'april_1_2000': ' 5,130,632 '}\n"
     ]
    }
   ],
   "execution_count": 24
  },
  {
   "metadata": {
    "ExecuteTime": {
     "end_time": "2024-12-07T22:15:21.770816Z",
     "start_time": "2024-12-07T22:15:21.767641Z"
    }
   },
   "cell_type": "code",
   "source": [
    "def estimates():\n",
    "    with open(root_path / \"pop_estimates.csv\") as f:\n",
    "        data = csv.DictReader(f, fieldnames=[\"area\", \"july_1_2001\", \"july_2_2000\", \"april_1_2000\"])\n",
    "        next(data)\n",
    "        for row in data:\n",
    "            yield Estimate.model_validate(row)\n"
   ],
   "id": "2506659cbf8c42f9",
   "outputs": [],
   "execution_count": 25
  },
  {
   "metadata": {
    "ExecuteTime": {
     "end_time": "2024-12-07T22:15:33.045491Z",
     "start_time": "2024-12-07T22:15:33.040570Z"
    }
   },
   "cell_type": "code",
   "source": [
    "for estimate in estimates():\n",
    "    print(estimate)"
   ],
   "id": "702fe9ae5fd940c5",
   "outputs": [
    {
     "name": "stdout",
     "output_type": "stream",
     "text": [
      "area='United States' july_1_2001=284796887 july_2_2000=282124631 april_1_2000=281421906\n",
      "area='Alabama' july_1_2001=4464356 july_2_2000=4451493 april_1_2000=4447100\n",
      "area='Alaska' july_1_2001=634892 july_2_2000=627601 april_1_2000=626932\n",
      "area='Arizona' july_1_2001=5307331 july_2_2000=5165274 april_1_2000=5130632\n",
      "area='Arkansas' july_1_2001=2692090 july_2_2000=2678030 april_1_2000=2673400\n",
      "area='California' july_1_2001=34501130 july_2_2000=34000446 april_1_2000=33871648\n",
      "area='Colorado' july_1_2001=4417714 july_2_2000=4323410 april_1_2000=4301261\n",
      "area='Connecticut' july_1_2001=3425074 july_2_2000=3410079 april_1_2000=3405565\n",
      "area='Delaware' july_1_2001=796165 july_2_2000=786234 april_1_2000=783600\n",
      "area='District of Columbia' july_1_2001=571822 july_2_2000=571066 april_1_2000=572059\n",
      "area='Florida' july_1_2001=16396515 july_2_2000=16054328 april_1_2000=15982378\n",
      "area='Georgia' july_1_2001=8383915 july_2_2000=8229823 april_1_2000=8186453\n",
      "area='Hawaii' july_1_2001=1224398 july_2_2000=1212281 april_1_2000=1211537\n",
      "area='Idaho' july_1_2001=1321006 july_2_2000=1299258 april_1_2000=1293953\n",
      "area='Illinois' july_1_2001=12482301 july_2_2000=12435970 april_1_2000=12419293\n",
      "area='Indiana' july_1_2001=6114745 july_2_2000=6089950 april_1_2000=6080485\n",
      "area='Iowa' july_1_2001=2923179 july_2_2000=2927509 april_1_2000=2926324\n",
      "area='Kansas' july_1_2001=2694641 july_2_2000=2691750 april_1_2000=2688418\n",
      "area='Kentucky' july_1_2001=4065556 july_2_2000=4047424 april_1_2000=4041769\n",
      "area='Louisiana' july_1_2001=4465430 july_2_2000=4469970 april_1_2000=4468976\n",
      "area='Maine' july_1_2001=1286670 july_2_2000=1276961 april_1_2000=1274923\n",
      "area='Maryland' july_1_2001=5375156 july_2_2000=5310908 april_1_2000=5296486\n",
      "area='Massachusetts' july_1_2001=6379304 july_2_2000=6357072 april_1_2000=6349097\n",
      "area='Michigan' july_1_2001=9990817 july_2_2000=9952006 april_1_2000=9938444\n",
      "area='Minnesota' july_1_2001=4972294 july_2_2000=4931093 april_1_2000=4919479\n",
      "area='Mississippi' july_1_2001=2858029 july_2_2000=2849100 april_1_2000=2844658\n",
      "area='Missouri' july_1_2001=5629707 july_2_2000=5603553 april_1_2000=5595211\n",
      "area='Montana' july_1_2001=904433 july_2_2000=903157 april_1_2000=902195\n",
      "area='Nebraska' july_1_2001=1713235 july_2_2000=1712577 april_1_2000=1711263\n",
      "area='Nevada' july_1_2001=2106074 july_2_2000=2018723 april_1_2000=1998257\n",
      "area='New Hampshire' july_1_2001=1259181 july_2_2000=1239881 april_1_2000=1235786\n",
      "area='New Jersey' july_1_2001=8484431 july_2_2000=8429007 april_1_2000=8414350\n",
      "area='New Mexico' july_1_2001=1829146 july_2_2000=1821282 april_1_2000=1819046\n",
      "area='New York' july_1_2001=19011378 july_2_2000=18989332 april_1_2000=18976457\n",
      "area='North Carolina' july_1_2001=8186268 july_2_2000=8077367 april_1_2000=8049313\n",
      "area='North Dakota' july_1_2001=634448 july_2_2000=640919 april_1_2000=642200\n",
      "area='Ohio' july_1_2001=11373541 july_2_2000=11359955 april_1_2000=11353140\n",
      "area='Oklahoma' july_1_2001=3460097 july_2_2000=3453250 april_1_2000=3450654\n",
      "area='Oregon' july_1_2001=3472867 july_2_2000=3429293 april_1_2000=3421399\n",
      "area='Pennsylvania' july_1_2001=12287150 july_2_2000=12282591 april_1_2000=12281054\n",
      "area='Rhode Island' july_1_2001=1058920 july_2_2000=1050236 april_1_2000=1048319\n",
      "area='South Carolina' july_1_2001=4063011 july_2_2000=4023438 april_1_2000=4012012\n",
      "area='South Dakota' july_1_2001=756600 july_2_2000=755509 april_1_2000=754844\n",
      "area='Tennessee' july_1_2001=5740021 july_2_2000=5702027 april_1_2000=5689283\n",
      "area='Texas' july_1_2001=21325018 july_2_2000=20946503 april_1_2000=20851820\n",
      "area='Utah' july_1_2001=2269789 july_2_2000=2241555 april_1_2000=2233169\n",
      "area='Vermont' july_1_2001=613090 july_2_2000=609709 april_1_2000=608827\n",
      "area='Virginia' july_1_2001=7187734 july_2_2000=7104016 april_1_2000=7078515\n",
      "area='Washington' july_1_2001=5987973 july_2_2000=5908372 april_1_2000=5894121\n",
      "area='West Virginia' july_1_2001=1801916 july_2_2000=1807099 april_1_2000=1808344\n",
      "area='Wisconsin' july_1_2001=5401906 july_2_2000=5372243 april_1_2000=5363675\n",
      "area='Wyoming' july_1_2001=494423 july_2_2000=494001 april_1_2000=493782\n"
     ]
    }
   ],
   "execution_count": 26
  },
  {
   "metadata": {
    "ExecuteTime": {
     "end_time": "2024-12-07T22:16:01.279510Z",
     "start_time": "2024-12-07T22:16:01.275393Z"
    }
   },
   "cell_type": "code",
   "source": "data = list(estimates())",
   "id": "98e8067689a43d76",
   "outputs": [],
   "execution_count": 27
  },
  {
   "metadata": {
    "ExecuteTime": {
     "end_time": "2024-12-07T22:16:05.867374Z",
     "start_time": "2024-12-07T22:16:05.862221Z"
    }
   },
   "cell_type": "code",
   "source": "data",
   "id": "1cbed1c63640d041",
   "outputs": [
    {
     "data": {
      "text/plain": [
       "[Estimate(area='United States', july_1_2001=284796887, july_2_2000=282124631, april_1_2000=281421906),\n",
       " Estimate(area='Alabama', july_1_2001=4464356, july_2_2000=4451493, april_1_2000=4447100),\n",
       " Estimate(area='Alaska', july_1_2001=634892, july_2_2000=627601, april_1_2000=626932),\n",
       " Estimate(area='Arizona', july_1_2001=5307331, july_2_2000=5165274, april_1_2000=5130632),\n",
       " Estimate(area='Arkansas', july_1_2001=2692090, july_2_2000=2678030, april_1_2000=2673400),\n",
       " Estimate(area='California', july_1_2001=34501130, july_2_2000=34000446, april_1_2000=33871648),\n",
       " Estimate(area='Colorado', july_1_2001=4417714, july_2_2000=4323410, april_1_2000=4301261),\n",
       " Estimate(area='Connecticut', july_1_2001=3425074, july_2_2000=3410079, april_1_2000=3405565),\n",
       " Estimate(area='Delaware', july_1_2001=796165, july_2_2000=786234, april_1_2000=783600),\n",
       " Estimate(area='District of Columbia', july_1_2001=571822, july_2_2000=571066, april_1_2000=572059),\n",
       " Estimate(area='Florida', july_1_2001=16396515, july_2_2000=16054328, april_1_2000=15982378),\n",
       " Estimate(area='Georgia', july_1_2001=8383915, july_2_2000=8229823, april_1_2000=8186453),\n",
       " Estimate(area='Hawaii', july_1_2001=1224398, july_2_2000=1212281, april_1_2000=1211537),\n",
       " Estimate(area='Idaho', july_1_2001=1321006, july_2_2000=1299258, april_1_2000=1293953),\n",
       " Estimate(area='Illinois', july_1_2001=12482301, july_2_2000=12435970, april_1_2000=12419293),\n",
       " Estimate(area='Indiana', july_1_2001=6114745, july_2_2000=6089950, april_1_2000=6080485),\n",
       " Estimate(area='Iowa', july_1_2001=2923179, july_2_2000=2927509, april_1_2000=2926324),\n",
       " Estimate(area='Kansas', july_1_2001=2694641, july_2_2000=2691750, april_1_2000=2688418),\n",
       " Estimate(area='Kentucky', july_1_2001=4065556, july_2_2000=4047424, april_1_2000=4041769),\n",
       " Estimate(area='Louisiana', july_1_2001=4465430, july_2_2000=4469970, april_1_2000=4468976),\n",
       " Estimate(area='Maine', july_1_2001=1286670, july_2_2000=1276961, april_1_2000=1274923),\n",
       " Estimate(area='Maryland', july_1_2001=5375156, july_2_2000=5310908, april_1_2000=5296486),\n",
       " Estimate(area='Massachusetts', july_1_2001=6379304, july_2_2000=6357072, april_1_2000=6349097),\n",
       " Estimate(area='Michigan', july_1_2001=9990817, july_2_2000=9952006, april_1_2000=9938444),\n",
       " Estimate(area='Minnesota', july_1_2001=4972294, july_2_2000=4931093, april_1_2000=4919479),\n",
       " Estimate(area='Mississippi', july_1_2001=2858029, july_2_2000=2849100, april_1_2000=2844658),\n",
       " Estimate(area='Missouri', july_1_2001=5629707, july_2_2000=5603553, april_1_2000=5595211),\n",
       " Estimate(area='Montana', july_1_2001=904433, july_2_2000=903157, april_1_2000=902195),\n",
       " Estimate(area='Nebraska', july_1_2001=1713235, july_2_2000=1712577, april_1_2000=1711263),\n",
       " Estimate(area='Nevada', july_1_2001=2106074, july_2_2000=2018723, april_1_2000=1998257),\n",
       " Estimate(area='New Hampshire', july_1_2001=1259181, july_2_2000=1239881, april_1_2000=1235786),\n",
       " Estimate(area='New Jersey', july_1_2001=8484431, july_2_2000=8429007, april_1_2000=8414350),\n",
       " Estimate(area='New Mexico', july_1_2001=1829146, july_2_2000=1821282, april_1_2000=1819046),\n",
       " Estimate(area='New York', july_1_2001=19011378, july_2_2000=18989332, april_1_2000=18976457),\n",
       " Estimate(area='North Carolina', july_1_2001=8186268, july_2_2000=8077367, april_1_2000=8049313),\n",
       " Estimate(area='North Dakota', july_1_2001=634448, july_2_2000=640919, april_1_2000=642200),\n",
       " Estimate(area='Ohio', july_1_2001=11373541, july_2_2000=11359955, april_1_2000=11353140),\n",
       " Estimate(area='Oklahoma', july_1_2001=3460097, july_2_2000=3453250, april_1_2000=3450654),\n",
       " Estimate(area='Oregon', july_1_2001=3472867, july_2_2000=3429293, april_1_2000=3421399),\n",
       " Estimate(area='Pennsylvania', july_1_2001=12287150, july_2_2000=12282591, april_1_2000=12281054),\n",
       " Estimate(area='Rhode Island', july_1_2001=1058920, july_2_2000=1050236, april_1_2000=1048319),\n",
       " Estimate(area='South Carolina', july_1_2001=4063011, july_2_2000=4023438, april_1_2000=4012012),\n",
       " Estimate(area='South Dakota', july_1_2001=756600, july_2_2000=755509, april_1_2000=754844),\n",
       " Estimate(area='Tennessee', july_1_2001=5740021, july_2_2000=5702027, april_1_2000=5689283),\n",
       " Estimate(area='Texas', july_1_2001=21325018, july_2_2000=20946503, april_1_2000=20851820),\n",
       " Estimate(area='Utah', july_1_2001=2269789, july_2_2000=2241555, april_1_2000=2233169),\n",
       " Estimate(area='Vermont', july_1_2001=613090, july_2_2000=609709, april_1_2000=608827),\n",
       " Estimate(area='Virginia', july_1_2001=7187734, july_2_2000=7104016, april_1_2000=7078515),\n",
       " Estimate(area='Washington', july_1_2001=5987973, july_2_2000=5908372, april_1_2000=5894121),\n",
       " Estimate(area='West Virginia', july_1_2001=1801916, july_2_2000=1807099, april_1_2000=1808344),\n",
       " Estimate(area='Wisconsin', july_1_2001=5401906, july_2_2000=5372243, april_1_2000=5363675),\n",
       " Estimate(area='Wyoming', july_1_2001=494423, july_2_2000=494001, april_1_2000=493782)]"
      ]
     },
     "execution_count": 28,
     "metadata": {},
     "output_type": "execute_result"
    }
   ],
   "execution_count": 28
  },
  {
   "metadata": {
    "ExecuteTime": {
     "end_time": "2024-12-07T22:16:33.452048Z",
     "start_time": "2024-12-07T22:16:33.449456Z"
    }
   },
   "cell_type": "code",
   "source": "data[0].area, data[0].july_1_2001",
   "id": "bc3628348764784",
   "outputs": [
    {
     "data": {
      "text/plain": [
       "('United States', 284796887)"
      ]
     },
     "execution_count": 29,
     "metadata": {},
     "output_type": "execute_result"
    }
   ],
   "execution_count": 29
  }
 ],
 "metadata": {
  "kernelspec": {
   "name": "python3",
   "language": "python",
   "display_name": "Python 3 (ipykernel)"
  }
 },
 "nbformat": 5,
 "nbformat_minor": 9
}
