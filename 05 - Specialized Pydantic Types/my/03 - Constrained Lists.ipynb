{
 "cells": [
  {
   "metadata": {
    "ExecuteTime": {
     "end_time": "2024-11-16T15:38:47.445384Z",
     "start_time": "2024-11-16T15:38:47.441508Z"
    }
   },
   "cell_type": "code",
   "source": "from pydantic import BaseModel, ValidationError, PositiveInt, conlist",
   "id": "d2d6aab7e3a3c1b1",
   "outputs": [],
   "execution_count": 5
  },
  {
   "metadata": {
    "ExecuteTime": {
     "end_time": "2024-11-16T15:37:33.105189Z",
     "start_time": "2024-11-16T15:37:33.047968Z"
    }
   },
   "cell_type": "code",
   "source": [
    "class Sphere(BaseModel):\n",
    "    center: tuple[int, int] | tuple[int, int, int] = (0, 0)\n",
    "    radius: PositiveInt = 1"
   ],
   "id": "115e9c0294cdc99c",
   "outputs": [],
   "execution_count": 3
  },
  {
   "metadata": {
    "ExecuteTime": {
     "end_time": "2024-11-16T15:38:28.323406Z",
     "start_time": "2024-11-16T15:38:28.319643Z"
    }
   },
   "cell_type": "code",
   "source": [
    "try:\n",
    "    Sphere(center=(1, 1, 1, 1))\n",
    "except ValidationError as e:\n",
    "    print(e)"
   ],
   "id": "7bddc4f6db2c65e3",
   "outputs": [
    {
     "name": "stdout",
     "output_type": "stream",
     "text": [
      "2 validation errors for Sphere\n",
      "center.tuple[int, int]\n",
      "  Tuple should have at most 2 items after validation, not 4 [type=too_long, input_value=(1, 1, 1, 1), input_type=tuple]\n",
      "    For further information visit https://errors.pydantic.dev/2.9/v/too_long\n",
      "center.tuple[int, int, int]\n",
      "  Tuple should have at most 3 items after validation, not 4 [type=too_long, input_value=(1, 1, 1, 1), input_type=tuple]\n",
      "    For further information visit https://errors.pydantic.dev/2.9/v/too_long\n"
     ]
    }
   ],
   "execution_count": 4
  },
  {
   "metadata": {
    "ExecuteTime": {
     "end_time": "2024-11-16T15:39:18.651946Z",
     "start_time": "2024-11-16T15:39:18.644486Z"
    }
   },
   "cell_type": "code",
   "source": [
    "class Sphere(BaseModel):\n",
    "    center: conlist(int, min_length=2, max_length=3) = (0, 0)\n",
    "    radius: PositiveInt = 1"
   ],
   "id": "f4671fe6e811d303",
   "outputs": [],
   "execution_count": 6
  },
  {
   "metadata": {
    "ExecuteTime": {
     "end_time": "2024-11-16T15:39:24.251966Z",
     "start_time": "2024-11-16T15:39:24.245866Z"
    }
   },
   "cell_type": "code",
   "source": [
    "try:\n",
    "    Sphere(center=(1, 1, 1, 1))\n",
    "except ValidationError as e:\n",
    "    print(e)"
   ],
   "id": "8e908b9cce84652d",
   "outputs": [
    {
     "name": "stdout",
     "output_type": "stream",
     "text": [
      "1 validation error for Sphere\n",
      "center\n",
      "  List should have at most 3 items after validation, not 4 [type=too_long, input_value=(1, 1, 1, 1), input_type=tuple]\n",
      "    For further information visit https://errors.pydantic.dev/2.9/v/too_long\n"
     ]
    }
   ],
   "execution_count": 7
  }
 ],
 "metadata": {
  "kernelspec": {
   "name": "python3",
   "language": "python",
   "display_name": "Python 3 (ipykernel)"
  }
 },
 "nbformat": 5,
 "nbformat_minor": 9
}
