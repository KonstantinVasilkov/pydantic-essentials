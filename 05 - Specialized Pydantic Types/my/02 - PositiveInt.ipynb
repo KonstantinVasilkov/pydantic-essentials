{
 "cells": [
  {
   "metadata": {
    "ExecuteTime": {
     "end_time": "2024-11-16T15:32:28.864968Z",
     "start_time": "2024-11-16T15:32:28.796899Z"
    }
   },
   "cell_type": "code",
   "source": "from pydantic import BaseModel, PositiveInt, ValidationError",
   "id": "d0b1cd3f1ab0962d",
   "outputs": [],
   "execution_count": 1
  },
  {
   "metadata": {
    "ExecuteTime": {
     "end_time": "2024-11-16T15:33:09.547945Z",
     "start_time": "2024-11-16T15:33:09.496034Z"
    }
   },
   "cell_type": "code",
   "source": [
    "class Circle(BaseModel):\n",
    "    center: tuple[int, int] = (0, 0)\n",
    "    radius: PositiveInt = 1"
   ],
   "id": "761972e8195b7056",
   "outputs": [],
   "execution_count": 2
  },
  {
   "metadata": {
    "ExecuteTime": {
     "end_time": "2024-11-16T15:33:19.951957Z",
     "start_time": "2024-11-16T15:33:19.948496Z"
    }
   },
   "cell_type": "code",
   "source": "Circle()",
   "id": "2819e3ef54969dcf",
   "outputs": [
    {
     "data": {
      "text/plain": [
       "Circle(center=(0, 0), radius=1)"
      ]
     },
     "execution_count": 4,
     "metadata": {},
     "output_type": "execute_result"
    }
   ],
   "execution_count": 4
  },
  {
   "metadata": {
    "ExecuteTime": {
     "end_time": "2024-11-16T15:33:33.322548Z",
     "start_time": "2024-11-16T15:33:33.309245Z"
    }
   },
   "cell_type": "code",
   "source": "Circle(radius=1)",
   "id": "b9af07e68c26ef5e",
   "outputs": [
    {
     "data": {
      "text/plain": [
       "Circle(center=(0, 0), radius=1)"
      ]
     },
     "execution_count": 5,
     "metadata": {},
     "output_type": "execute_result"
    }
   ],
   "execution_count": 5
  },
  {
   "metadata": {
    "ExecuteTime": {
     "end_time": "2024-11-16T15:33:43.486012Z",
     "start_time": "2024-11-16T15:33:43.481493Z"
    }
   },
   "cell_type": "code",
   "source": "Circle(radius=2, center=(0, 0))",
   "id": "b4366d0de8355de2",
   "outputs": [
    {
     "data": {
      "text/plain": [
       "Circle(center=(0, 0), radius=2)"
      ]
     },
     "execution_count": 6,
     "metadata": {},
     "output_type": "execute_result"
    }
   ],
   "execution_count": 6
  },
  {
   "metadata": {
    "ExecuteTime": {
     "end_time": "2024-11-16T15:34:14.919885Z",
     "start_time": "2024-11-16T15:34:14.913789Z"
    }
   },
   "cell_type": "code",
   "source": [
    "try:\n",
    "    Circle(radius=0, center=(0.5, 0.5))\n",
    "except ValidationError as e:\n",
    "    print(e)"
   ],
   "id": "3d8c662e8c5cceec",
   "outputs": [
    {
     "name": "stdout",
     "output_type": "stream",
     "text": [
      "3 validation errors for Circle\n",
      "center.0\n",
      "  Input should be a valid integer, got a number with a fractional part [type=int_from_float, input_value=0.5, input_type=float]\n",
      "    For further information visit https://errors.pydantic.dev/2.9/v/int_from_float\n",
      "center.1\n",
      "  Input should be a valid integer, got a number with a fractional part [type=int_from_float, input_value=0.5, input_type=float]\n",
      "    For further information visit https://errors.pydantic.dev/2.9/v/int_from_float\n",
      "radius\n",
      "  Input should be greater than 0 [type=greater_than, input_value=0, input_type=int]\n",
      "    For further information visit https://errors.pydantic.dev/2.9/v/greater_than\n"
     ]
    }
   ],
   "execution_count": 7
  },
  {
   "metadata": {
    "ExecuteTime": {
     "end_time": "2024-11-16T15:34:53.123960Z",
     "start_time": "2024-11-16T15:34:53.120444Z"
    }
   },
   "cell_type": "code",
   "source": [
    "try:\n",
    "    Circle(radius=0, center=(-4, 0.5))\n",
    "except ValidationError as e:\n",
    "    print(e)"
   ],
   "id": "a6f059f074895d44",
   "outputs": [
    {
     "name": "stdout",
     "output_type": "stream",
     "text": [
      "2 validation errors for Circle\n",
      "center.1\n",
      "  Input should be a valid integer, got a number with a fractional part [type=int_from_float, input_value=0.5, input_type=float]\n",
      "    For further information visit https://errors.pydantic.dev/2.9/v/int_from_float\n",
      "radius\n",
      "  Input should be greater than 0 [type=greater_than, input_value=0, input_type=int]\n",
      "    For further information visit https://errors.pydantic.dev/2.9/v/greater_than\n"
     ]
    }
   ],
   "execution_count": 8
  }
 ],
 "metadata": {
  "kernelspec": {
   "name": "python3",
   "language": "python",
   "display_name": "Python 3 (ipykernel)"
  }
 },
 "nbformat": 5,
 "nbformat_minor": 9
}
