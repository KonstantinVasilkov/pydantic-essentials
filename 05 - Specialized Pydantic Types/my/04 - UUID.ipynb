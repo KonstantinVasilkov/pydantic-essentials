{
 "cells": [
  {
   "metadata": {
    "ExecuteTime": {
     "end_time": "2024-11-16T15:42:31.612620Z",
     "start_time": "2024-11-16T15:42:31.610032Z"
    }
   },
   "cell_type": "code",
   "source": "from uuid import uuid4",
   "id": "db6776088d675e81",
   "outputs": [],
   "execution_count": 1
  },
  {
   "metadata": {
    "ExecuteTime": {
     "end_time": "2024-11-16T15:42:43.864983Z",
     "start_time": "2024-11-16T15:42:43.860004Z"
    }
   },
   "cell_type": "code",
   "source": "uuid4()",
   "id": "d09e1ba349002a20",
   "outputs": [
    {
     "data": {
      "text/plain": [
       "UUID('9acac410-df98-43d9-9704-24c176737d4d')"
      ]
     },
     "execution_count": 2,
     "metadata": {},
     "output_type": "execute_result"
    }
   ],
   "execution_count": 2
  },
  {
   "metadata": {
    "ExecuteTime": {
     "end_time": "2024-11-16T15:43:06.327009Z",
     "start_time": "2024-11-16T15:43:06.267815Z"
    }
   },
   "cell_type": "code",
   "source": "from pydantic import UUID4, BaseModel, Field, ValidationError",
   "id": "111b7583fb2955d4",
   "outputs": [],
   "execution_count": 3
  },
  {
   "metadata": {
    "ExecuteTime": {
     "end_time": "2024-11-16T15:45:05.671724Z",
     "start_time": "2024-11-16T15:45:05.666950Z"
    }
   },
   "cell_type": "code",
   "source": [
    "class Person(BaseModel):\n",
    "    id: UUID4"
   ],
   "id": "fb98508e87054d2e",
   "outputs": [],
   "execution_count": 10
  },
  {
   "metadata": {
    "ExecuteTime": {
     "end_time": "2024-11-16T15:44:26.732091Z",
     "start_time": "2024-11-16T15:44:26.728511Z"
    }
   },
   "cell_type": "code",
   "source": [
    "p = Person(id=uuid4())\n",
    "p"
   ],
   "id": "11f5cee99c5b0180",
   "outputs": [
    {
     "data": {
      "text/plain": [
       "Person(id=UUID('25182ddb-f59b-4ed2-8969-05166488127c'))"
      ]
     },
     "execution_count": 6,
     "metadata": {},
     "output_type": "execute_result"
    }
   ],
   "execution_count": 6
  },
  {
   "metadata": {
    "ExecuteTime": {
     "end_time": "2024-11-16T15:44:33.933182Z",
     "start_time": "2024-11-16T15:44:33.926335Z"
    }
   },
   "cell_type": "code",
   "source": "p.model_dump_json()",
   "id": "e22fb764eacb178e",
   "outputs": [
    {
     "data": {
      "text/plain": [
       "'{\"id\":\"25182ddb-f59b-4ed2-8969-05166488127c\"}'"
      ]
     },
     "execution_count": 7,
     "metadata": {},
     "output_type": "execute_result"
    }
   ],
   "execution_count": 7
  },
  {
   "metadata": {
    "ExecuteTime": {
     "end_time": "2024-11-16T15:44:40.683282Z",
     "start_time": "2024-11-16T15:44:40.677877Z"
    }
   },
   "cell_type": "code",
   "source": "p.model_dump()",
   "id": "835545d6fa781182",
   "outputs": [
    {
     "data": {
      "text/plain": [
       "{'id': UUID('25182ddb-f59b-4ed2-8969-05166488127c')}"
      ]
     },
     "execution_count": 8,
     "metadata": {},
     "output_type": "execute_result"
    }
   ],
   "execution_count": 8
  },
  {
   "metadata": {
    "ExecuteTime": {
     "end_time": "2024-11-16T15:45:13.415530Z",
     "start_time": "2024-11-16T15:45:13.409617Z"
    }
   },
   "cell_type": "code",
   "source": [
    "class Person(BaseModel):\n",
    "    id: UUID4 = uuid4()"
   ],
   "id": "b8bd9e5f2126defe",
   "outputs": [],
   "execution_count": 11
  },
  {
   "metadata": {
    "ExecuteTime": {
     "end_time": "2024-11-16T15:45:57.127097Z",
     "start_time": "2024-11-16T15:45:57.123529Z"
    }
   },
   "cell_type": "code",
   "source": [
    "p_1 = Person()\n",
    "p_2 = Person()"
   ],
   "id": "dd8f7fc2065b21f8",
   "outputs": [],
   "execution_count": 13
  },
  {
   "metadata": {
    "ExecuteTime": {
     "end_time": "2024-11-16T15:46:06.687616Z",
     "start_time": "2024-11-16T15:46:06.682999Z"
    }
   },
   "cell_type": "code",
   "source": "p_1.model_dump_json()",
   "id": "3ebb6a3e17cc9c90",
   "outputs": [
    {
     "data": {
      "text/plain": [
       "'{\"id\":\"55bb6bb2-3eb9-47e6-b59d-6f71cf1808cd\"}'"
      ]
     },
     "execution_count": 14,
     "metadata": {},
     "output_type": "execute_result"
    }
   ],
   "execution_count": 14
  },
  {
   "metadata": {
    "ExecuteTime": {
     "end_time": "2024-11-16T15:46:13.562053Z",
     "start_time": "2024-11-16T15:46:13.557242Z"
    }
   },
   "cell_type": "code",
   "source": "p_2.model_dump_json()",
   "id": "53d85bcf0100ba7e",
   "outputs": [
    {
     "data": {
      "text/plain": [
       "'{\"id\":\"55bb6bb2-3eb9-47e6-b59d-6f71cf1808cd\"}'"
      ]
     },
     "execution_count": 15,
     "metadata": {},
     "output_type": "execute_result"
    }
   ],
   "execution_count": 15
  },
  {
   "metadata": {
    "ExecuteTime": {
     "end_time": "2024-11-16T15:47:14.911349Z",
     "start_time": "2024-11-16T15:47:14.898279Z"
    }
   },
   "cell_type": "code",
   "source": [
    "class Person(BaseModel):\n",
    "    id_: UUID4 = Field(alias=\"id\", default=uuid4())"
   ],
   "id": "50a6361c913c77b1",
   "outputs": [],
   "execution_count": 16
  },
  {
   "metadata": {
    "ExecuteTime": {
     "end_time": "2024-11-16T15:47:26.499972Z",
     "start_time": "2024-11-16T15:47:26.496362Z"
    }
   },
   "cell_type": "code",
   "source": [
    "p = Person()\n",
    "p"
   ],
   "id": "ad16451bf74a71c5",
   "outputs": [
    {
     "data": {
      "text/plain": [
       "Person(id_=UUID('e0ccb367-492f-4528-8ea4-be15d66c74ac'))"
      ]
     },
     "execution_count": 19,
     "metadata": {},
     "output_type": "execute_result"
    }
   ],
   "execution_count": 19
  },
  {
   "metadata": {
    "ExecuteTime": {
     "end_time": "2024-11-16T15:47:53.045134Z",
     "start_time": "2024-11-16T15:47:53.039866Z"
    }
   },
   "cell_type": "code",
   "source": [
    "class Person(BaseModel):\n",
    "    id_: UUID4 = Field(alias=\"id\", default_factory=uuid4)"
   ],
   "id": "673b4a1a823a338",
   "outputs": [],
   "execution_count": 20
  },
  {
   "metadata": {
    "ExecuteTime": {
     "end_time": "2024-11-16T15:48:03.680592Z",
     "start_time": "2024-11-16T15:48:03.674508Z"
    }
   },
   "cell_type": "code",
   "source": [
    "p1 = Person()\n",
    "p2 = Person()\n",
    "p1.model_dump_json()"
   ],
   "id": "b840d6dbddf9d654",
   "outputs": [
    {
     "data": {
      "text/plain": [
       "'{\"id_\":\"13cd73ab-a7ac-420b-a0b7-9c1bb5807143\"}'"
      ]
     },
     "execution_count": 21,
     "metadata": {},
     "output_type": "execute_result"
    }
   ],
   "execution_count": 21
  },
  {
   "metadata": {
    "ExecuteTime": {
     "end_time": "2024-11-16T15:48:07.719379Z",
     "start_time": "2024-11-16T15:48:07.714623Z"
    }
   },
   "cell_type": "code",
   "source": "p2",
   "id": "46f0c0274039b48b",
   "outputs": [
    {
     "data": {
      "text/plain": [
       "Person(id_=UUID('def945e6-7f24-4ae7-99a0-1989e04a5419'))"
      ]
     },
     "execution_count": 22,
     "metadata": {},
     "output_type": "execute_result"
    }
   ],
   "execution_count": 22
  }
 ],
 "metadata": {
  "kernelspec": {
   "name": "python3",
   "language": "python",
   "display_name": "Python 3 (ipykernel)"
  }
 },
 "nbformat": 5,
 "nbformat_minor": 9
}
