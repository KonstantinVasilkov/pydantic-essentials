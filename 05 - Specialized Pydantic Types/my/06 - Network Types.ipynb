{
 "cells": [
  {
   "metadata": {
    "ExecuteTime": {
     "end_time": "2024-11-16T16:02:42.045212Z",
     "start_time": "2024-11-16T16:02:42.040421Z"
    }
   },
   "cell_type": "code",
   "source": [
    "from email_validator import validate_email\n",
    "from pydantic import BaseModel, EmailStr, NameEmail, ValidationError, AnyUrl"
   ],
   "id": "5cdfb0c76838c525",
   "outputs": [],
   "execution_count": 11
  },
  {
   "metadata": {
    "ExecuteTime": {
     "end_time": "2024-11-16T15:59:00.657809Z",
     "start_time": "2024-11-16T15:59:00.588691Z"
    }
   },
   "cell_type": "code",
   "source": [
    "class User(BaseModel):\n",
    "    email: EmailStr"
   ],
   "id": "b3b15c3c51e35dbf",
   "outputs": [],
   "execution_count": 2
  },
  {
   "metadata": {
    "ExecuteTime": {
     "end_time": "2024-11-16T15:59:34.695050Z",
     "start_time": "2024-11-16T15:59:34.689808Z"
    }
   },
   "cell_type": "code",
   "source": [
    "m = User(email=\"asfj@afd.com\")\n",
    "m"
   ],
   "id": "db353449436d7ef9",
   "outputs": [
    {
     "data": {
      "text/plain": [
       "User(email='asfj@afd.com')"
      ]
     },
     "execution_count": 6,
     "metadata": {},
     "output_type": "execute_result"
    }
   ],
   "execution_count": 6
  },
  {
   "metadata": {
    "ExecuteTime": {
     "end_time": "2024-11-16T16:01:26.665777Z",
     "start_time": "2024-11-16T16:01:26.653054Z"
    }
   },
   "cell_type": "code",
   "source": [
    "try:\n",
    "    User(email=\"asfj@afd\")\n",
    "except ValidationError as e:\n",
    "    print(e)"
   ],
   "id": "3c8a9cd67df518af",
   "outputs": [
    {
     "name": "stdout",
     "output_type": "stream",
     "text": [
      "1 validation error for User\n",
      "email\n",
      "  value is not a valid email address: The part after the @-sign is not valid. It should have a period. [type=value_error, input_value='asfj@afd', input_type=str]\n"
     ]
    }
   ],
   "execution_count": 7
  },
  {
   "metadata": {
    "ExecuteTime": {
     "end_time": "2024-11-16T16:01:42.937153Z",
     "start_time": "2024-11-16T16:01:42.922521Z"
    }
   },
   "cell_type": "code",
   "source": [
    "class User(BaseModel):\n",
    "    email: NameEmail"
   ],
   "id": "2e7e79327028c869",
   "outputs": [],
   "execution_count": 8
  },
  {
   "metadata": {
    "ExecuteTime": {
     "end_time": "2024-11-16T16:01:58.080112Z",
     "start_time": "2024-11-16T16:01:58.072698Z"
    }
   },
   "cell_type": "code",
   "source": [
    "m = User(email=\"asfj@afd.com\")\n",
    "m"
   ],
   "id": "672e45c4b78d4f75",
   "outputs": [
    {
     "data": {
      "text/plain": [
       "User(email=NameEmail(name='asfj', email='asfj@afd.com'))"
      ]
     },
     "execution_count": 9,
     "metadata": {},
     "output_type": "execute_result"
    }
   ],
   "execution_count": 9
  },
  {
   "metadata": {
    "ExecuteTime": {
     "end_time": "2024-11-16T16:02:16.933599Z",
     "start_time": "2024-11-16T16:02:16.928343Z"
    }
   },
   "cell_type": "code",
   "source": [
    "m = User(email=\"Jonh <asfj@afd.com>\")\n",
    "m"
   ],
   "id": "902bbb0fc276f993",
   "outputs": [
    {
     "data": {
      "text/plain": [
       "User(email=NameEmail(name='Jonh', email='asfj@afd.com'))"
      ]
     },
     "execution_count": 10,
     "metadata": {},
     "output_type": "execute_result"
    }
   ],
   "execution_count": 10
  },
  {
   "metadata": {},
   "cell_type": "code",
   "outputs": [],
   "execution_count": null,
   "source": "",
   "id": "af7985afa1805c54"
  }
 ],
 "metadata": {
  "kernelspec": {
   "name": "python3",
   "language": "python",
   "display_name": "Python 3 (ipykernel)"
  }
 },
 "nbformat": 5,
 "nbformat_minor": 9
}
