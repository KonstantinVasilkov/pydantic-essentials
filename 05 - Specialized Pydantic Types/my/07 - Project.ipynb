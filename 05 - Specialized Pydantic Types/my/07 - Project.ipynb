{
 "cells": [
  {
   "cell_type": "markdown",
   "id": "dda4ae2c-4b3d-4523-886b-6ec3ec3544cb",
   "metadata": {},
   "source": [
    "# Project (Section 5)"
   ]
  },
  {
   "cell_type": "markdown",
   "id": "9336f6bb-f056-4cf6-9dcc-37c7c638cad3",
   "metadata": {},
   "source": [
    "This is where we left off in the previous section project:"
   ]
  },
  {
   "cell_type": "code",
   "id": "3c47c233-3795-4b29-b2b2-1e519220c15e",
   "metadata": {
    "ExecuteTime": {
     "end_time": "2024-11-16T16:16:17.362562Z",
     "start_time": "2024-11-16T16:16:17.355734Z"
    }
   },
   "source": [
    "from datetime import date\n",
    "from enum import Enum\n",
    "from pydantic import BaseModel, ConfigDict, Field, field_serializer, UUID4\n",
    "from pydantic.alias_generators import to_camel\n",
    "\n",
    "\n",
    "class AutomobileType(Enum):\n",
    "    sedan = \"Sedan\"\n",
    "    coupe = \"Coupe\"\n",
    "    convertible = \"Convertible\"\n",
    "    suv = \"SUV\"\n",
    "    truck = \"Truck\"\n",
    "\n",
    "\n",
    "class Automobile(BaseModel):\n",
    "    model_config = ConfigDict(\n",
    "        extra=\"forbid\",\n",
    "        str_strip_whitespace=True,\n",
    "        validate_default=True,\n",
    "        validate_assignment=True,\n",
    "        alias_generator=to_camel,\n",
    "    )\n",
    "\n",
    "    id_: UUID4 | None= Field(default=None, alias=\"id\")\n",
    "    manufacturer: str\n",
    "    series_name: str\n",
    "    type_: AutomobileType = Field(alias=\"type\")\n",
    "    is_electric: bool = False\n",
    "    manufactured_date: date = Field(validation_alias=\"completionDate\")\n",
    "    base_msrp_usd: float = Field(\n",
    "        validation_alias=\"msrpUSD\", \n",
    "        serialization_alias=\"baseMSRPUSD\"\n",
    "    )\n",
    "    vin: str\n",
    "    number_of_doors: int = Field(default=4, validation_alias=\"doors\")\n",
    "    registration_country: str | None = None\n",
    "    license_plate: str | None = None\n",
    "\n",
    "    @field_serializer(\"manufactured_date\", when_used=\"json-unless-none\")\n",
    "    def serialize_date(self, value: date) -> str:\n",
    "        return value.strftime(\"%Y/%m/%d\")"
   ],
   "outputs": [],
   "execution_count": 7
  },
  {
   "cell_type": "markdown",
   "id": "51f76279-322c-4252-a940-58baf2ca5a11",
   "metadata": {},
   "source": [
    "Modify your `Automobile` model to implement the following:\n",
    "- add a field named `id_`\n",
    "    - make it the **first** field in your model\n",
    "    - if provided in the data, it will be named `id`\n",
    "    - it should deserialize to `id`\n",
    "    - the field type should be a uuid4\n",
    "    - for now, have it default to `None`"
   ]
  },
  {
   "cell_type": "markdown",
   "id": "d425124d-d8f7-4ffb-9275-f7608cfc0a0a",
   "metadata": {},
   "source": [
    "You can use this data to test your model:"
   ]
  },
  {
   "cell_type": "code",
   "id": "21a928c8-1fcf-4bda-8e5d-d2887aadc619",
   "metadata": {
    "ExecuteTime": {
     "end_time": "2024-11-16T16:16:19.801938Z",
     "start_time": "2024-11-16T16:16:19.795964Z"
    }
   },
   "source": [
    "data = {\n",
    "    \"id\": \"c4e60f4a-3c7f-4da5-9b3f-07aee50b23e7\",\n",
    "    \"manufacturer\": \"BMW\",\n",
    "    \"seriesName\": \"M4\",\n",
    "    \"type\": \"Convertible\",\n",
    "    \"isElectric\": False,\n",
    "    \"completionDate\": \"2023-01-01\",\n",
    "    \"msrpUSD\": 93_300,\n",
    "    \"vin\": \"1234567890\",\n",
    "    \"doors\": 2,\n",
    "    \"registrationCountry\": \"France\",\n",
    "    \"licensePlate\": \"AAA-BBB\"\n",
    "}\n",
    "car = Automobile.model_validate(data)"
   ],
   "outputs": [],
   "execution_count": 8
  },
  {
   "cell_type": "markdown",
   "id": "be424f65-ab52-486c-819c-35d0cd2bf6b2",
   "metadata": {},
   "source": [
    "Expected serialization to dict by alias is:"
   ]
  },
  {
   "cell_type": "code",
   "id": "54a231ca-5465-445a-87f6-2d2e87f12822",
   "metadata": {
    "ExecuteTime": {
     "end_time": "2024-11-16T16:16:21.476929Z",
     "start_time": "2024-11-16T16:16:21.471205Z"
    }
   },
   "source": [
    "from uuid import UUID\n",
    "\n",
    "expected_serialized_by_alias = {\n",
    "    'id': UUID('c4e60f4a-3c7f-4da5-9b3f-07aee50b23e7'),\n",
    "    'manufacturer': 'BMW',\n",
    "    'seriesName': 'M4',\n",
    "    'type': AutomobileType.convertible,\n",
    "    'isElectric': False,\n",
    "    'manufacturedDate': date(2023, 1, 1),\n",
    "    'baseMSRPUSD': 93300.0,\n",
    "    'vin': '1234567890',\n",
    "    'numberOfDoors': 2,\n",
    "    'registrationCountry': 'France',\n",
    "    'licensePlate': 'AAA-BBB'\n",
    "}\n",
    "assert car.model_dump(by_alias=True) == expected_serialized_by_alias\n",
    "car.model_dump(by_alias=True)"
   ],
   "outputs": [
    {
     "data": {
      "text/plain": [
       "{'id': UUID('c4e60f4a-3c7f-4da5-9b3f-07aee50b23e7'),\n",
       " 'manufacturer': 'BMW',\n",
       " 'seriesName': 'M4',\n",
       " 'type': <AutomobileType.convertible: 'Convertible'>,\n",
       " 'isElectric': False,\n",
       " 'manufacturedDate': datetime.date(2023, 1, 1),\n",
       " 'baseMSRPUSD': 93300.0,\n",
       " 'vin': '1234567890',\n",
       " 'numberOfDoors': 2,\n",
       " 'registrationCountry': 'France',\n",
       " 'licensePlate': 'AAA-BBB'}"
      ]
     },
     "execution_count": 9,
     "metadata": {},
     "output_type": "execute_result"
    }
   ],
   "execution_count": 9
  },
  {
   "cell_type": "code",
   "id": "ca961363-42ee-41fc-8307-b195b57b1051",
   "metadata": {
    "ExecuteTime": {
     "end_time": "2024-11-16T16:16:24.448203Z",
     "start_time": "2024-11-16T16:16:24.443583Z"
    }
   },
   "source": [
    "data_no_id = {\n",
    "    \"manufacturer\": \"BMW\",\n",
    "    \"seriesName\": \"M4\",\n",
    "    \"type\": \"Convertible\",\n",
    "    \"isElectric\": False,\n",
    "    \"completionDate\": \"2023-01-01\",\n",
    "    \"msrpUSD\": 93_300,\n",
    "    \"vin\": \"1234567890\",\n",
    "    \"doors\": 2,\n",
    "    \"registrationCountry\": \"France\",\n",
    "    \"licensePlate\": \"AAA-BBB\"\n",
    "}\n",
    "car = Automobile.model_validate(data_no_id)\n"
   ],
   "outputs": [],
   "execution_count": 10
  },
  {
   "cell_type": "code",
   "id": "41286407-5018-4bae-94e0-0ec73ff26eb6",
   "metadata": {
    "ExecuteTime": {
     "end_time": "2024-11-16T16:16:54.197941Z",
     "start_time": "2024-11-16T16:16:54.191172Z"
    }
   },
   "source": [
    "expected_serialization_data_no_id_by_alias = {\n",
    "    'id': None,\n",
    "    'manufacturer': 'BMW',\n",
    "    'seriesName': 'M4',\n",
    "    'type': AutomobileType.convertible,\n",
    "    'isElectric': False,\n",
    "    'manufacturedDate': date(2023, 1, 1),\n",
    "    'baseMSRPUSD': 93300.0,\n",
    "    'vin': '1234567890',\n",
    "    'numberOfDoors': 2,\n",
    "    'registrationCountry': 'France',\n",
    "    'licensePlate': 'AAA-BBB'\n",
    "}\n",
    "assert car.model_dump(by_alias=True) == expected_serialization_data_no_id_by_alias\n",
    "car.model_dump(by_alias=True)"
   ],
   "outputs": [
    {
     "data": {
      "text/plain": [
       "{'id': None,\n",
       " 'manufacturer': 'BMW',\n",
       " 'seriesName': 'M4',\n",
       " 'type': <AutomobileType.convertible: 'Convertible'>,\n",
       " 'isElectric': False,\n",
       " 'manufacturedDate': datetime.date(2023, 1, 1),\n",
       " 'baseMSRPUSD': 93300.0,\n",
       " 'vin': '1234567890',\n",
       " 'numberOfDoors': 2,\n",
       " 'registrationCountry': 'France',\n",
       " 'licensePlate': 'AAA-BBB'}"
      ]
     },
     "execution_count": 12,
     "metadata": {},
     "output_type": "execute_result"
    }
   ],
   "execution_count": 12
  }
 ],
 "metadata": {
  "kernelspec": {
   "display_name": "Python 3 (ipykernel)",
   "language": "python",
   "name": "python3"
  },
  "language_info": {
   "codemirror_mode": {
    "name": "ipython",
    "version": 3
   },
   "file_extension": ".py",
   "mimetype": "text/x-python",
   "name": "python",
   "nbconvert_exporter": "python",
   "pygments_lexer": "ipython3",
   "version": "3.12.0"
  }
 },
 "nbformat": 4,
 "nbformat_minor": 5
}
