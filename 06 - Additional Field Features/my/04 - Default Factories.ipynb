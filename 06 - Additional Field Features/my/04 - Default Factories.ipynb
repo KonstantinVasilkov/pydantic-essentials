{
 "cells": [
  {
   "metadata": {
    "ExecuteTime": {
     "end_time": "2024-11-26T17:06:41.520299Z",
     "start_time": "2024-11-26T17:06:41.481627Z"
    }
   },
   "cell_type": "code",
   "source": " from pydantic import BaseModel, Field",
   "id": "8ef8995e16d59469",
   "outputs": [],
   "execution_count": 1
  },
  {
   "metadata": {
    "ExecuteTime": {
     "end_time": "2024-11-26T17:07:18.539464Z",
     "start_time": "2024-11-26T17:07:18.535608Z"
    }
   },
   "cell_type": "code",
   "source": [
    "class Model(BaseModel):\n",
    "    elements: list[int] = Field(default_factory=dict)"
   ],
   "id": "3cd0418e62e26960",
   "outputs": [],
   "execution_count": 4
  },
  {
   "metadata": {
    "ExecuteTime": {
     "end_time": "2024-11-26T17:07:19.665128Z",
     "start_time": "2024-11-26T17:07:19.660812Z"
    }
   },
   "cell_type": "code",
   "source": "Model()",
   "id": "6a915d3bccf658a8",
   "outputs": [
    {
     "data": {
      "text/plain": [
       "Model(elements={})"
      ]
     },
     "execution_count": 5,
     "metadata": {},
     "output_type": "execute_result"
    }
   ],
   "execution_count": 5
  }
 ],
 "metadata": {
  "kernelspec": {
   "name": "python3",
   "language": "python",
   "display_name": "Python 3 (ipykernel)"
  }
 },
 "nbformat": 5,
 "nbformat_minor": 9
}
