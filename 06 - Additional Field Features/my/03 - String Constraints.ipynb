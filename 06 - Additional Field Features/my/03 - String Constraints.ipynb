{
 "cells": [
  {
   "metadata": {
    "ExecuteTime": {
     "end_time": "2024-11-26T16:42:49.505855Z",
     "start_time": "2024-11-26T16:42:49.467062Z"
    }
   },
   "cell_type": "code",
   "source": "from pydantic import BaseModel, Field, ValidationError",
   "id": "a2763246b72156ca",
   "outputs": [],
   "execution_count": 1
  },
  {
   "metadata": {
    "ExecuteTime": {
     "end_time": "2024-11-26T16:43:23.157613Z",
     "start_time": "2024-11-26T16:43:23.116407Z"
    }
   },
   "cell_type": "code",
   "source": [
    "class Model(BaseModel):\n",
    "    name: str = Field(min_length=1, max_length=20)"
   ],
   "id": "887c7fdd4c8c19f9",
   "outputs": [],
   "execution_count": 2
  },
  {
   "metadata": {
    "ExecuteTime": {
     "end_time": "2024-11-26T16:43:36.666208Z",
     "start_time": "2024-11-26T16:43:36.660333Z"
    }
   },
   "cell_type": "code",
   "source": "Model(name=\"Konstantin\")",
   "id": "47d2873ec7d6adf3",
   "outputs": [
    {
     "data": {
      "text/plain": [
       "Model(name='Konstantin')"
      ]
     },
     "execution_count": 3,
     "metadata": {},
     "output_type": "execute_result"
    }
   ],
   "execution_count": 3
  },
  {
   "metadata": {
    "ExecuteTime": {
     "end_time": "2024-11-26T16:44:08.456896Z",
     "start_time": "2024-11-26T16:44:08.454103Z"
    }
   },
   "cell_type": "code",
   "source": [
    "try:\n",
    "    Model(name=\"\")\n",
    "except ValidationError as e:\n",
    "    print(e)"
   ],
   "id": "2694f9f3bfc31adf",
   "outputs": [
    {
     "name": "stdout",
     "output_type": "stream",
     "text": [
      "1 validation error for Model\n",
      "name\n",
      "  String should have at least 1 character [type=string_too_short, input_value='', input_type=str]\n",
      "    For further information visit https://errors.pydantic.dev/2.9/v/string_too_short\n"
     ]
    }
   ],
   "execution_count": 4
  },
  {
   "metadata": {
    "ExecuteTime": {
     "end_time": "2024-11-26T16:45:11.235381Z",
     "start_time": "2024-11-26T16:45:11.227524Z"
    }
   },
   "cell_type": "code",
   "source": [
    "class Model(BaseModel):\n",
    "    items: list[float] = Field(min_length=3, max_length=10, default=[5.6, 5, 9.3])"
   ],
   "id": "736d978c35361beb",
   "outputs": [],
   "execution_count": 5
  },
  {
   "metadata": {
    "ExecuteTime": {
     "end_time": "2024-11-26T16:45:20.272061Z",
     "start_time": "2024-11-26T16:45:20.267071Z"
    }
   },
   "cell_type": "code",
   "source": "Model()",
   "id": "c1d5d25a2b31c776",
   "outputs": [
    {
     "data": {
      "text/plain": [
       "Model(items=[5.6, 5, 9.3])"
      ]
     },
     "execution_count": 6,
     "metadata": {},
     "output_type": "execute_result"
    }
   ],
   "execution_count": 6
  },
  {
   "metadata": {
    "ExecuteTime": {
     "end_time": "2024-11-26T16:45:31.576560Z",
     "start_time": "2024-11-26T16:45:31.571697Z"
    }
   },
   "cell_type": "code",
   "source": "Model(items=[5.6, 5.6, 5.6])",
   "id": "8398db3ef498f34b",
   "outputs": [
    {
     "data": {
      "text/plain": [
       "Model(items=[5.6, 5.6, 5.6])"
      ]
     },
     "execution_count": 7,
     "metadata": {},
     "output_type": "execute_result"
    }
   ],
   "execution_count": 7
  },
  {
   "metadata": {
    "ExecuteTime": {
     "end_time": "2024-11-26T16:45:46.870605Z",
     "start_time": "2024-11-26T16:45:46.867898Z"
    }
   },
   "cell_type": "code",
   "source": [
    "try:\n",
    "    Model(items=[5.6, 5.6])\n",
    "except ValidationError as e:\n",
    "    print(e)"
   ],
   "id": "8da36d73468e58a",
   "outputs": [
    {
     "name": "stdout",
     "output_type": "stream",
     "text": [
      "1 validation error for Model\n",
      "items\n",
      "  List should have at least 3 items after validation, not 2 [type=too_short, input_value=[5.6, 5.6], input_type=list]\n",
      "    For further information visit https://errors.pydantic.dev/2.9/v/too_short\n"
     ]
    }
   ],
   "execution_count": 8
  },
  {
   "metadata": {
    "ExecuteTime": {
     "end_time": "2024-11-26T16:48:02.977461Z",
     "start_time": "2024-11-26T16:48:02.972122Z"
    }
   },
   "cell_type": "code",
   "source": [
    "class Circle(BaseModel):\n",
    "    center: tuple[int, ...]\n",
    "    radius: int = Field(gt=0, default=1)"
   ],
   "id": "436d18d245323182",
   "outputs": [],
   "execution_count": 10
  },
  {
   "metadata": {
    "ExecuteTime": {
     "end_time": "2024-11-26T16:48:45.862423Z",
     "start_time": "2024-11-26T16:48:45.858721Z"
    }
   },
   "cell_type": "code",
   "source": "Circle(center=(1,2,3,4,5,6))",
   "id": "8f6c7438dbe391ee",
   "outputs": [
    {
     "data": {
      "text/plain": [
       "Circle(center=(1, 2, 3, 4, 5, 6), radius=1)"
      ]
     },
     "execution_count": 11,
     "metadata": {},
     "output_type": "execute_result"
    }
   ],
   "execution_count": 11
  },
  {
   "metadata": {
    "ExecuteTime": {
     "end_time": "2024-11-26T16:49:21.952042Z",
     "start_time": "2024-11-26T16:49:21.947326Z"
    }
   },
   "cell_type": "code",
   "source": [
    "class Circle(BaseModel):\n",
    "    center: tuple[int, ...] = Field(min_length=2, max_length=3, default=(0, 0))\n",
    "    radius: int = Field(gt=0, default=1)"
   ],
   "id": "c42bd267a4edf9f2",
   "outputs": [],
   "execution_count": 12
  },
  {
   "metadata": {
    "ExecuteTime": {
     "end_time": "2024-11-26T16:50:07.939981Z",
     "start_time": "2024-11-26T16:50:07.937394Z"
    }
   },
   "cell_type": "code",
   "source": "Circle(center=(1,2,3))",
   "id": "17b120457999d5ef",
   "outputs": [
    {
     "data": {
      "text/plain": [
       "Circle(center=(1, 2, 3), radius=1)"
      ]
     },
     "execution_count": 14,
     "metadata": {},
     "output_type": "execute_result"
    }
   ],
   "execution_count": 14
  },
  {
   "metadata": {
    "ExecuteTime": {
     "end_time": "2024-11-26T16:49:47.106653Z",
     "start_time": "2024-11-26T16:49:47.101483Z"
    }
   },
   "cell_type": "code",
   "source": [
    "try:\n",
    "    Circle(center=(1,2,3,4,5,6))\n",
    "except ValidationError as e:\n",
    "    print(e)"
   ],
   "id": "259c67b84bab8f9b",
   "outputs": [
    {
     "name": "stdout",
     "output_type": "stream",
     "text": [
      "1 validation error for Circle\n",
      "center\n",
      "  Tuple should have at most 3 items after validation, not 6 [type=too_long, input_value=(1, 2, 3, 4, 5, 6), input_type=tuple]\n",
      "    For further information visit https://errors.pydantic.dev/2.9/v/too_long\n"
     ]
    }
   ],
   "execution_count": 13
  },
  {
   "metadata": {
    "ExecuteTime": {
     "end_time": "2024-11-26T16:54:04.464612Z",
     "start_time": "2024-11-26T16:54:04.460684Z"
    }
   },
   "cell_type": "code",
   "source": [
    "class Model(BaseModel):\n",
    "    zip_code: str = Field(pattern=r\"^[0-9]{5}(?:-[0-9]{4})?$\")"
   ],
   "id": "19ddfbc517a3ae40",
   "outputs": [],
   "execution_count": 20
  },
  {
   "metadata": {
    "ExecuteTime": {
     "end_time": "2024-11-26T16:54:08.003877Z",
     "start_time": "2024-11-26T16:54:08.000130Z"
    }
   },
   "cell_type": "code",
   "source": "Model(zip_code=\"12346-6548\")",
   "id": "154e3e87b356f569",
   "outputs": [
    {
     "data": {
      "text/plain": [
       "Model(zip_code='12346-6548')"
      ]
     },
     "execution_count": 21,
     "metadata": {},
     "output_type": "execute_result"
    }
   ],
   "execution_count": 21
  },
  {
   "metadata": {
    "ExecuteTime": {
     "end_time": "2024-11-26T16:54:20.887834Z",
     "start_time": "2024-11-26T16:54:20.884694Z"
    }
   },
   "cell_type": "code",
   "source": [
    "try:\n",
    "    Model(zip_code=\"123246-6548\")\n",
    "except ValidationError as e:\n",
    "    print(e)"
   ],
   "id": "f162d82d077f3e6b",
   "outputs": [
    {
     "name": "stdout",
     "output_type": "stream",
     "text": [
      "1 validation error for Model\n",
      "zip_code\n",
      "  String should match pattern '^[0-9]{5}(?:-[0-9]{4})?$' [type=string_pattern_mismatch, input_value='123246-6548', input_type=str]\n",
      "    For further information visit https://errors.pydantic.dev/2.9/v/string_pattern_mismatch\n"
     ]
    }
   ],
   "execution_count": 22
  }
 ],
 "metadata": {
  "kernelspec": {
   "name": "python3",
   "language": "python",
   "display_name": "Python 3 (ipykernel)"
  }
 },
 "nbformat": 5,
 "nbformat_minor": 9
}
