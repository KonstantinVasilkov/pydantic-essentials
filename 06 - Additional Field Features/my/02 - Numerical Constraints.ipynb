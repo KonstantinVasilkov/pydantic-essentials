{
 "cells": [
  {
   "metadata": {
    "ExecuteTime": {
     "end_time": "2024-11-26T16:36:16.676828Z",
     "start_time": "2024-11-26T16:36:16.610064Z"
    }
   },
   "cell_type": "code",
   "source": "from pydantic import BaseModel, Field, ValidationError",
   "id": "75446d326bf830aa",
   "outputs": [],
   "execution_count": 2
  },
  {
   "metadata": {
    "ExecuteTime": {
     "end_time": "2024-11-26T16:37:16.743370Z",
     "start_time": "2024-11-26T16:37:16.695373Z"
    }
   },
   "cell_type": "code",
   "source": [
    "class Model(BaseModel):\n",
    "    number: float = Field(gt=2, le=10, multiple_of=2)"
   ],
   "id": "f6c4b56bf9932792",
   "outputs": [],
   "execution_count": 3
  },
  {
   "metadata": {
    "ExecuteTime": {
     "end_time": "2024-11-26T16:37:33.901780Z",
     "start_time": "2024-11-26T16:37:33.898558Z"
    }
   },
   "cell_type": "code",
   "source": [
    "m = Model(number=4)\n",
    "m"
   ],
   "id": "cb728f668e78c9fe",
   "outputs": [
    {
     "data": {
      "text/plain": [
       "Model(number=4.0)"
      ]
     },
     "execution_count": 5,
     "metadata": {},
     "output_type": "execute_result"
    }
   ],
   "execution_count": 5
  },
  {
   "metadata": {
    "ExecuteTime": {
     "end_time": "2024-11-26T16:37:58.781477Z",
     "start_time": "2024-11-26T16:37:58.777691Z"
    }
   },
   "cell_type": "code",
   "source": [
    "try:\n",
    "    Model(number=5)\n",
    "except ValidationError as e:\n",
    "    print(e)"
   ],
   "id": "3257a24e53a29535",
   "outputs": [
    {
     "name": "stdout",
     "output_type": "stream",
     "text": [
      "1 validation error for Model\n",
      "number\n",
      "  Input should be a multiple of 2 [type=multiple_of, input_value=5, input_type=int]\n",
      "    For further information visit https://errors.pydantic.dev/2.9/v/multiple_of\n"
     ]
    }
   ],
   "execution_count": 6
  },
  {
   "metadata": {
    "ExecuteTime": {
     "end_time": "2024-11-26T16:39:22.310450Z",
     "start_time": "2024-11-26T16:39:22.306006Z"
    }
   },
   "cell_type": "code",
   "source": [
    "class Model(BaseModel):\n",
    "    number: int = Field(gt=0)"
   ],
   "id": "9e8010fee33011c3",
   "outputs": [],
   "execution_count": 7
  },
  {
   "metadata": {
    "ExecuteTime": {
     "end_time": "2024-11-26T16:39:39.078638Z",
     "start_time": "2024-11-26T16:39:39.074134Z"
    }
   },
   "cell_type": "code",
   "source": "Model.model_fields",
   "id": "43684db8de4acac8",
   "outputs": [
    {
     "data": {
      "text/plain": [
       "{'number': FieldInfo(annotation=int, required=True, metadata=[Gt(gt=0)])}"
      ]
     },
     "execution_count": 8,
     "metadata": {},
     "output_type": "execute_result"
    }
   ],
   "execution_count": 8
  },
  {
   "metadata": {
    "ExecuteTime": {
     "end_time": "2024-11-26T16:40:09.831633Z",
     "start_time": "2024-11-26T16:40:09.827572Z"
    }
   },
   "cell_type": "code",
   "source": [
    "from pydantic import PositiveInt\n",
    "class Model(BaseModel):\n",
    "    number: PositiveInt"
   ],
   "id": "b5c5d051aa2dfcc1",
   "outputs": [],
   "execution_count": 9
  },
  {
   "metadata": {
    "ExecuteTime": {
     "end_time": "2024-11-26T16:40:16.098509Z",
     "start_time": "2024-11-26T16:40:16.094203Z"
    }
   },
   "cell_type": "code",
   "source": "Model.model_fields\n",
   "id": "22cae72a4aaab826",
   "outputs": [
    {
     "data": {
      "text/plain": [
       "{'number': FieldInfo(annotation=int, required=True, metadata=[Gt(gt=0)])}"
      ]
     },
     "execution_count": 10,
     "metadata": {},
     "output_type": "execute_result"
    }
   ],
   "execution_count": 10
  }
 ],
 "metadata": {
  "kernelspec": {
   "name": "python3",
   "language": "python",
   "display_name": "Python 3 (ipykernel)"
  }
 },
 "nbformat": 5,
 "nbformat_minor": 9
}
