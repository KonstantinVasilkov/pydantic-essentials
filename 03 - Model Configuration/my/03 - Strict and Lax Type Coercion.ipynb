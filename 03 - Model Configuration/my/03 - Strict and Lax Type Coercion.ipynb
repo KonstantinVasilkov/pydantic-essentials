{
 "cells": [
  {
   "metadata": {
    "ExecuteTime": {
     "end_time": "2024-11-13T18:13:31.314426Z",
     "start_time": "2024-11-13T18:13:31.265444Z"
    }
   },
   "cell_type": "code",
   "source": "from pydantic import BaseModel, ConfigDict, ValidationError",
   "id": "d0e33803c4e28eed",
   "outputs": [],
   "execution_count": 1
  },
  {
   "metadata": {
    "ExecuteTime": {
     "end_time": "2024-11-13T18:11:14.875723Z",
     "start_time": "2024-11-13T18:11:14.802862Z"
    }
   },
   "cell_type": "code",
   "source": [
    "class Model(BaseModel):\n",
    "    field1: str\n",
    "    field2: float\n",
    "    field3: list\n",
    "    field4: tuple"
   ],
   "id": "381d0a96d6ba3990",
   "outputs": [],
   "execution_count": 2
  },
  {
   "metadata": {
    "ExecuteTime": {
     "end_time": "2024-11-13T18:12:23.315724Z",
     "start_time": "2024-11-13T18:12:23.310193Z"
    }
   },
   "cell_type": "code",
   "source": [
    "try:\n",
    "    Model(field1=111, field2=1, field3=(1, 2, 3), field4=[1, 2, 3])\n",
    "except ValidationError as e:\n",
    "    print(e)"
   ],
   "id": "efa793b34f6998d9",
   "outputs": [
    {
     "name": "stdout",
     "output_type": "stream",
     "text": [
      "1 validation error for Model\n",
      "field1\n",
      "  Input should be a valid string [type=string_type, input_value=111, input_type=int]\n",
      "    For further information visit https://errors.pydantic.dev/2.9/v/string_type\n"
     ]
    }
   ],
   "execution_count": 4
  },
  {
   "metadata": {
    "ExecuteTime": {
     "end_time": "2024-11-13T18:12:37.053016Z",
     "start_time": "2024-11-13T18:12:37.046546Z"
    }
   },
   "cell_type": "code",
   "source": "Model(field1=\"111\", field2=1, field3=(1, 2, 3), field4=[1, 2, 3])\n",
   "id": "52ae28e45843c303",
   "outputs": [
    {
     "data": {
      "text/plain": [
       "Model(field1='111', field2=1.0, field3=[1, 2, 3], field4=(1, 2, 3))"
      ]
     },
     "execution_count": 5,
     "metadata": {},
     "output_type": "execute_result"
    }
   ],
   "execution_count": 5
  },
  {
   "metadata": {
    "ExecuteTime": {
     "end_time": "2024-11-13T18:14:13.495768Z",
     "start_time": "2024-11-13T18:14:13.439995Z"
    }
   },
   "cell_type": "code",
   "source": [
    "class Model(BaseModel):\n",
    "    model_config = ConfigDict(strict=True)\n",
    "    field1: str\n",
    "    field2: float\n",
    "    field3: list\n",
    "    field4: tuple"
   ],
   "id": "f69b1ef564d95b94",
   "outputs": [],
   "execution_count": 2
  },
  {
   "metadata": {
    "ExecuteTime": {
     "end_time": "2024-11-13T18:14:27.718577Z",
     "start_time": "2024-11-13T18:14:27.714299Z"
    }
   },
   "cell_type": "code",
   "source": [
    "try:\n",
    "    Model(field1=\"111\", field2=1, field3=(1, 2, 3), field4=[1, 2, 3])\n",
    "except ValidationError as e:\n",
    "    print(e)"
   ],
   "id": "7723fb943d4dbab6",
   "outputs": [
    {
     "name": "stdout",
     "output_type": "stream",
     "text": [
      "2 validation errors for Model\n",
      "field3\n",
      "  Input should be a valid list [type=list_type, input_value=(1, 2, 3), input_type=tuple]\n",
      "    For further information visit https://errors.pydantic.dev/2.9/v/list_type\n",
      "field4\n",
      "  Input should be a valid tuple [type=tuple_type, input_value=[1, 2, 3], input_type=list]\n",
      "    For further information visit https://errors.pydantic.dev/2.9/v/tuple_type\n"
     ]
    }
   ],
   "execution_count": 3
  },
  {
   "metadata": {
    "ExecuteTime": {
     "end_time": "2024-11-13T18:19:14.518840Z",
     "start_time": "2024-11-13T18:19:14.516176Z"
    }
   },
   "cell_type": "code",
   "source": [
    "'{\"a\": true}'\n",
    "'{\"a\": 1.56}'\n",
    "'{\"a\": [1, 2, 3]}'\n",
    "'{\"a\": {\"v\": [1]}, \"b\": false, \"c\": true}'"
   ],
   "id": "5275e2ba4352027e",
   "outputs": [
    {
     "data": {
      "text/plain": [
       "'{\"a\": {\"v\": [1]}, \"b\": false, \"c\": true}'"
      ]
     },
     "execution_count": 6,
     "metadata": {},
     "output_type": "execute_result"
    }
   ],
   "execution_count": 6
  },
  {
   "metadata": {
    "ExecuteTime": {
     "end_time": "2024-11-13T18:19:28.714669Z",
     "start_time": "2024-11-13T18:19:28.708232Z"
    }
   },
   "cell_type": "code",
   "source": "type(10.)",
   "id": "20fe9002f14d506b",
   "outputs": [
    {
     "data": {
      "text/plain": [
       "float"
      ]
     },
     "execution_count": 7,
     "metadata": {},
     "output_type": "execute_result"
    }
   ],
   "execution_count": 7
  },
  {
   "metadata": {
    "ExecuteTime": {
     "end_time": "2024-11-13T18:19:36.930332Z",
     "start_time": "2024-11-13T18:19:36.927241Z"
    }
   },
   "cell_type": "code",
   "source": "10.",
   "id": "a901872584cbebb7",
   "outputs": [
    {
     "data": {
      "text/plain": [
       "10.0"
      ]
     },
     "execution_count": 8,
     "metadata": {},
     "output_type": "execute_result"
    }
   ],
   "execution_count": 8
  }
 ],
 "metadata": {
  "kernelspec": {
   "name": "python3",
   "language": "python",
   "display_name": "Python 3 (ipykernel)"
  }
 },
 "nbformat": 5,
 "nbformat_minor": 9
}
