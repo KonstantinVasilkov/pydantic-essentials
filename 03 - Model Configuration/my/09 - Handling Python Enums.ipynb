{
 "cells": [
  {
   "metadata": {
    "ExecuteTime": {
     "end_time": "2024-11-14T18:02:01.979581Z",
     "start_time": "2024-11-14T18:02:01.976888Z"
    }
   },
   "cell_type": "code",
   "source": [
    "from enum import Enum\n",
    "\n",
    "class Color(Enum):\n",
    "    red = 'red'\n",
    "    green = 'green'\n",
    "    blue = 'blue'"
   ],
   "id": "98d120bfcba81920",
   "outputs": [],
   "execution_count": 1
  },
  {
   "metadata": {
    "ExecuteTime": {
     "end_time": "2024-11-14T18:02:13.922268Z",
     "start_time": "2024-11-14T18:02:13.861448Z"
    }
   },
   "cell_type": "code",
   "source": "from pydantic import BaseModel, ConfigDict, ValidationError\n",
   "id": "7ec935932342347",
   "outputs": [],
   "execution_count": 2
  },
  {
   "metadata": {
    "ExecuteTime": {
     "end_time": "2024-11-14T18:02:32.743294Z",
     "start_time": "2024-11-14T18:02:32.682464Z"
    }
   },
   "cell_type": "code",
   "source": [
    "class Model(BaseModel):\n",
    "    color: Color"
   ],
   "id": "6539ffff7f435f1f",
   "outputs": [],
   "execution_count": 3
  },
  {
   "metadata": {
    "ExecuteTime": {
     "end_time": "2024-11-14T18:03:29.751177Z",
     "start_time": "2024-11-14T18:03:29.746086Z"
    }
   },
   "cell_type": "code",
   "source": "Model(color=Color.red)",
   "id": "fd15a1244f9749a5",
   "outputs": [
    {
     "data": {
      "text/plain": [
       "Model(color=<Color.red: 'red'>)"
      ]
     },
     "execution_count": 6,
     "metadata": {},
     "output_type": "execute_result"
    }
   ],
   "execution_count": 6
  },
  {
   "metadata": {
    "ExecuteTime": {
     "end_time": "2024-11-14T18:04:43.403497Z",
     "start_time": "2024-11-14T18:04:43.392685Z"
    }
   },
   "cell_type": "code",
   "source": [
    "data = \"\"\"\n",
    "{\"color\": \"red\"}\n",
    "\"\"\"\n",
    "Model.model_validate_json(data)"
   ],
   "id": "69b9e0cc72c8f843",
   "outputs": [
    {
     "data": {
      "text/plain": [
       "Model(color=<Color.red: 'red'>)"
      ]
     },
     "execution_count": 7,
     "metadata": {},
     "output_type": "execute_result"
    }
   ],
   "execution_count": 7
  },
  {
   "metadata": {
    "ExecuteTime": {
     "end_time": "2024-11-14T18:05:32.373832Z",
     "start_time": "2024-11-14T18:05:32.370390Z"
    }
   },
   "cell_type": "code",
   "source": [
    "data = \"\"\"\n",
    "{\"color\": \"red\"}\n",
    "\"\"\"\n",
    "m = Model.model_validate_json(data)\n",
    "m"
   ],
   "id": "ca8fbb04b8d27c61",
   "outputs": [
    {
     "data": {
      "text/plain": [
       "Model(color=<Color.red: 'red'>)"
      ]
     },
     "execution_count": 9,
     "metadata": {},
     "output_type": "execute_result"
    }
   ],
   "execution_count": 9
  },
  {
   "metadata": {
    "ExecuteTime": {
     "end_time": "2024-11-14T18:05:46.375431Z",
     "start_time": "2024-11-14T18:05:46.357287Z"
    }
   },
   "cell_type": "code",
   "source": "m.model_dump_json()",
   "id": "6537c9856d3ef08c",
   "outputs": [
    {
     "data": {
      "text/plain": [
       "'{\"color\":\"red\"}'"
      ]
     },
     "execution_count": 10,
     "metadata": {},
     "output_type": "execute_result"
    }
   ],
   "execution_count": 10
  },
  {
   "metadata": {
    "ExecuteTime": {
     "end_time": "2024-11-14T18:07:53.405689Z",
     "start_time": "2024-11-14T18:07:53.394433Z"
    }
   },
   "cell_type": "code",
   "source": [
    "class Model(BaseModel):\n",
    "    model_config = ConfigDict(use_enum_values=True)\n",
    "\n",
    "    color: Color"
   ],
   "id": "54f9a62912b64676",
   "outputs": [],
   "execution_count": 11
  },
  {
   "metadata": {
    "ExecuteTime": {
     "end_time": "2024-11-14T18:08:14.580559Z",
     "start_time": "2024-11-14T18:08:14.577692Z"
    }
   },
   "cell_type": "code",
   "source": [
    "m = Model(color=Color.red)\n",
    "m"
   ],
   "id": "246661b7995860f3",
   "outputs": [
    {
     "data": {
      "text/plain": [
       "Model(color='red')"
      ]
     },
     "execution_count": 12,
     "metadata": {},
     "output_type": "execute_result"
    }
   ],
   "execution_count": 12
  },
  {
   "metadata": {},
   "cell_type": "code",
   "outputs": [],
   "execution_count": null,
   "source": "",
   "id": "d4a3b08f2ad87692"
  }
 ],
 "metadata": {
  "kernelspec": {
   "name": "python3",
   "language": "python",
   "display_name": "Python 3 (ipykernel)"
  }
 },
 "nbformat": 5,
 "nbformat_minor": 9
}
