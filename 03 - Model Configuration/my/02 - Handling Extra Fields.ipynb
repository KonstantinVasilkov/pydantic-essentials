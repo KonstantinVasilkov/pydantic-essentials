{
 "cells": [
  {
   "cell_type": "code",
   "id": "initial_id",
   "metadata": {
    "collapsed": true,
    "ExecuteTime": {
     "end_time": "2024-11-13T18:01:53.705397Z",
     "start_time": "2024-11-13T18:01:53.599407Z"
    }
   },
   "source": "from pydantic import BaseModel, ConfigDict, ValidationError",
   "outputs": [],
   "execution_count": 1
  },
  {
   "metadata": {
    "ExecuteTime": {
     "end_time": "2024-11-13T18:02:14.745300Z",
     "start_time": "2024-11-13T18:02:14.693696Z"
    }
   },
   "cell_type": "code",
   "source": [
    "class Model(BaseModel):\n",
    "    field1: int"
   ],
   "id": "184b72fb167c9b7f",
   "outputs": [],
   "execution_count": 2
  },
  {
   "metadata": {
    "ExecuteTime": {
     "end_time": "2024-11-13T18:02:43.881389Z",
     "start_time": "2024-11-13T18:02:43.874190Z"
    }
   },
   "cell_type": "code",
   "source": "m = Model(field1=1, field2=3)",
   "id": "b2d90dceeb089512",
   "outputs": [],
   "execution_count": 3
  },
  {
   "metadata": {
    "ExecuteTime": {
     "end_time": "2024-11-13T18:03:02.128086Z",
     "start_time": "2024-11-13T18:03:02.118197Z"
    }
   },
   "cell_type": "code",
   "source": "m",
   "id": "6f1320169e7e1c6a",
   "outputs": [
    {
     "data": {
      "text/plain": [
       "Model(field1=1)"
      ]
     },
     "execution_count": 4,
     "metadata": {},
     "output_type": "execute_result"
    }
   ],
   "execution_count": 4
  },
  {
   "metadata": {},
   "cell_type": "code",
   "outputs": [],
   "execution_count": null,
   "source": "m.model_extra",
   "id": "492f485256a78840"
  },
  {
   "metadata": {
    "ExecuteTime": {
     "end_time": "2024-11-13T18:04:52.390741Z",
     "start_time": "2024-11-13T18:04:52.377436Z"
    }
   },
   "cell_type": "code",
   "source": [
    "class Model(BaseModel):\n",
    "    model_config = ConfigDict(extra=\"ignore\")\n",
    "\n",
    "    field1: int"
   ],
   "id": "d8edd045bc878443",
   "outputs": [],
   "execution_count": 6
  },
  {
   "metadata": {
    "ExecuteTime": {
     "end_time": "2024-11-13T18:05:16.725449Z",
     "start_time": "2024-11-13T18:05:16.722050Z"
    }
   },
   "cell_type": "code",
   "source": "m = Model(field1=1, field2=3)",
   "id": "775ab2f5ffbc3e35",
   "outputs": [],
   "execution_count": 7
  },
  {
   "metadata": {
    "ExecuteTime": {
     "end_time": "2024-11-13T18:05:27.559628Z",
     "start_time": "2024-11-13T18:05:27.555670Z"
    }
   },
   "cell_type": "code",
   "source": [
    "class Model(BaseModel):\n",
    "    model_config = ConfigDict(extra=\"forbid\")\n",
    "\n",
    "    field1: int"
   ],
   "id": "9dbdb1d9a980621f",
   "outputs": [],
   "execution_count": 8
  },
  {
   "metadata": {
    "ExecuteTime": {
     "end_time": "2024-11-13T18:05:39.894128Z",
     "start_time": "2024-11-13T18:05:39.881248Z"
    }
   },
   "cell_type": "code",
   "source": [
    "try:\n",
    "    m = Model(field1=1, field2=3)\n",
    "except ValidationError as e:\n",
    "    print(e)"
   ],
   "id": "b15f2f30135131e7",
   "outputs": [
    {
     "name": "stdout",
     "output_type": "stream",
     "text": [
      "1 validation error for Model\n",
      "field2\n",
      "  Extra inputs are not permitted [type=extra_forbidden, input_value=3, input_type=int]\n",
      "    For further information visit https://errors.pydantic.dev/2.9/v/extra_forbidden\n"
     ]
    }
   ],
   "execution_count": 9
  },
  {
   "metadata": {
    "ExecuteTime": {
     "end_time": "2024-11-13T18:06:11.197157Z",
     "start_time": "2024-11-13T18:06:11.191276Z"
    }
   },
   "cell_type": "code",
   "source": [
    "class Model(BaseModel):\n",
    "    model_config = ConfigDict(extra=\"allow\")\n",
    "\n",
    "    field1: int"
   ],
   "id": "af384e3a1447339f",
   "outputs": [],
   "execution_count": 10
  },
  {
   "metadata": {
    "ExecuteTime": {
     "end_time": "2024-11-13T18:06:19.346726Z",
     "start_time": "2024-11-13T18:06:19.341716Z"
    }
   },
   "cell_type": "code",
   "source": [
    "m = Model(field1=1, field2=3)\n",
    "m"
   ],
   "id": "f50d4e7a5200ea95",
   "outputs": [
    {
     "data": {
      "text/plain": [
       "Model(field1=1, field2=3)"
      ]
     },
     "execution_count": 11,
     "metadata": {},
     "output_type": "execute_result"
    }
   ],
   "execution_count": 11
  },
  {
   "metadata": {
    "ExecuteTime": {
     "end_time": "2024-11-13T18:07:04.356592Z",
     "start_time": "2024-11-13T18:07:04.349188Z"
    }
   },
   "cell_type": "code",
   "source": "m.model_extra",
   "id": "c5871bd5ae9be0b3",
   "outputs": [
    {
     "data": {
      "text/plain": [
       "{'field2': 3}"
      ]
     },
     "execution_count": 12,
     "metadata": {},
     "output_type": "execute_result"
    }
   ],
   "execution_count": 12
  },
  {
   "metadata": {
    "ExecuteTime": {
     "end_time": "2024-11-13T18:08:59.591877Z",
     "start_time": "2024-11-13T18:08:59.584380Z"
    }
   },
   "cell_type": "code",
   "source": "m.model_config",
   "id": "44a89052e996ce4a",
   "outputs": [
    {
     "data": {
      "text/plain": [
       "{'extra': 'allow'}"
      ]
     },
     "execution_count": 13,
     "metadata": {},
     "output_type": "execute_result"
    }
   ],
   "execution_count": 13
  }
 ],
 "metadata": {
  "kernelspec": {
   "display_name": "Python 3",
   "language": "python",
   "name": "python3"
  },
  "language_info": {
   "codemirror_mode": {
    "name": "ipython",
    "version": 2
   },
   "file_extension": ".py",
   "mimetype": "text/x-python",
   "name": "python",
   "nbconvert_exporter": "python",
   "pygments_lexer": "ipython2",
   "version": "2.7.6"
  }
 },
 "nbformat": 4,
 "nbformat_minor": 5
}
