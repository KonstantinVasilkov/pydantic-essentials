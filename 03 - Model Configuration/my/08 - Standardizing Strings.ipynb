{
 "cells": [
  {
   "metadata": {
    "ExecuteTime": {
     "end_time": "2024-11-14T17:57:30.219837Z",
     "start_time": "2024-11-14T17:57:30.135224Z"
    }
   },
   "cell_type": "code",
   "source": [
    "from pydantic import BaseModel, ConfigDict, ValidationError\n",
    "class Model(BaseModel):\n",
    "    model_config = ConfigDict(str_strip_whitespace=True)\n",
    "    field: str"
   ],
   "id": "693e716f719375f6",
   "outputs": [],
   "execution_count": 1
  },
  {
   "metadata": {
    "ExecuteTime": {
     "end_time": "2024-11-14T17:58:05.528051Z",
     "start_time": "2024-11-14T17:58:05.517495Z"
    }
   },
   "cell_type": "code",
   "source": [
    "m1 = Model(field=\"   python\")\n",
    "m2 = Model(field=\"python \\t \\n\")"
   ],
   "id": "f3dc643bfa3fd989",
   "outputs": [],
   "execution_count": 2
  },
  {
   "metadata": {
    "ExecuteTime": {
     "end_time": "2024-11-14T17:58:12.218535Z",
     "start_time": "2024-11-14T17:58:12.212003Z"
    }
   },
   "cell_type": "code",
   "source": "m1",
   "id": "26bea8eabaa36692",
   "outputs": [
    {
     "data": {
      "text/plain": [
       "Model(field='python')"
      ]
     },
     "execution_count": 3,
     "metadata": {},
     "output_type": "execute_result"
    }
   ],
   "execution_count": 3
  },
  {
   "metadata": {
    "ExecuteTime": {
     "end_time": "2024-11-14T17:58:18.096655Z",
     "start_time": "2024-11-14T17:58:18.092101Z"
    }
   },
   "cell_type": "code",
   "source": "m2",
   "id": "142fb97f3baa8281",
   "outputs": [
    {
     "data": {
      "text/plain": [
       "Model(field='python')"
      ]
     },
     "execution_count": 4,
     "metadata": {},
     "output_type": "execute_result"
    }
   ],
   "execution_count": 4
  },
  {
   "metadata": {
    "ExecuteTime": {
     "end_time": "2024-11-14T17:58:29.139013Z",
     "start_time": "2024-11-14T17:58:29.133003Z"
    }
   },
   "cell_type": "code",
   "source": "m1 == m2",
   "id": "60e138e2da286a74",
   "outputs": [
    {
     "data": {
      "text/plain": [
       "True"
      ]
     },
     "execution_count": 5,
     "metadata": {},
     "output_type": "execute_result"
    }
   ],
   "execution_count": 5
  },
  {
   "metadata": {
    "ExecuteTime": {
     "end_time": "2024-11-14T17:58:54.212451Z",
     "start_time": "2024-11-14T17:58:54.199516Z"
    }
   },
   "cell_type": "code",
   "source": [
    "from pydantic import BaseModel, ConfigDict, ValidationError\n",
    "class Model(BaseModel):\n",
    "    model_config = ConfigDict(str_strip_whitespace=True, str_to_lower=True)\n",
    "    field: str"
   ],
   "id": "f5a39d01e51a3223",
   "outputs": [],
   "execution_count": 6
  },
  {
   "metadata": {
    "ExecuteTime": {
     "end_time": "2024-11-14T17:59:22.386270Z",
     "start_time": "2024-11-14T17:59:22.381816Z"
    }
   },
   "cell_type": "code",
   "source": [
    "m1 = Model(field=\"   PYTHON \\t\")\n",
    "m1"
   ],
   "id": "4876a7b7951fe816",
   "outputs": [
    {
     "data": {
      "text/plain": [
       "Model(field='python')"
      ]
     },
     "execution_count": 8,
     "metadata": {},
     "output_type": "execute_result"
    }
   ],
   "execution_count": 8
  }
 ],
 "metadata": {
  "kernelspec": {
   "name": "python3",
   "language": "python",
   "display_name": "Python 3 (ipykernel)"
  }
 },
 "nbformat": 5,
 "nbformat_minor": 9
}
