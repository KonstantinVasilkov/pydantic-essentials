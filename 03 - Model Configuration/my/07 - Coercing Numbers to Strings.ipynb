{
 "cells": [
  {
   "metadata": {},
   "cell_type": "code",
   "outputs": [],
   "execution_count": null,
   "source": "",
   "id": "7cced682812dc155"
  },
  {
   "metadata": {
    "ExecuteTime": {
     "end_time": "2024-11-14T17:53:11.587410Z",
     "start_time": "2024-11-14T17:53:11.509020Z"
    }
   },
   "cell_type": "code",
   "source": [
    "from pydantic import BaseModel, ConfigDict, ValidationError\n",
    "class Model(BaseModel):\n",
    "    field: str"
   ],
   "id": "86f60e8688a90232",
   "outputs": [],
   "execution_count": 1
  },
  {
   "metadata": {
    "ExecuteTime": {
     "end_time": "2024-11-14T17:53:36.959395Z",
     "start_time": "2024-11-14T17:53:36.953981Z"
    }
   },
   "cell_type": "code",
   "source": [
    "try:\n",
    "    Model(field=100)\n",
    "except ValidationError as e:\n",
    "    print(e)"
   ],
   "id": "5ead8fccb3f99cf8",
   "outputs": [
    {
     "name": "stdout",
     "output_type": "stream",
     "text": [
      "1 validation error for Model\n",
      "field\n",
      "  Input should be a valid string [type=string_type, input_value=100, input_type=int]\n",
      "    For further information visit https://errors.pydantic.dev/2.9/v/string_type\n"
     ]
    }
   ],
   "execution_count": 2
  },
  {
   "metadata": {
    "ExecuteTime": {
     "end_time": "2024-11-14T17:54:00.186698Z",
     "start_time": "2024-11-14T17:54:00.181755Z"
    }
   },
   "cell_type": "code",
   "source": [
    "class Model(BaseModel):\n",
    "    model_config = ConfigDict(coerce_numbers_to_str=True)\n",
    "    field: str"
   ],
   "id": "23c3155720d051f5",
   "outputs": [],
   "execution_count": 3
  },
  {
   "metadata": {
    "ExecuteTime": {
     "end_time": "2024-11-14T17:54:40.594377Z",
     "start_time": "2024-11-14T17:54:40.589693Z"
    }
   },
   "cell_type": "code",
   "source": "Model(field=1.5)",
   "id": "15a1ed0a13adb8e3",
   "outputs": [
    {
     "data": {
      "text/plain": [
       "Model(field='1.5')"
      ]
     },
     "execution_count": 5,
     "metadata": {},
     "output_type": "execute_result"
    }
   ],
   "execution_count": 5
  },
  {
   "metadata": {
    "ExecuteTime": {
     "end_time": "2024-11-14T17:55:15.644091Z",
     "start_time": "2024-11-14T17:55:15.622709Z"
    }
   },
   "cell_type": "code",
   "source": [
    "class Model(BaseModel):\n",
    "    model_config = ConfigDict(coerce_numbers_to_str=True, strict=True)\n",
    "    field: str"
   ],
   "id": "37c7615f8a038156",
   "outputs": [],
   "execution_count": 6
  },
  {
   "metadata": {
    "ExecuteTime": {
     "end_time": "2024-11-14T17:55:30.001236Z",
     "start_time": "2024-11-14T17:55:29.993368Z"
    }
   },
   "cell_type": "code",
   "source": [
    "try:\n",
    "    Model(field=100)\n",
    "except ValidationError as e:\n",
    "    print(e)"
   ],
   "id": "2a18eb7748187f30",
   "outputs": [
    {
     "name": "stdout",
     "output_type": "stream",
     "text": [
      "1 validation error for Model\n",
      "field\n",
      "  Input should be a valid string [type=string_type, input_value=100, input_type=int]\n",
      "    For further information visit https://errors.pydantic.dev/2.9/v/string_type\n"
     ]
    }
   ],
   "execution_count": 7
  }
 ],
 "metadata": {
  "kernelspec": {
   "name": "python3",
   "language": "python",
   "display_name": "Python 3 (ipykernel)"
  }
 },
 "nbformat": 5,
 "nbformat_minor": 9
}
