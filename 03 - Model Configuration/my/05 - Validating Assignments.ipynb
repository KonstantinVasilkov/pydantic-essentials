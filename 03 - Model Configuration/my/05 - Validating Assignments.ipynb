{
 "cells": [
  {
   "metadata": {
    "ExecuteTime": {
     "end_time": "2024-11-14T17:45:38.646352Z",
     "start_time": "2024-11-14T17:45:38.563984Z"
    }
   },
   "cell_type": "code",
   "source": [
    "from pydantic import BaseModel, ConfigDict, ValidationError\n",
    "\n",
    "class Model(BaseModel):\n",
    "    field: int"
   ],
   "id": "c6197e0a1dd44a60",
   "outputs": [],
   "execution_count": 1
  },
  {
   "metadata": {
    "ExecuteTime": {
     "end_time": "2024-11-14T17:45:50.466173Z",
     "start_time": "2024-11-14T17:45:50.456763Z"
    }
   },
   "cell_type": "code",
   "source": "m = Model(field=1)",
   "id": "c01668a1a2b2bcc8",
   "outputs": [],
   "execution_count": 2
  },
  {
   "metadata": {
    "ExecuteTime": {
     "end_time": "2024-11-14T17:45:56.390610Z",
     "start_time": "2024-11-14T17:45:56.380003Z"
    }
   },
   "cell_type": "code",
   "source": "m",
   "id": "2b1081ace75bfb7b",
   "outputs": [
    {
     "data": {
      "text/plain": [
       "Model(field=1)"
      ]
     },
     "execution_count": 3,
     "metadata": {},
     "output_type": "execute_result"
    }
   ],
   "execution_count": 3
  },
  {
   "metadata": {
    "ExecuteTime": {
     "end_time": "2024-11-14T17:46:20.703703Z",
     "start_time": "2024-11-14T17:46:20.699657Z"
    }
   },
   "cell_type": "code",
   "source": [
    "class Model(BaseModel):\n",
    "    model_config = ConfigDict(validate_assignment=True)\n",
    "    field: int"
   ],
   "id": "c8557010c5fd3157",
   "outputs": [],
   "execution_count": 4
  },
  {
   "metadata": {
    "ExecuteTime": {
     "end_time": "2024-11-14T17:46:31.561693Z",
     "start_time": "2024-11-14T17:46:31.558270Z"
    }
   },
   "cell_type": "code",
   "source": "m = Model(field=1)\n",
   "id": "2011f684daaa64c6",
   "outputs": [],
   "execution_count": 5
  },
  {
   "metadata": {
    "ExecuteTime": {
     "end_time": "2024-11-14T17:46:59.051700Z",
     "start_time": "2024-11-14T17:46:59.046569Z"
    }
   },
   "cell_type": "code",
   "source": [
    "try:\n",
    "    m.field = \"afjhkas\"\n",
    "except ValidationError as e:\n",
    "    print(e)"
   ],
   "id": "e0b9829ccb008aa2",
   "outputs": [
    {
     "name": "stdout",
     "output_type": "stream",
     "text": [
      "1 validation error for Model\n",
      "field\n",
      "  Input should be a valid integer, unable to parse string as an integer [type=int_parsing, input_value='afjhkas', input_type=str]\n",
      "    For further information visit https://errors.pydantic.dev/2.9/v/int_parsing\n"
     ]
    }
   ],
   "execution_count": 6
  }
 ],
 "metadata": {
  "kernelspec": {
   "name": "python3",
   "language": "python",
   "display_name": "Python 3 (ipykernel)"
  }
 },
 "nbformat": 5,
 "nbformat_minor": 9
}
