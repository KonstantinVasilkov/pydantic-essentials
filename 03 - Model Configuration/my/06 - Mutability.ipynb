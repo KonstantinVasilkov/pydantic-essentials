{
 "cells": [
  {
   "metadata": {
    "ExecuteTime": {
     "end_time": "2024-11-14T17:49:01.204894Z",
     "start_time": "2024-11-14T17:49:01.104671Z"
    }
   },
   "cell_type": "code",
   "source": [
    "from pydantic import BaseModel, ConfigDict, ValidationError\n",
    "\n",
    "class Model(BaseModel):\n",
    "    field: int"
   ],
   "id": "8ec8fc1a601d954e",
   "outputs": [],
   "execution_count": 1
  },
  {
   "metadata": {
    "ExecuteTime": {
     "end_time": "2024-11-14T17:49:12.502527Z",
     "start_time": "2024-11-14T17:49:12.495659Z"
    }
   },
   "cell_type": "code",
   "source": [
    "m = Model(field=1)\n",
    "m"
   ],
   "id": "96087df92b91c62c",
   "outputs": [
    {
     "data": {
      "text/plain": [
       "Model(field=1)"
      ]
     },
     "execution_count": 2,
     "metadata": {},
     "output_type": "execute_result"
    }
   ],
   "execution_count": 2
  },
  {
   "metadata": {
    "ExecuteTime": {
     "end_time": "2024-11-14T17:49:41.165555Z",
     "start_time": "2024-11-14T17:49:41.161507Z"
    }
   },
   "cell_type": "code",
   "source": [
    "m.field=20\n",
    "m"
   ],
   "id": "7e1709c82f06b10a",
   "outputs": [
    {
     "data": {
      "text/plain": [
       "Model(field=20)"
      ]
     },
     "execution_count": 3,
     "metadata": {},
     "output_type": "execute_result"
    }
   ],
   "execution_count": 3
  },
  {
   "metadata": {
    "ExecuteTime": {
     "end_time": "2024-11-14T17:50:15.689222Z",
     "start_time": "2024-11-14T17:50:15.682312Z"
    }
   },
   "cell_type": "code",
   "source": [
    "class Model(BaseModel):\n",
    "    model_config = ConfigDict(frozen=True)\n",
    "    field: int"
   ],
   "id": "6d83513fe30a6029",
   "outputs": [],
   "execution_count": 4
  },
  {
   "metadata": {
    "ExecuteTime": {
     "end_time": "2024-11-14T17:50:28.014609Z",
     "start_time": "2024-11-14T17:50:28.006389Z"
    }
   },
   "cell_type": "code",
   "source": [
    "m = Model(field=1)\n",
    "m"
   ],
   "id": "8add2eace3afcb2a",
   "outputs": [
    {
     "data": {
      "text/plain": [
       "Model(field=1)"
      ]
     },
     "execution_count": 5,
     "metadata": {},
     "output_type": "execute_result"
    }
   ],
   "execution_count": 5
  },
  {
   "metadata": {
    "ExecuteTime": {
     "end_time": "2024-11-14T17:50:43.067505Z",
     "start_time": "2024-11-14T17:50:43.063184Z"
    }
   },
   "cell_type": "code",
   "source": [
    "try:\n",
    "    m.field=20\n",
    "except ValidationError as e:\n",
    "    print(e)"
   ],
   "id": "9798aa92f6a98fc6",
   "outputs": [
    {
     "name": "stdout",
     "output_type": "stream",
     "text": [
      "1 validation error for Model\n",
      "field\n",
      "  Instance is frozen [type=frozen_instance, input_value=20, input_type=int]\n",
      "    For further information visit https://errors.pydantic.dev/2.9/v/frozen_instance\n"
     ]
    }
   ],
   "execution_count": 6
  },
  {
   "metadata": {
    "ExecuteTime": {
     "end_time": "2024-11-14T17:51:09.405387Z",
     "start_time": "2024-11-14T17:51:09.398352Z"
    }
   },
   "cell_type": "code",
   "source": [
    "class Model(BaseModel):\n",
    "    model_config = ConfigDict(frozen=False)\n",
    "    field: int"
   ],
   "id": "72dd63acf9a577ca",
   "outputs": [],
   "execution_count": 7
  },
  {
   "metadata": {
    "ExecuteTime": {
     "end_time": "2024-11-14T17:51:54.987071Z",
     "start_time": "2024-11-14T17:51:54.984988Z"
    }
   },
   "cell_type": "code",
   "source": [
    "m = Model(field=1)\n",
    "try:\n",
    "    d = {m: \"ajsdkf\"}\n",
    "except TypeError as e:\n",
    "    print(e)"
   ],
   "id": "b3bdaedcb4ffe65b",
   "outputs": [
    {
     "name": "stdout",
     "output_type": "stream",
     "text": [
      "unhashable type: 'Model'\n"
     ]
    }
   ],
   "execution_count": 8
  },
  {
   "metadata": {
    "ExecuteTime": {
     "end_time": "2024-11-14T17:52:13.968255Z",
     "start_time": "2024-11-14T17:52:13.964433Z"
    }
   },
   "cell_type": "code",
   "source": [
    "class Model(BaseModel):\n",
    "    model_config = ConfigDict(frozen=True)\n",
    "    field: int"
   ],
   "id": "66186ce0d914bbeb",
   "outputs": [],
   "execution_count": 9
  },
  {
   "metadata": {
    "ExecuteTime": {
     "end_time": "2024-11-14T17:52:16.501081Z",
     "start_time": "2024-11-14T17:52:16.496174Z"
    }
   },
   "cell_type": "code",
   "source": [
    "m = Model(field=1)\n",
    "try:\n",
    "    d = {m: \"ajsdkf\"}\n",
    "except TypeError as e:\n",
    "    print(e)"
   ],
   "id": "bfb9ebae0e4d27fe",
   "outputs": [],
   "execution_count": 10
  },
  {
   "metadata": {
    "ExecuteTime": {
     "end_time": "2024-11-14T17:52:33.000410Z",
     "start_time": "2024-11-14T17:52:32.997563Z"
    }
   },
   "cell_type": "code",
   "source": "d",
   "id": "bd00b2c2618c86a9",
   "outputs": [
    {
     "data": {
      "text/plain": [
       "{Model(field=1): 'ajsdkf'}"
      ]
     },
     "execution_count": 11,
     "metadata": {},
     "output_type": "execute_result"
    }
   ],
   "execution_count": 11
  }
 ],
 "metadata": {
  "kernelspec": {
   "name": "python3",
   "language": "python",
   "display_name": "Python 3 (ipykernel)"
  }
 },
 "nbformat": 5,
 "nbformat_minor": 9
}
