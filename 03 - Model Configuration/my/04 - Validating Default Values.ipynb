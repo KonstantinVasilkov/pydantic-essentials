{
 "cells": [
  {
   "metadata": {
    "ExecuteTime": {
     "end_time": "2024-11-14T17:42:05.904251Z",
     "start_time": "2024-11-14T17:42:05.866064Z"
    }
   },
   "cell_type": "code",
   "source": "from pydantic import BaseModel, ConfigDict, ValidationError",
   "id": "1719651c20b49976",
   "outputs": [],
   "execution_count": 1
  },
  {
   "metadata": {
    "ExecuteTime": {
     "end_time": "2024-11-14T17:42:39.148714Z",
     "start_time": "2024-11-14T17:42:39.077526Z"
    }
   },
   "cell_type": "code",
   "source": [
    "class Model(BaseModel):\n",
    "    field_1: int = None\n",
    "    field_2: str = 100"
   ],
   "id": "6ff41a8a0b1daa2a",
   "outputs": [],
   "execution_count": 2
  },
  {
   "metadata": {
    "ExecuteTime": {
     "end_time": "2024-11-14T17:42:46.016894Z",
     "start_time": "2024-11-14T17:42:46.007406Z"
    }
   },
   "cell_type": "code",
   "source": "Model()",
   "id": "fc03c9cc4a19772c",
   "outputs": [
    {
     "data": {
      "text/plain": [
       "Model(field_1=None, field_2=100)"
      ]
     },
     "execution_count": 3,
     "metadata": {},
     "output_type": "execute_result"
    }
   ],
   "execution_count": 3
  },
  {
   "metadata": {
    "ExecuteTime": {
     "end_time": "2024-11-14T17:43:22.808699Z",
     "start_time": "2024-11-14T17:43:22.802452Z"
    }
   },
   "cell_type": "code",
   "source": [
    "try:\n",
    "    Model(field_1=None, field_2=100)\n",
    "except ValidationError as e:\n",
    "    print(e)"
   ],
   "id": "219ccf7fa3acc708",
   "outputs": [
    {
     "name": "stdout",
     "output_type": "stream",
     "text": [
      "2 validation errors for Model\n",
      "field_1\n",
      "  Input should be a valid integer [type=int_type, input_value=None, input_type=NoneType]\n",
      "    For further information visit https://errors.pydantic.dev/2.9/v/int_type\n",
      "field_2\n",
      "  Input should be a valid string [type=string_type, input_value=100, input_type=int]\n",
      "    For further information visit https://errors.pydantic.dev/2.9/v/string_type\n"
     ]
    }
   ],
   "execution_count": 5
  },
  {
   "metadata": {
    "ExecuteTime": {
     "end_time": "2024-11-14T17:43:43.146937Z",
     "start_time": "2024-11-14T17:43:43.141519Z"
    }
   },
   "cell_type": "code",
   "source": [
    "class Model(BaseModel):\n",
    "    model_config = ConfigDict(validate_default=True)\n",
    "    field_1: int = None\n",
    "    field_2: str = 100\n"
   ],
   "id": "a73177e518e18e05",
   "outputs": [],
   "execution_count": 6
  },
  {
   "metadata": {
    "ExecuteTime": {
     "end_time": "2024-11-14T17:44:04.527942Z",
     "start_time": "2024-11-14T17:44:04.522681Z"
    }
   },
   "cell_type": "code",
   "source": [
    "try:\n",
    "    Model()\n",
    "except ValidationError as e:\n",
    "    print(e)"
   ],
   "id": "d79a5eed2b1f7972",
   "outputs": [
    {
     "name": "stdout",
     "output_type": "stream",
     "text": [
      "2 validation errors for Model\n",
      "field_1\n",
      "  Input should be a valid integer [type=int_type, input_value=None, input_type=NoneType]\n",
      "    For further information visit https://errors.pydantic.dev/2.9/v/int_type\n",
      "field_2\n",
      "  Input should be a valid string [type=string_type, input_value=100, input_type=int]\n",
      "    For further information visit https://errors.pydantic.dev/2.9/v/string_type\n"
     ]
    }
   ],
   "execution_count": 7
  }
 ],
 "metadata": {
  "kernelspec": {
   "name": "python3",
   "language": "python",
   "display_name": "Python 3 (ipykernel)"
  }
 },
 "nbformat": 5,
 "nbformat_minor": 9
}
